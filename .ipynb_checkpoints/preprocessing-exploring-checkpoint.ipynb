{
 "cells": [
  {
   "cell_type": "code",
   "execution_count": 1,
   "metadata": {},
   "outputs": [],
   "source": [
    "import re\n",
    "from matplotlib import pyplot as plt\n",
    "import pickle\n",
    "import pyrouge\n",
    "from datasets import load_dataset\n",
    "import nltk\n",
    "from sentence_transformers import SentenceTransformer, util\n",
    "import numpy as np\n",
    "from LexRank import degree_centrality_scores\n"
   ]
  },
  {
   "cell_type": "markdown",
   "metadata": {},
   "source": [
    "# To-Do\n",
    "- read emnlp paper [done]\n",
    "- read up on lexrank [done]\n",
    "- find and download xsum dataset [done]\n",
    "- try lexrank on some sentences in xsum dataset [done]\n",
    "- read up on sentence transformers [done]\n",
    "- figure out how people trained xsum models. [done]\n",
    "- train encoder-decoder transformer on xsum "
   ]
  },
  {
   "cell_type": "markdown",
   "metadata": {},
   "source": [
    "# Stuff I did\n",
    "- Data Preprocessing\n",
    "    - replaced `\\n` with space character (` `)\n",
    "    - removed all duplicate sentences\n",
    "    - removed 178 examples larger than 100000 chars and 4746 examples shorter than 2500 chars for a total of 4924 examples from the training set. This is roughly 5% of it. This is just a heuristic. This removal will be applied using `omit`"
   ]
  },
  {
   "cell_type": "code",
   "execution_count": 4,
   "metadata": {},
   "outputs": [
    {
     "name": "stderr",
     "output_type": "stream",
     "text": [
      "Reusing dataset scientific_papers (C:\\Users\\alexd\\.cache\\huggingface\\datasets\\scientific_papers\\pubmed\\1.1.1\\b941f4678d5bed229aca0ab5b4cc943dadf74a8ab153178487bdf51810dc4f67)\n"
     ]
    }
   ],
   "source": [
    "scientific_papers = load_dataset('scientific_papers', 'pubmed')"
   ]
  },
  {
   "cell_type": "code",
   "execution_count": 67,
   "metadata": {
    "scrolled": true
   },
   "outputs": [
    {
     "name": "stdout",
     "output_type": "stream",
     "text": [
      "Num sentences: 83\n",
      "\n",
      "\n",
      "Summary:\n",
      "among 32 samples in hiv - infected patients , four ( 12.5% ) were culture positive for m. tuberculosis and none of them were positive for nocardia .\n",
      "based on our data the prevalence of nocardiosis and also concomitant infection with tuberculosis in our study was 6.25% ( 2/32 ) in hiv - infected patients and 1.05% ( 2/189 ) for all cases .\n",
      "out of 140 sputum samples from african hiv - positive individuals clinically suspected of having tuberculosis ( tb ) , the frequency of nocardiosis was reported as 3.6% ( 19 ) .\n",
      "as clinical manifestation of pulmonary tuberculosis and nocardiosis are similar , laboratory tests are required in order to distinguish of nocardiosis from tuberculosis .\n",
      "some reports indicate that greater than two - thirds of the patients diagnosed with pulmonary nocardiosis were initially diagnosed as having tuberculosis and about 5% of the patients with proven pulmonary tuberculosis were shown to have co - infection with nocardia ( 18 ) .\n"
     ]
    }
   ],
   "source": [
    "\"\"\"\n",
    "This example uses LexRank (https://www.aaai.org/Papers/JAIR/Vol22/JAIR-2214.pdf)\n",
    "to create an extractive summarization of a long document.\n",
    "The document is splitted into sentences using NLTK, then the sentence embeddings are computed. We\n",
    "then compute the cosine-similarity across all possible sentence pairs.\n",
    "We then use LexRank to find the most central sentences in the document, which form our summary.\n",
    "Input document: First section from the English Wikipedia Section\n",
    "Output summary:\n",
    "Located at the southern tip of the U.S. state of New York, the city is the center of the New York metropolitan area, the largest metropolitan area in the world by urban landmass.\n",
    "New York City (NYC), often called simply New York, is the most populous city in the United States.\n",
    "Anchored by Wall Street in the Financial District of Lower Manhattan, New York City has been called both the world's leading financial center and the most financially powerful city in the world, and is home to the world's two largest stock exchanges by total market capitalization, the New York Stock Exchange and NASDAQ.\n",
    "New York City has been described as the cultural, financial, and media capital of the world, significantly influencing commerce, entertainment, research, technology, education, politics, tourism, art, fashion, and sports.\n",
    "If the New York metropolitan area were a sovereign state, it would have the eighth-largest economy in the world.\n",
    "\"\"\"\n",
    "\n",
    "\n",
    "\n",
    "model = SentenceTransformer('paraphrase-distilroberta-base-v1')\n",
    "\n",
    "# Our input document we want to summarize\n",
    "# As example, we take the first section from Wikipedia\n",
    "document = scientific_papers['train'][200]['article'].replace('\\n', ' ')\n",
    "\n",
    "\"\"\"\n",
    "New York City (NYC), often called simply New York, is the most populous city in the United States. With an estimated 2019 population of 8,336,817 distributed over about 302.6 square miles (784 km2), New York City is also the most densely populated major city in the United States. Located at the southern tip of the U.S. state of New York, the city is the center of the New York metropolitan area, the largest metropolitan area in the world by urban landmass. With almost 20 million people in its metropolitan statistical area and approximately 23 million in its combined statistical area, it is one of the world's most populous megacities. New York City has been described as the cultural, financial, and media capital of the world, significantly influencing commerce, entertainment, research, technology, education, politics, tourism, art, fashion, and sports. Home to the headquarters of the United Nations, New York is an important center for international diplomacy.\n",
    "Situated on one of the world's largest natural harbors, New York City is composed of five boroughs, each of which is a county of the State of New York. The five boroughs—Brooklyn, Queens, Manhattan, the Bronx, and Staten Island—were consolidated into a single city in 1898. The city and its metropolitan area constitute the premier gateway for legal immigration to the United States. As many as 800 languages are spoken in New York, making it the most linguistically diverse city in the world. New York is home to more than 3.2 million residents born outside the United States, the largest foreign-born population of any city in the world as of 2016. As of 2019, the New York metropolitan area is estimated to produce a gross metropolitan product (GMP) of $2.0 trillion. If the New York metropolitan area were a sovereign state, it would have the eighth-largest economy in the world. New York is home to the highest number of billionaires of any city in the world.\n",
    "New York City traces its origins to a trading post founded by colonists from the Dutch Republic in 1624 on Lower Manhattan; the post was named New Amsterdam in 1626. The city and its surroundings came under English control in 1664 and were renamed New York after King Charles II of England granted the lands to his brother, the Duke of York. The city was regained by the Dutch in July 1673 and was subsequently renamed New Orange for one year and three months; the city has been continuously named New York since November 1674. New York City was the capital of the United States from 1785 until 1790, and has been the largest U.S. city since 1790. The Statue of Liberty greeted millions of immigrants as they came to the U.S. by ship in the late 19th and early 20th centuries, and is a symbol of the U.S. and its ideals of liberty and peace. In the 21st century, New York has emerged as a global node of creativity, entrepreneurship, and environmental sustainability, and as a symbol of freedom and cultural diversity. In 2019, New York was voted the greatest city in the world per a survey of over 30,000 people from 48 cities worldwide, citing its cultural diversity.\n",
    "Many districts and landmarks in New York City are well known, including three of the world's ten most visited tourist attractions in 2013. A record 62.8 million tourists visited New York City in 2017. Times Square is the brightly illuminated hub of the Broadway Theater District, one of the world's busiest pedestrian intersections, and a major center of the world's entertainment industry. Many of the city's landmarks, skyscrapers, and parks are known around the world. Manhattan's real estate market is among the most expensive in the world. Providing continuous 24/7 service and contributing to the nickname The City that Never Sleeps, the New York City Subway is the largest single-operator rapid transit system worldwide, with 472 rail stations. The city has over 120 colleges and universities, including Columbia University, New York University, Rockefeller University, and the City University of New York system, which is the largest urban public university system in the United States. Anchored by Wall Street in the Financial District of Lower Manhattan, New York City has been called both the world's leading financial center and the most financially powerful city in the world, and is home to the world's two largest stock exchanges by total market capitalization, the New York Stock Exchange and NASDAQ.\n",
    "\"\"\"\n",
    "\n",
    "#Split the document into sentences\n",
    "sentences = list(set(nltk.sent_tokenize(document)))\n",
    "print(\"Num sentences:\", len(sentences))\n",
    "\n",
    "#Compute the sentence embeddings\n",
    "embeddings = model.encode(sentences, convert_to_tensor=True)\n",
    "\n",
    "#Compute the pair-wise cosine similarities\n",
    "cos_scores = util.pytorch_cos_sim(embeddings, embeddings).numpy()\n",
    "\n",
    "#Compute the centrality for each sentence\n",
    "centrality_scores = degree_centrality_scores(cos_scores, threshold=None)\n",
    "\n",
    "#We argsort so that the first element is the sentence with the highest score\n",
    "most_central_sentence_indices = np.argsort(-centrality_scores)\n",
    "\n",
    "\n",
    "#Print the 5 sentences with the highest scores\n",
    "print(\"\\n\\nSummary:\")\n",
    "for idx in most_central_sentence_indices[0:5]:\n",
    "    print(sentences[idx].strip())"
   ]
  },
  {
   "cell_type": "code",
   "execution_count": 229,
   "metadata": {},
   "outputs": [],
   "source": [
    "test = ['as clinical manifestation of pulmonary tuberculosis and nocardiosis are similar , laboratory tests are required in order to distinguish of nocardiosis from tuberculosis',\n",
    "       'due to the fact that clinical manifestation of pulmonary tuberculosis and nocardiosis are similar , we should use laboratory test to differentiate nocardiosis from tuberculosis']\n",
    "embeddings = model.encode(test, convert_to_tensor = True)\n",
    "cos_scores = util.pytorch_cos_sim(embeddings, embeddings).numpy()"
   ]
  },
  {
   "cell_type": "code",
   "execution_count": 246,
   "metadata": {},
   "outputs": [],
   "source": []
  },
  {
   "cell_type": "code",
   "execution_count": 69,
   "metadata": {},
   "outputs": [
    {
     "data": {
      "text/plain": [
       "' background : tuberculosis ( tb ) remains as one of the most serious infectious diseases in the world .   pulmonary tuberculosis can occur with other pulmonary diseases caused by opportunistic organisms such as nocardia spp . particularly in immunocompromised patients .   therefore , diagnosis of co - infection at the early stage of the disease could be lifesaving.objectives:the goal of this study was to detect mycobacterium tuberculosis and nocardia spp . in sputum specimens in order to assess the concomitant nocardiosis and tuberculosis in patients with suspected pulmonary tuberculosis.patients and methods : from march 2011 to april 2012 , 189 sputum specimens were obtained from patients who were suspected of having pulmonary tuberculosis .   out of 189 samples , 32 of the samples belonged to hospitalized hiv - infected patients .   samples were examined by gram and ziehl - nelsen staining , culture and pcr methods.results:from 157 sputum specimens , positive samples by acid fast staining , culture and pcr for m. tuberculosis were reported for 7.6% ( 12/157 ) , 10.1% ( 16/157 ) and 7% ( 11/157 ) of samples , respectively .   no results were obtained by the described methods for nocardia spp . among 32 samples of hiv - infected patients , four ( 12.5% ) had positive results for acid fast staining , culture and pcr detecting m. tuberculosis while only two samples had positive results for nocardia spp . by pcr and no results   were reported by culture , gram and acid fast staining for this organism.conclusions:concurrent pulmonary nocardiosis and tuberculosis is frequent in hiv - infected patients .   rapid and sensitive methods such as pcr are recommended for detection of such co - infections . '"
      ]
     },
     "execution_count": 69,
     "metadata": {},
     "output_type": "execute_result"
    }
   ],
   "source": [
    "scientific_papers['train'][200]['abstract'].replace('\\n', ' ')"
   ]
  },
  {
   "cell_type": "code",
   "execution_count": 65,
   "metadata": {
    "scrolled": true
   },
   "outputs": [
    {
     "data": {
      "text/plain": [
       "array([ 65,  74,  92,  69,  78,  79,  91,  87,  73,  64,  19,  94,  11,\n",
       "       101,  58,  39,  83,  89, 108,  82,   6,  67,  76,  61,  70, 109,\n",
       "        98,  60,  41,  15,  80,  21, 107,   3,  71,  62,  96,  99,  14,\n",
       "        22,  55,  36,  12,  88,  85,  93,  17,  25,  44,   0,  38,  57,\n",
       "       103,  84,  31,  50,  90,  20,  10, 104,  63,  72,  66,  75,  13,\n",
       "        29,  48, 106,  28,  47,  97,  86,   1,   9,  40,  59,   7,  16,\n",
       "         5,  18,  54,  35, 110,   8,   4,  24,  43,  56,  37,  27,  46,\n",
       "        33,  52,  51,  32,  34,  53, 100,  30,  49,  81,  23,  42,  26,\n",
       "        45,  77,  68,   2, 105,  95, 102], dtype=int64)"
      ]
     },
     "execution_count": 65,
     "metadata": {},
     "output_type": "execute_result"
    }
   ],
   "source": [
    "most_central_sentence_indices"
   ]
  },
  {
   "cell_type": "code",
   "execution_count": 66,
   "metadata": {
    "scrolled": true
   },
   "outputs": [
    {
     "data": {
      "text/plain": [
       "['tuberculosis ( tb ) is caused by the mycobacterium tuberculosis , a member of the m. tuberculosis complex ( mtbc ) .',\n",
       " 'according to the world health organization ( who ) , in 2010 , there were an estimated 12.0 million prevalent cases of tb ( equivalent to 178 cases per 100000 individuals ) and approximately 1.4 million people died of tb during that year .',\n",
       " 'most of the cases in 2009 ( 55% ) occurred in asia ( 1 ) .',\n",
       " 'according to the  administration of tuberculosis and leprosy control  of the ministry of health and medical education in iran , in 2010 , a total of 10485 old and new cases of tb were reported in iran and of these cases , 326 patients ( around 2.2% ) were hiv positive ( 2 ) .',\n",
       " 'the diseases caused by mycobacterium complex have become more important in the recent years , particularly in association with the worldwide pandemic situation caused by human immunodeficiency virus ( hiv ) .',\n",
       " 'in 2010 , in addition , there were an estimated 0.35 million deaths among tb cases that were hiv - positive .',\n",
       " 'according to who , the incidence of pulmonary tuberculosis in hiv - positive patients in iran was 0.38 ( 0.28 - 0.51 ) per 100000 individuals in 2012 ( 3 ) .',\n",
       " 'some opportunistic microorganisms such as nocardia spp .',\n",
       " 'are gram - positive ( weakly acid fast ) and filamentous with a branching appearance and are not part of the normal human bacterial flora .',\n",
       " 'to date at least sixteen species capable of producing disease in humans have been identified ( 4 ) .',\n",
       " 'pulmonary disease is the predominant clinical presentation of this microorganism and can be fatal if untreated .',\n",
       " 'untreated pulmonary nocardiosis is similar to tuberculosis and n. asteroids is the most frequent cause of pulmonary infection in humans ( 85% ) ( 5 ) .',\n",
       " 'since the clinical and radiological manifestations are non - specific , pulmonary nocardiosis could be mistaken with other infections or other bacterial pneumonia .',\n",
       " 'in addition , nocardiosis may be under reported because it is not among the aids - defining criteria ( 6 ) .',\n",
       " 'diagnosis of pulmonary nocardiosis is dependent on the isolation or demonstration of the organism from respiratory secretions such as sputum or tissue specimens .',\n",
       " 'nocardia as a m. tuberculosis is a slow growing organism that requires prolonged incubation for at least 4 - 6 weeks ( 7 ) .',\n",
       " 'the diagnosis of nocardiosis is currently based on direct examination and conventional culture ; serology is usually not useful .',\n",
       " 'treatment of nocardiosis is different from tuberculosis regarding therapeutic agents , route of administration and duration of therapy ( 8) .',\n",
       " 'sulfonamides have been the agents of choice for the treatment of nocardiosis , however combination therapy with two or more agents is recommended .',\n",
       " 'although nocardiosis is an uncommon illness , co - infection of this disease with tuberculosis has been reported ( 9 ) .',\n",
       " 'the aim of this study was to assess the presence of nocardia spp .',\n",
       " 'and m. tuberculosis in sputum specimens of patients with pulmonary tuberculosis .',\n",
       " 'in the meantime , 32 hiv - infected patients who were suspected of having pulmonary tuberculosis were included in this study in order to evaluate concomitant infection in these patients .',\n",
       " 'a total of 189 sputum samples were obtained from the reference mycobacteriology laboratory , ahvaz jundishapur university of medical sciences from march 2011 to april 2012 .',\n",
       " 'all specimens were processed immediately according to standard routine diagnosis procedures by the naoh / n - acetyl - l - cysteine ( nalc ) method .',\n",
       " 'next , concentrated specimens were used for smear preparation , culture and pcr assay ( 10 , 11 ) .',\n",
       " 'furthermore , 250 l of each concentrated sputum specimen was inoculated onto lowenstein - jensen ( l - j ) media ( merck , germany ) .',\n",
       " 'are acid fast and can survive the decontamination of clinical specimens with sodium hydroxide and nalc methods , thereby , they can grow on l - j medium .',\n",
       " 'cultures were examined weekly and after 8 weeks of incubation , cultures , which showed no growth , were reported negative and discarded .',\n",
       " 'for microscopic examination , using a disposable pasteur pipette , one drop of the sediment of the sputum specimen was spread on each clean microscope slide and after air drying and fixation by heat , the smears were stained by ziehl - neelsen and gram staining ( 10 ) .',\n",
       " 'after decontamination , the chromosomal dna was extracted using proteinase k and phenol : chloroform , and then precipitated by ethanol and isopropanol , according to standard procedures ( 12 ) .',\n",
       " 'the purified dna was amplified with specific pairs of primers is1 ( 5ctcgtccagcgccgcttcgg 3 ) and is2 ( 5cctgcgagcgtaggcggtgg 3 ) for m. tuberculosis complex strains ann microbiol .',\n",
       " 'the pcr protocols were optimized to 35 cycles consisting of 45 seconds at 94c for denaturation , 30 seconds at 68c for annealing and 30 seconds at 72c for extension , followed by a final 5 minute extension at 72c .',\n",
       " 'primers ng1 ( 5ctcgtccagcgccgcttcgg3 ) and ng2 ( 5cctgcgagcgtaggcggtgg3 ) were used to amplify a nocardia genus specific 590-bp fragment of 16s rrna .',\n",
       " 'the pcr protocols were optimized to 40 cycles consisting of 45 seconds at 94c for denaturation , 30 seconds at 57c for annealing and 30 seconds at 72c for extension , followed by a final 5 minute extension at 72c .',\n",
       " 'amplification with these primers was observed by electrophoresis on 2% ( w / v ) agarose gel stained with ethidium bromide ( figure 1 ) .',\n",
       " 'the n. asteroides atcc 19247 and m. tuberculosis h37rv were used as positive reference strains .',\n",
       " 'two pcrs for each sample were performed in separate tubes with two pairs of primers .',\n",
       " 'one set was dedicated to the m. tuberculosis complex , whereas the other set was for nocardia spp .',\n",
       " 'for each round of pcr the investigators were blinded to clinical data during the experiment for detection of microbial agents co - infection .',\n",
       " 'all specimens were unnamed and labeled by a secure code in the reference mycobacteriology laboratory .',\n",
       " 'a : clinical sample of m. tuberculosis .',\n",
       " 'a total of 189 sputum samples were obtained from the reference mycobacteriology laboratory , ahvaz jundishapur university of medical sciences from march 2011 to april 2012 .',\n",
       " 'all specimens were processed immediately according to standard routine diagnosis procedures by the naoh / n - acetyl - l - cysteine ( nalc ) method .',\n",
       " 'next , concentrated specimens were used for smear preparation , culture and pcr assay ( 10 , 11 ) .',\n",
       " 'furthermore , 250 l of each concentrated sputum specimen was inoculated onto lowenstein - jensen ( l - j ) media ( merck , germany ) .',\n",
       " 'are acid fast and can survive the decontamination of clinical specimens with sodium hydroxide and nalc methods , thereby , they can grow on l - j medium .',\n",
       " 'cultures were examined weekly and after 8 weeks of incubation , cultures , which showed no growth , were reported negative and discarded .',\n",
       " 'for microscopic examination , using a disposable pasteur pipette , one drop of the sediment of the sputum specimen was spread on each clean microscope slide and after air drying and fixation by heat , the smears were stained by ziehl - neelsen and gram staining ( 10 ) .',\n",
       " 'after decontamination , the chromosomal dna was extracted using proteinase k and phenol : chloroform , and then precipitated by ethanol and isopropanol , according to standard procedures ( 12 ) .',\n",
       " 'the purified dna was amplified with specific pairs of primers is1 ( 5ctcgtccagcgccgcttcgg 3 ) and is2 ( 5cctgcgagcgtaggcggtgg 3 ) for m. tuberculosis complex strains ann microbiol .',\n",
       " 'the pcr protocols were optimized to 35 cycles consisting of 45 seconds at 94c for denaturation , 30 seconds at 68c for annealing and 30 seconds at 72c for extension , followed by a final 5 minute extension at 72c .',\n",
       " 'primers ng1 ( 5ctcgtccagcgccgcttcgg3 ) and ng2 ( 5cctgcgagcgtaggcggtgg3 ) were used to amplify a nocardia genus specific 590-bp fragment of 16s rrna .',\n",
       " 'the pcr protocols were optimized to 40 cycles consisting of 45 seconds at 94c for denaturation , 30 seconds at 57c for annealing and 30 seconds at 72c for extension , followed by a final 5 minute extension at 72c .',\n",
       " 'amplification with these primers was observed by electrophoresis on 2% ( w / v ) agarose gel stained with ethidium bromide ( figure 1 ) .',\n",
       " 'the n. asteroides atcc 19247 and m. tuberculosis h37rv were used as positive reference strains .',\n",
       " 'two pcrs for each sample were performed in separate tubes with two pairs of primers .',\n",
       " 'one set was dedicated to the m. tuberculosis complex , whereas the other set was for nocardia spp .',\n",
       " 'for each round of pcr the investigators were blinded to clinical data during the experiment for detection of microbial agents co - infection .',\n",
       " 'all specimens were unnamed and labeled by a secure code in the reference mycobacteriology laboratory .',\n",
       " 'a : clinical sample of m. tuberculosis .',\n",
       " 'among the 157 outpatients , 7.6% ( 12/157 ) of specimens had positive results for acid fast bacilli by acid fast staining but none of the samples were positive for nocardia spp .',\n",
       " 'after cultures evolution , 10.1% ( 16/157 ) of specimens had positive results for mtbc while no specimens grew nocardia spp .',\n",
       " 'during microscopic examination by the gram staining method , we could nt find any particle morphologically similar to nocardia .',\n",
       " 'out of 157 samples , 7% ( 11/157 ) were positive by pcr for mtbc and none of the samples was positive for nocardia by pcr .',\n",
       " 'among 32 samples in hiv - infected patients , four ( 12.5% ) were culture positive for m. tuberculosis and none of them were positive for nocardia .',\n",
       " 'furthermore , these four samples were positive by acid fast staining and pcr assay .',\n",
       " 'out of these four samples , two were positive for nocardia spp .',\n",
       " 'by the pcr method .',\n",
       " 'based on our data the prevalence of nocardiosis and also concomitant infection with tuberculosis in our study was 6.25% ( 2/32 ) in hiv - infected patients and 1.05% ( 2/189 ) for all cases .',\n",
       " 'among the 157 outpatients , 7.6% ( 12/157 ) of specimens had positive results for acid fast bacilli by acid fast staining but none of the samples were positive for nocardia spp .',\n",
       " 'after cultures evolution , 10.1% ( 16/157 ) of specimens had positive results for mtbc while no specimens grew nocardia spp .',\n",
       " 'during microscopic examination by the gram staining method , we could nt find any particle morphologically similar to nocardia .',\n",
       " 'out of 157 samples , 7% ( 11/157 ) were positive by pcr for mtbc and none of the samples was positive for nocardia by pcr .',\n",
       " 'among 32 samples in hiv - infected patients , four ( 12.5% ) were culture positive for m. tuberculosis and none of them were positive for nocardia .',\n",
       " 'furthermore , these four samples were positive by acid fast staining and pcr assay .',\n",
       " 'out of these four samples , two were positive for nocardia spp .',\n",
       " 'by the pcr method .',\n",
       " 'based on our data the prevalence of nocardiosis and also concomitant infection with tuberculosis in our study was 6.25% ( 2/32 ) in hiv - infected patients and 1.05% ( 2/189 ) for all cases .',\n",
       " 'as clinical manifestation of pulmonary tuberculosis and nocardiosis are similar , laboratory tests are required in order to distinguish of nocardiosis from tuberculosis .',\n",
       " 'nocardia is a slow growing bacteria and the contamination risk of the culture with other bacteria and fungi is high .',\n",
       " 'therefore , the suggested approach for this problem is molecular techniques , since they are more sensitive than conventional diagnostic methods ( 15 ) .',\n",
       " 'as two samples were positive for nocardia spp .',\n",
       " 'and mtbc using the pcr method , it is suggested that concurrent pulmonary tuberculosis and nocardiosis may developed coincidently .',\n",
       " 'nocardiosis has been reported to be more prevalent in hiv infected patients .',\n",
       " 'in these patients , infection with opportunistic agents such as nocardia is attributed to suppression of cell mediated immunity ( 16 ) .',\n",
       " 'it has been suggested that , the most common condition predisposing patients to nocardiosis is underlying chronic lung disease .',\n",
       " 'in this study it was found that the coincidence of pulmonary tuberculosis and nocardiosis was 1% for the entire study population and 6.25% among hiv - infected patients .',\n",
       " 'the incidence of pulmonary nocardiosis in hiv - infected patients has been previously reported by some investigators .',\n",
       " 'pulmonary nocardiosis in hiv - infected patients with suspected pulmonary tuberculosis was reported to be 3% by alnaum et al .',\n",
       " '; they reported an average of 3 - 4% for this infection ( 17 ) .',\n",
       " 'some reports indicate that greater than two - thirds of the patients diagnosed with pulmonary nocardiosis were initially diagnosed as having tuberculosis and about 5% of the patients with proven pulmonary tuberculosis were shown to have co - infection with nocardia ( 18 ) .',\n",
       " 'out of 140 sputum samples from african hiv - positive individuals clinically suspected of having tuberculosis ( tb ) , the frequency of nocardiosis was reported as 3.6% ( 19 ) .',\n",
       " 'in areas where hiv - associated tb is common , only a few case reports of concomitant infection of nocardia and tb have been published in the literature ( 20 ) .',\n",
       " 'a prevalence of 1.4% for pulmonary nocardiosis was reported in a tuberculosis and chest diseases hospital in amritsar by singh et al .',\n",
       " 'although , pintado et al .',\n",
       " 'indicated that the overall incidence of nocardiosis among hiv - infected patients is between 0.1 and 0.4% , and is associated with high morbidity and mortality rates ( 18 ) .',\n",
       " 'concurrent pulmonary aspergillosis and nocardiosis was reported in an immunocompromised patient following long - term steroid therapy ( 22 ) .',\n",
       " 'in this study nocardia was not distinguished in sputum specimens using conventional methods , however , positive samples were determined using the pcr assay .',\n",
       " 'our study showed that the pcr technique was more sensitive than conventional methods in detection of nocardia .',\n",
       " 'accordance of molecular techniques with conventional methods has been reported as 70 to 90% by several studies ( 22 , 23 ) .',\n",
       " 'in iran , several studies investigated pulmonary nocardiosis or tuberculosis in patients with various clinical symptoms .',\n",
       " 'recently , aminzade et al .',\n",
       " 'reported concomitant pulmonary nocardiosis and tuberculosis in a patient with rheumatoid arthritis ( 24 ) .',\n",
       " 'in a study by eshraghi and amin , nocardia asteroides was isolated from only one patient suffering from cushing s syndrome with bronchogenic carcinoma amongst 142 patients with advanced symptomatic pulmonary disease in tehran , iran ( 25 ) .',\n",
       " 'in another study from iran ( shojaei et al . )',\n",
       " 'clinical isolation of n. cyricigeorgica from patients with various clinical manifestations was performed ( 26 ) .',\n",
       " 'to the best of our knowledge , this is the first study reporting co - infection of nocardiosis and tuberculosis in hiv - positive patients in iran .',\n",
       " 'concurrent pulmonary tuberculosis and nocardiosis is much more frequent in hiv - infected patients and can be fatal .',\n",
       " 'although nocardiosis resembles tuberculosis , first line anti - tuberculous drugs are not efficient for its treatment .',\n",
       " 'therefore , it is important to establish a potent diagnosis method with high sensitivity and specificity such as molecular methods to improve the speed of diagnosis of nocardiosis .']"
      ]
     },
     "execution_count": 66,
     "metadata": {},
     "output_type": "execute_result"
    }
   ],
   "source": [
    "sentences"
   ]
  },
  {
   "cell_type": "code",
   "execution_count": 63,
   "metadata": {},
   "outputs": [
    {
     "data": {
      "text/plain": [
       "'tuberculosis ( tb ) is caused by the mycobacterium tuberculosis , a member of the m. tuberculosis complex ( mtbc ) . according to the world health organization ( who ) , in 2010 , there were an estimated 12.0 million prevalent cases of tb ( equivalent to 178 cases per 100000 individuals ) and approximately 1.4 million people died of tb during that year . most of the cases in 2009 ( 55% ) occurred in asia ( 1 ) . according to the  administration of tuberculosis and leprosy control  of the ministry of health and medical education in iran , in 2010 , a total of 10485 old and new cases of tb were reported in iran and of these cases , 326 patients ( around 2.2% ) were hiv positive ( 2 ) . the diseases caused by mycobacterium complex have become more important in the recent years , particularly in association with the worldwide pandemic situation caused by human immunodeficiency virus ( hiv ) . in 2010 , in addition , there were an estimated 0.35 million deaths among tb cases that were hiv - positive . according to who , the incidence of pulmonary tuberculosis in hiv - positive patients in iran was 0.38 ( 0.28 - 0.51 ) per 100000 individuals in 2012 ( 3 ) . some opportunistic microorganisms such as nocardia spp . are gram - positive ( weakly acid fast ) and filamentous with a branching appearance and are not part of the normal human bacterial flora . to date at least sixteen species capable of producing disease in humans have been identified ( 4 ) . pulmonary disease is the predominant clinical presentation of this microorganism and can be fatal if untreated . untreated pulmonary nocardiosis is similar to tuberculosis and n. asteroids is the most frequent cause of pulmonary infection in humans ( 85% ) ( 5 ) . since the clinical and radiological manifestations are non - specific , pulmonary nocardiosis could be mistaken with other infections or other bacterial pneumonia . in addition , nocardiosis may be under reported because it is not among the aids - defining criteria ( 6 ) . diagnosis of pulmonary nocardiosis is dependent on the isolation or demonstration of the organism from respiratory secretions such as sputum or tissue specimens . nocardia as a m. tuberculosis is a slow growing organism that requires prolonged incubation for at least 4 - 6 weeks ( 7 ) . the diagnosis of nocardiosis is currently based on direct examination and conventional culture ; serology is usually not useful . treatment of nocardiosis is different from tuberculosis regarding therapeutic agents , route of administration and duration of therapy ( 8) . sulfonamides have been the agents of choice for the treatment of nocardiosis , however combination therapy with two or more agents is recommended . although nocardiosis is an uncommon illness , co - infection of this disease with tuberculosis has been reported ( 9 ) . the aim of this study was to assess the presence of nocardia spp . and m. tuberculosis in sputum specimens of patients with pulmonary tuberculosis . in the meantime , 32 hiv - infected patients who were suspected of having pulmonary tuberculosis were included in this study in order to evaluate concomitant infection in these patients . a total of 189 sputum samples were obtained from the reference mycobacteriology laboratory , ahvaz jundishapur university of medical sciences from march 2011 to april 2012 . all specimens were processed immediately according to standard routine diagnosis procedures by the naoh / n - acetyl - l - cysteine ( nalc ) method . next , concentrated specimens were used for smear preparation , culture and pcr assay ( 10 , 11 ) . furthermore , 250 l of each concentrated sputum specimen was inoculated onto lowenstein - jensen ( l - j ) media ( merck , germany ) . are acid fast and can survive the decontamination of clinical specimens with sodium hydroxide and nalc methods , thereby , they can grow on l - j medium . cultures were examined weekly and after 8 weeks of incubation , cultures , which showed no growth , were reported negative and discarded . for microscopic examination , using a disposable pasteur pipette , one drop of the sediment of the sputum specimen was spread on each clean microscope slide and after air drying and fixation by heat , the smears were stained by ziehl - neelsen and gram staining ( 10 ) . after decontamination , the chromosomal dna was extracted using proteinase k and phenol : chloroform , and then precipitated by ethanol and isopropanol , according to standard procedures ( 12 ) . the purified dna was amplified with specific pairs of primers is1 ( 5ctcgtccagcgccgcttcgg 3 ) and is2 ( 5cctgcgagcgtaggcggtgg 3 ) for m. tuberculosis complex strains ann microbiol . the pcr protocols were optimized to 35 cycles consisting of 45 seconds at 94c for denaturation , 30 seconds at 68c for annealing and 30 seconds at 72c for extension , followed by a final 5 minute extension at 72c . primers ng1 ( 5ctcgtccagcgccgcttcgg3 ) and ng2 ( 5cctgcgagcgtaggcggtgg3 ) were used to amplify a nocardia genus specific 590-bp fragment of 16s rrna . the pcr protocols were optimized to 40 cycles consisting of 45 seconds at 94c for denaturation , 30 seconds at 57c for annealing and 30 seconds at 72c for extension , followed by a final 5 minute extension at 72c . amplification with these primers was observed by electrophoresis on 2% ( w / v ) agarose gel stained with ethidium bromide ( figure 1 ) . the n. asteroides atcc 19247 and m. tuberculosis h37rv were used as positive reference strains . two pcrs for each sample were performed in separate tubes with two pairs of primers . one set was dedicated to the m. tuberculosis complex , whereas the other set was for nocardia spp . for each round of pcr the investigators were blinded to clinical data during the experiment for detection of microbial agents co - infection . all specimens were unnamed and labeled by a secure code in the reference mycobacteriology laboratory . a : clinical sample of m. tuberculosis . a total of 189 sputum samples were obtained from the reference mycobacteriology laboratory , ahvaz jundishapur university of medical sciences from march 2011 to april 2012 . all specimens were processed immediately according to standard routine diagnosis procedures by the naoh / n - acetyl - l - cysteine ( nalc ) method . next , concentrated specimens were used for smear preparation , culture and pcr assay ( 10 , 11 ) . furthermore , 250 l of each concentrated sputum specimen was inoculated onto lowenstein - jensen ( l - j ) media ( merck , germany ) . are acid fast and can survive the decontamination of clinical specimens with sodium hydroxide and nalc methods , thereby , they can grow on l - j medium . cultures were examined weekly and after 8 weeks of incubation , cultures , which showed no growth , were reported negative and discarded . for microscopic examination , using a disposable pasteur pipette , one drop of the sediment of the sputum specimen was spread on each clean microscope slide and after air drying and fixation by heat , the smears were stained by ziehl - neelsen and gram staining ( 10 ) . after decontamination , the chromosomal dna was extracted using proteinase k and phenol : chloroform , and then precipitated by ethanol and isopropanol , according to standard procedures ( 12 ) . the purified dna was amplified with specific pairs of primers is1 ( 5ctcgtccagcgccgcttcgg 3 ) and is2 ( 5cctgcgagcgtaggcggtgg 3 ) for m. tuberculosis complex strains ann microbiol . the pcr protocols were optimized to 35 cycles consisting of 45 seconds at 94c for denaturation , 30 seconds at 68c for annealing and 30 seconds at 72c for extension , followed by a final 5 minute extension at 72c . primers ng1 ( 5ctcgtccagcgccgcttcgg3 ) and ng2 ( 5cctgcgagcgtaggcggtgg3 ) were used to amplify a nocardia genus specific 590-bp fragment of 16s rrna . the pcr protocols were optimized to 40 cycles consisting of 45 seconds at 94c for denaturation , 30 seconds at 57c for annealing and 30 seconds at 72c for extension , followed by a final 5 minute extension at 72c . amplification with these primers was observed by electrophoresis on 2% ( w / v ) agarose gel stained with ethidium bromide ( figure 1 ) . the n. asteroides atcc 19247 and m. tuberculosis h37rv were used as positive reference strains . two pcrs for each sample were performed in separate tubes with two pairs of primers . one set was dedicated to the m. tuberculosis complex , whereas the other set was for nocardia spp . for each round of pcr the investigators were blinded to clinical data during the experiment for detection of microbial agents co - infection . all specimens were unnamed and labeled by a secure code in the reference mycobacteriology laboratory . a : clinical sample of m. tuberculosis . among the 157 outpatients , 7.6% ( 12/157 ) of specimens had positive results for acid fast bacilli by acid fast staining but none of the samples were positive for nocardia spp . after cultures evolution , 10.1% ( 16/157 ) of specimens had positive results for mtbc while no specimens grew nocardia spp . during microscopic examination by the gram staining method , we could nt find any particle morphologically similar to nocardia . out of 157 samples , 7% ( 11/157 ) were positive by pcr for mtbc and none of the samples was positive for nocardia by pcr . among 32 samples in hiv - infected patients , four ( 12.5% ) were culture positive for m. tuberculosis and none of them were positive for nocardia . furthermore , these four samples were positive by acid fast staining and pcr assay . out of these four samples , two were positive for nocardia spp . by the pcr method . based on our data the prevalence of nocardiosis and also concomitant infection with tuberculosis in our study was 6.25% ( 2/32 ) in hiv - infected patients and 1.05% ( 2/189 ) for all cases . among the 157 outpatients , 7.6% ( 12/157 ) of specimens had positive results for acid fast bacilli by acid fast staining but none of the samples were positive for nocardia spp . after cultures evolution , 10.1% ( 16/157 ) of specimens had positive results for mtbc while no specimens grew nocardia spp . during microscopic examination by the gram staining method , we could nt find any particle morphologically similar to nocardia . out of 157 samples , 7% ( 11/157 ) were positive by pcr for mtbc and none of the samples was positive for nocardia by pcr . among 32 samples in hiv - infected patients , four ( 12.5% ) were culture positive for m. tuberculosis and none of them were positive for nocardia . furthermore , these four samples were positive by acid fast staining and pcr assay . out of these four samples , two were positive for nocardia spp . by the pcr method . based on our data the prevalence of nocardiosis and also concomitant infection with tuberculosis in our study was 6.25% ( 2/32 ) in hiv - infected patients and 1.05% ( 2/189 ) for all cases . as clinical manifestation of pulmonary tuberculosis and nocardiosis are similar , laboratory tests are required in order to distinguish of nocardiosis from tuberculosis . nocardia is a slow growing bacteria and the contamination risk of the culture with other bacteria and fungi is high . therefore , the suggested approach for this problem is molecular techniques , since they are more sensitive than conventional diagnostic methods ( 15 ) . as two samples were positive for nocardia spp . and mtbc using the pcr method , it is suggested that concurrent pulmonary tuberculosis and nocardiosis may developed coincidently . nocardiosis has been reported to be more prevalent in hiv infected patients . in these patients , infection with opportunistic agents such as nocardia is attributed to suppression of cell mediated immunity ( 16 ) . it has been suggested that , the most common condition predisposing patients to nocardiosis is underlying chronic lung disease . in this study it was found that the coincidence of pulmonary tuberculosis and nocardiosis was 1% for the entire study population and 6.25% among hiv - infected patients . the incidence of pulmonary nocardiosis in hiv - infected patients has been previously reported by some investigators . pulmonary nocardiosis in hiv - infected patients with suspected pulmonary tuberculosis was reported to be 3% by alnaum et al . ; they reported an average of 3 - 4% for this infection ( 17 ) . some reports indicate that greater than two - thirds of the patients diagnosed with pulmonary nocardiosis were initially diagnosed as having tuberculosis and about 5% of the patients with proven pulmonary tuberculosis were shown to have co - infection with nocardia ( 18 ) . out of 140 sputum samples from african hiv - positive individuals clinically suspected of having tuberculosis ( tb ) , the frequency of nocardiosis was reported as 3.6% ( 19 ) . in areas where hiv - associated tb is common , only a few case reports of concomitant infection of nocardia and tb have been published in the literature ( 20 ) . a prevalence of 1.4% for pulmonary nocardiosis was reported in a tuberculosis and chest diseases hospital in amritsar by singh et al . although , pintado et al . indicated that the overall incidence of nocardiosis among hiv - infected patients is between 0.1 and 0.4% , and is associated with high morbidity and mortality rates ( 18 ) . concurrent pulmonary aspergillosis and nocardiosis was reported in an immunocompromised patient following long - term steroid therapy ( 22 ) . in this study nocardia was not distinguished in sputum specimens using conventional methods , however , positive samples were determined using the pcr assay . our study showed that the pcr technique was more sensitive than conventional methods in detection of nocardia . accordance of molecular techniques with conventional methods has been reported as 70 to 90% by several studies ( 22 , 23 ) .   in iran , several studies investigated pulmonary nocardiosis or tuberculosis in patients with various clinical symptoms . recently , aminzade et al . reported concomitant pulmonary nocardiosis and tuberculosis in a patient with rheumatoid arthritis ( 24 ) . in a study by eshraghi and amin , nocardia asteroides was isolated from only one patient suffering from cushing s syndrome with bronchogenic carcinoma amongst 142 patients with advanced symptomatic pulmonary disease in tehran , iran ( 25 ) . in another study from iran ( shojaei et al . ) clinical isolation of n. cyricigeorgica from patients with various clinical manifestations was performed ( 26 ) . to the best of our knowledge , this is the first study reporting co - infection of nocardiosis and tuberculosis in hiv - positive patients in iran .   concurrent pulmonary tuberculosis and nocardiosis is much more frequent in hiv - infected patients and can be fatal . although nocardiosis resembles tuberculosis , first line anti - tuberculous drugs are not efficient for its treatment . therefore , it is important to establish a potent diagnosis method with high sensitivity and specificity such as molecular methods to improve the speed of diagnosis of nocardiosis .'"
      ]
     },
     "execution_count": 63,
     "metadata": {},
     "output_type": "execute_result"
    }
   ],
   "source": [
    "scientific_papers['train'][200]['article'].replace('\\n', ' ')"
   ]
  },
  {
   "cell_type": "code",
   "execution_count": 88,
   "metadata": {},
   "outputs": [
    {
     "name": "stdout",
     "output_type": "stream",
     "text": [
      "2625\n",
      "4746\n"
     ]
    }
   ],
   "source": [
    "print(len(toobig))\n",
    "print(len(toosmall))"
   ]
  },
  {
   "cell_type": "markdown",
   "metadata": {},
   "source": [
    "# Visualizing Dataset"
   ]
  },
  {
   "cell_type": "code",
   "execution_count": 234,
   "metadata": {},
   "outputs": [
    {
     "name": "stdout",
     "output_type": "stream",
     "text": [
      "0\n",
      "822179\n",
      "17414.136077849304\n"
     ]
    }
   ],
   "source": [
    "import math \n",
    "mini = math.inf\n",
    "maxi = 0\n",
    "running = 0\n",
    "dist = []\n",
    "toobig = []\n",
    "toosmall = []\n",
    "for i, each in enumerate(scientific_papers['train']):\n",
    "    length = len(each['article'])\n",
    "    if mini > length:\n",
    "        mini = length\n",
    "    elif maxi < length:\n",
    "        maxi = length\n",
    "    running += length\n",
    "    if length > 200000:\n",
    "        toobig.append((i, length))\n",
    "    elif length < 2500:\n",
    "        toosmall.append((i, length))\n",
    "    dist.append(length)\n",
    "print(mini)\n",
    "print(maxi)\n",
    "print(running/len(scientific_papers['train']))"
   ]
  },
  {
   "cell_type": "code",
   "execution_count": 235,
   "metadata": {},
   "outputs": [
    {
     "name": "stdout",
     "output_type": "stream",
     "text": [
      "178\n",
      "4746\n"
     ]
    }
   ],
   "source": [
    "print(len(toobig))\n",
    "print(len(toosmall))"
   ]
  },
  {
   "cell_type": "markdown",
   "metadata": {},
   "source": [
    "lets first visualize the distirbution of the lengths of the documents in the dataset"
   ]
  },
  {
   "cell_type": "code",
   "execution_count": 199,
   "metadata": {},
   "outputs": [
    {
     "data": {
      "image/png": "[encoded data removed]",
      "text/plain": [
       "<Figure size 432x288 with 1 Axes>"
      ]
     },
     "metadata": {
      "needs_background": "light"
     },
     "output_type": "display_data"
    }
   ],
   "source": [
    "n_bins = 500\n",
    "#subdist = [each for each in dist if (each < 50000) and (each > 5000)]\n",
    "x = dist\n",
    "fig, ax = plt.subplots()\n",
    "ax.hist(x, bins=n_bins)\n",
    "plt.show()"
   ]
  },
  {
   "cell_type": "markdown",
   "metadata": {},
   "source": [
    "Let's get a sense of how many extremely long documents we have"
   ]
  },
  {
   "cell_type": "code",
   "execution_count": 202,
   "metadata": {},
   "outputs": [],
   "source": [
    "toobigdist = []\n",
    "for each in toobig:\n",
    "    if each[1] > 100000:\n",
    "        toobigdist.append(each[1])"
   ]
  },
  {
   "cell_type": "code",
   "execution_count": 201,
   "metadata": {},
   "outputs": [
    {
     "data": {
      "image/png": "[encoded data removed]",
      "text/plain": [
       "<Figure size 432x288 with 1 Axes>"
      ]
     },
     "metadata": {
      "needs_background": "light"
     },
     "output_type": "display_data"
    }
   ],
   "source": [
    "n_bins = 1000\n",
    "x = toobigdist\n",
    "fig, ax = plt.subplots()\n",
    "ax.hist(x, bins=n_bins)\n",
    "plt.show()"
   ]
  },
  {
   "cell_type": "markdown",
   "metadata": {},
   "source": [
    "Now let's get a sense of how many extermely short documents we have (< 2000 characters or roughly 400 words)"
   ]
  },
  {
   "cell_type": "code",
   "execution_count": 194,
   "metadata": {},
   "outputs": [],
   "source": [
    "toosmalldist = []\n",
    "for each in toosmall:\n",
    "    if (each[1] < 2500):\n",
    "        toosmalldist.append(each[1])"
   ]
  },
  {
   "cell_type": "code",
   "execution_count": 195,
   "metadata": {},
   "outputs": [
    {
     "data": {
      "text/plain": [
       "4746"
      ]
     },
     "execution_count": 195,
     "metadata": {},
     "output_type": "execute_result"
    }
   ],
   "source": [
    "len(toosmalldist)"
   ]
  },
  {
   "cell_type": "code",
   "execution_count": 196,
   "metadata": {},
   "outputs": [
    {
     "data": {
      "image/png": "[encoded data removed]",
      "text/plain": [
       "<Figure size 432x288 with 1 Axes>"
      ]
     },
     "metadata": {
      "needs_background": "light"
     },
     "output_type": "display_data"
    }
   ],
   "source": [
    "n_bins = 100\n",
    "x = toosmalldist\n",
    "fig, ax = plt.subplots()\n",
    "ax.hist(x, bins=n_bins)\n",
    "plt.show()"
   ]
  },
  {
   "cell_type": "code",
   "execution_count": 203,
   "metadata": {},
   "outputs": [],
   "source": [
    "toosmalldist = []\n",
    "for each in toosmall:\n",
    "    if (each[1] < 2500) and (each[1] > 0):\n",
    "        toosmalldist.append(each[1])"
   ]
  },
  {
   "cell_type": "code",
   "execution_count": 205,
   "metadata": {},
   "outputs": [
    {
     "data": {
      "image/png": "[encoded data removed]",
      "text/plain": [
       "<Figure size 432x288 with 1 Axes>"
      ]
     },
     "metadata": {
      "needs_background": "light"
     },
     "output_type": "display_data"
    }
   ],
   "source": [
    "n_bins = 100\n",
    "x = toosmalldist\n",
    "fig, ax = plt.subplots()\n",
    "ax.hist(x, bins=n_bins)\n",
    "plt.show()"
   ]
  },
  {
   "cell_type": "markdown",
   "metadata": {},
   "source": [
    "There are a lot of documents with no actual article (length 0), we'll remove them.\n",
    "Also, anything shorter than 2500 characters, which is likely around 500 words, probably will not contribute to helping the model learn meaningful summaries from longer form texts. So we'll remove 178+4746=4924 examples from the training set. This is roughly 5% of it. This is just a heuristic.\n",
    "<br><br>\n",
    "We also should check how many examples we have left do not have abstracts (in which case we won't have a ground truth)\n"
   ]
  },
  {
   "cell_type": "code",
   "execution_count": 209,
   "metadata": {},
   "outputs": [],
   "source": [
    "noabs= []\n",
    "for i, each in enumerate(scientific_papers['train']):\n",
    "    length = len(each['article'])\n",
    "    if (length <= 100000) and (length >=2500):\n",
    "        abstractlen = len(each['abstract'])\n",
    "        if abstractlen == 0:\n",
    "            noabs.append(i)\n"
   ]
  },
  {
   "cell_type": "code",
   "execution_count": 211,
   "metadata": {},
   "outputs": [
    {
     "data": {
      "text/plain": [
       "0"
      ]
     },
     "execution_count": 211,
     "metadata": {},
     "output_type": "execute_result"
    }
   ],
   "source": [
    "len(noabs)"
   ]
  },
  {
   "cell_type": "markdown",
   "metadata": {},
   "source": [
    "Nice, there are none.<br><br>\n",
    "Now we can consolidate all the indices of examples we want to eliminate"
   ]
  },
  {
   "cell_type": "code",
   "execution_count": 225,
   "metadata": {},
   "outputs": [],
   "source": [
    "toobigidx = [each[0] for each in toobig]\n",
    "toosmallidx = [each[0] for each in toosmall]\n",
    "omit = toobigidx + toosmallidx\n",
    "\n",
    "#pickle.dump(omit, open(\"omit.p\", 'wb'))\n",
    "#pickle.load(open(\"omit.p\", 'rb'))"
   ]
  },
  {
   "cell_type": "markdown",
   "metadata": {},
   "source": [
    "# Process Dataset"
   ]
  },
  {
   "cell_type": "code",
   "execution_count": 5,
   "metadata": {},
   "outputs": [],
   "source": [
    "from oracle_generator import gen_sentence_labels"
   ]
  },
  {
   "cell_type": "code",
   "execution_count": 24,
   "metadata": {},
   "outputs": [],
   "source": [
    "article = list(dict.fromkeys(nltk.sent_tokenize(scientific_papers['train'][200]['article'].replace('\\n', ' '))))\n",
    "abstract = nltk.sent_tokenize(scientific_papers['train'][200]['abstract'].replace('\\n', ' '))\n",
    "res = nallapati_method(article, abstract)"
   ]
  },
  {
   "cell_type": "code",
   "execution_count": 25,
   "metadata": {},
   "outputs": [
    {
     "ename": "TypeError",
     "evalue": "'float' object is not subscriptable",
     "output_type": "error",
     "traceback": [
      "\u001b[1;31m---------------------------------------------------------------------------\u001b[0m",
      "\u001b[1;31mTypeError\u001b[0m                                 Traceback (most recent call last)",
      "\u001b[1;32m<ipython-input-25-5b1037f0073f>\u001b[0m in \u001b[0;36m<module>\u001b[1;34m\u001b[0m\n\u001b[1;32m----> 1\u001b[1;33m \u001b[1;32mfor\u001b[0m \u001b[0meach\u001b[0m \u001b[1;32min\u001b[0m \u001b[0mres\u001b[0m\u001b[1;33m[\u001b[0m\u001b[1;36m0\u001b[0m\u001b[1;33m]\u001b[0m\u001b[1;33m[\u001b[0m\u001b[1;36m1\u001b[0m\u001b[1;33m]\u001b[0m\u001b[1;33m:\u001b[0m\u001b[1;33m\u001b[0m\u001b[1;33m\u001b[0m\u001b[0m\n\u001b[0m\u001b[0;32m      2\u001b[0m     \u001b[0mprint\u001b[0m\u001b[1;33m(\u001b[0m\u001b[0marticle\u001b[0m\u001b[1;33m[\u001b[0m\u001b[0mint\u001b[0m\u001b[1;33m(\u001b[0m\u001b[0meach\u001b[0m\u001b[1;33m)\u001b[0m\u001b[1;33m]\u001b[0m\u001b[1;33m)\u001b[0m\u001b[1;33m\u001b[0m\u001b[1;33m\u001b[0m\u001b[0m\n",
      "\u001b[1;31mTypeError\u001b[0m: 'float' object is not subscriptable"
     ]
    }
   ],
   "source": [
    "for each in res[0][1]:\n",
    "    print(article[int(each)])"
   ]
  },
  {
   "cell_type": "code",
   "execution_count": 23,
   "metadata": {},
   "outputs": [],
   "source": [
    "from oracle_generator import cal_rouge\n",
    "def nallapati_method(article_sents:list, abstract_sents:list):\n",
    "    \"\"\"implementation of gen_sentence_labels using the method from Nallapati et al. 2016 \n",
    "    After calculating the toprougesentences, greedily append starting from the top and\n",
    "    evaluate rouge against the current summary of sentences until rouge does not improve.\n",
    "    \"\"\"\n",
    "    \n",
    "    sentids_lst = [[sentid] for sentid in range(len(article_sents))]\n",
    "    rougescore_sentwise = []\n",
    "    for sentids in sentids_lst:\n",
    "        rougescore_sentwise.append(cal_rouge(sentids, article_sents, abstract_sents))\n",
    "\n",
    "    rougescore_sentwise.sort(reverse=True)\n",
    "\n",
    "    toprougesentences = [item[1][0] for item in rougescore_sentwise[:10]]\n",
    "    toprougesentences.sort()\n",
    "    \n",
    "    selected_summary = []\n",
    "    candidate_summary = []\n",
    "    prev_score = -1\n",
    "    cur_score = 0 #placeholder\n",
    "    topn = 1\n",
    "    while prev_score < cur_score:\n",
    "        prev_score = cur_score\n",
    "        selected_summary = candidate_summary\n",
    "        candidate_summary = selected_summary + toprougesentences[:topn]\n",
    "        cur_score, candidate_summary = cal_rouge(candidate_summary, article_sents, abstract_sents)\n",
    "        topn += 1\n",
    "    return (cur_score, selected_summary)"
   ]
  },
  {
   "cell_type": "code",
   "execution_count": null,
   "metadata": {},
   "outputs": [],
   "source": [
    "\n",
    "# Credits\n",
    "# Written by Shashi Narayan to use original ROUGE\n",
    "# Improved by Yang Liu to use a must faster ROUGE\n",
    "\n",
    "\n",
    "import os\n",
    "import re\n",
    "import itertools\n",
    "from multiprocessing import Pool\n",
    "import sys\n",
    "import rouge\n",
    "import codecs\n",
    "\n",
    "\n",
    "def cal_rouge(fullset, sentdata, golddata):\n",
    "    fullset.sort()\n",
    "    model_highlights = [sentdata[idx] for idx in range(len(sentdata)) if idx in fullset]\n",
    "    rouge_1 = rouge.rouge_n(model_highlights, golddata, 1)['f']\n",
    "    rouge_2 = rouge.rouge_n(model_highlights, golddata, 2)['f']\n",
    "    rouge_l = rouge.rouge_l_summary_level(model_highlights, golddata)['f']\n",
    "    rouge_score = (rouge_1 + rouge_2 + rouge_l)/3.0\n",
    "    return (rouge_score, fullset)\n",
    "\n",
    "\n",
    "def _multi_run_wrapper(args):\n",
    "    return cal_rouge(*args)\n",
    "\n",
    "\n",
    "\n",
    "\n",
    "if __name__ == \"__main__\":\n",
    "\n",
    "    args = sys.argv[1:]\n",
    "\n",
    "    pool = Pool(int(args[0]))\n",
    "    data_dir = args[1]\n",
    "    task = int(args[2])\n",
    "    sent_limit = 4\n",
    "\n",
    "    fullcount = 0\n",
    "\n",
    "    mainbody_dir = os.path.join(data_dir, 'article')\n",
    "    highlights_dir = os.path.join(data_dir, 'abstracts')\n",
    "\n",
    "    _listfiles = os.listdir(mainbody_dir)\n",
    "    all_l = len(_listfiles)\n",
    "    _listfiles = sorted(_listfiles)\n",
    "    if (task == 0):\n",
    "        listfiles = _listfiles[:int(all_l / 3)]\n",
    "    elif (task == 1):\n",
    "        listfiles = _listfiles[int(all_l / 3):int(all_l * 2 / 3)]\n",
    "    elif (task == 2):\n",
    "        listfiles = _listfiles[int(all_l * 2 / 3):]\n",
    "\n",
    "    fianllabeldir = os.path.join(data_dir, 'article-oracles')\n",
    "    if (not os.path.exists(fianllabeldir)):\n",
    "        os.mkdir(fianllabeldir)\n",
    "\n",
    "    for summaryfname in listfiles:\n",
    "        if not re.match('^\\d', summaryfname):\n",
    "            continue\n",
    "        summaryfname = summaryfname.split('.')[0]\n",
    "        if os.path.isfile(os.path.join(fianllabeldir, summaryfname + \".f-sent\")) and os.path.isfile(\n",
    "                os.path.join(fianllabeldir, summaryfname + \".moracle\")):\n",
    "            continue\n",
    "        print(summaryfname)\n",
    "        sentfull = os.path.join(mainbody_dir, summaryfname + \".article\")\n",
    "        sentdata = (codecs.open(sentfull, encoding='utf-8').readlines())  # full doc\n",
    "        goldfull = os.path.join(highlights_dir, summaryfname + \".abstracts\")\n",
    "        golddata = (codecs.open(goldfull, encoding='utf-8').readlines())  # full doc\n",
    "\n",
    "        rougesentwisefile = os.path.join(fianllabeldir, summaryfname + \".f-sent\")\n",
    "\n",
    "        sentids_lst = [[sentid] for sentid in range(len(sentdata))]\n",
    "        rougescore_sentwise = []\n",
    "        for sentids in sentids_lst:\n",
    "            rougescore_sentwise.append(cal_rouge(sentids, sentdata, golddata))\n",
    "\n",
    "        # print rougescore_sentwise\n",
    "        foutput = open(rougesentwisefile, \"w\")\n",
    "        foutput.write(\"\\n\".join([str(item[0]) + \"\\t\" + str(item[1][0]) for item in rougescore_sentwise]) + \"\\n\")\n",
    "        foutput.close()\n",
    "        rougescore_sentwise.sort(reverse=True)\n",
    "\n",
    "        toprougesentences = [item[1][0] for item in rougescore_sentwise[:10]]\n",
    "        toprougesentences.sort()\n",
    "\n",
    "        labelfullmodif = fianllabeldir + \"/\" + summaryfname + \".moracle\"\n",
    "        rougescore_sentids = []\n",
    "        rougescore_sentids += rougescore_sentwise[:10][:]\n",
    "\n",
    "        arguments_list = []\n",
    "        for itemcount in range(2, sent_limit + 1):\n",
    "            arguments_list += [(list(sentids), sentdata, golddata) for sentids in\n",
    "                               itertools.combinations(toprougesentences, itemcount)]\n",
    "        rougescore_sentids = pool.map(_multi_run_wrapper, arguments_list)\n",
    "\n",
    "        # Process results\n",
    "        # for rougescore, arguments in zip(rougescore_list, arguments_list):\n",
    "        #     rougescore_sentids.append((rougescore, arguments[0]))\n",
    "\n",
    "        # rougescore_sentids = []\n",
    "        # for sentids in sentids_lst:\n",
    "        #     rougescore_sentids.append(cal_rouge(sentids, sentdata, golddata))\n",
    "\n",
    "        rougescore_sentids.sort(reverse=True)\n",
    "\n",
    "        foutput = open(labelfullmodif, \"w\")\n",
    "        for item in rougescore_sentids:\n",
    "            foutput.write((\" \".join([str(sentidx) for sentidx in item[1]])) + \"\\t\" + str(item[0]) + \"\\n\")\n",
    "        foutput.close()\n",
    "\n",
    "        if fullcount % 100 == 0:\n",
    "            print fullcount\n",
    "        fullcount += 1\n"
   ]
  }
 ],
 "metadata": {
  "kernelspec": {
   "display_name": "Python 3",
   "language": "python",
   "name": "python3"
  },
  "language_info": {
   "codemirror_mode": {
    "name": "ipython",
    "version": 3
   },
   "file_extension": ".py",
   "mimetype": "text/x-python",
   "name": "python",
   "nbconvert_exporter": "python",
   "pygments_lexer": "ipython3",
   "version": "3.8.5"
  }
 },
 "nbformat": 4,
 "nbformat_minor": 4
}
