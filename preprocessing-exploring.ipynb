{
 "cells": [
  {
   "cell_type": "code",
   "execution_count": 61,
   "metadata": {
    "colab": {
     "base_uri": "https://localhost:8080/"
    },
    "executionInfo": {
     "elapsed": 18500,
     "status": "ok",
     "timestamp": 1609450944617,
     "user": {
      "displayName": "Quant ONE Team",
      "photoUrl": "",
      "userId": "15729295471868687340"
     },
     "user_tz": 300
    },
    "id": "5rnl6FX4S9pp",
    "outputId": "a819572e-2ad7-4d1d-c708-95a66050bce0"
   },
   "outputs": [
    {
     "name": "stdout",
     "output_type": "stream",
     "text": [
      "The autoreload extension is already loaded. To reload it, use:\n",
      "  %reload_ext autoreload\n"
     ]
    },
    {
     "name": "stderr",
     "output_type": "stream",
     "text": [
      "[nltk_data] Downloading package punkt to\n",
      "[nltk_data]     /home/g/gwtaylor/schnei/nltk_data...\n",
      "[nltk_data]   Package punkt is already up-to-date!\n"
     ]
    }
   ],
   "source": [
    "import re\n",
    "from matplotlib import pyplot as plt\n",
    "import pickle\n",
    "import tensorflow_datasets as tfds\n",
    "import nltk\n",
    "from sentence_transformers import SentenceTransformer, util\n",
    "import numpy as np\n",
    "from LexRank import degree_centrality_scores\n",
    "from oracle_generator import nallapati_method\n",
    "import tensorflow as tf\n",
    "nltk.download('punkt')\n",
    "%load_ext autoreload\n",
    "%autoreload 2\n"
   ]
  },
  {
   "cell_type": "code",
   "execution_count": 31,
   "metadata": {
    "colab": {
     "base_uri": "https://localhost:8080/",
     "height": 187,
     "referenced_widgets": [
      "f3f6eecc2eed4e03992c596a970ee0e3",
      "0945bba8745b48b583167ac92bcdcf2f",
      "72d950c46c4c4b9ea12f7666eb0ac016",
      "cb203e916f754d2688404dbd7525347b",
      "30e54c419a494350896dd545cd5625c6",
      "51d4b627b67049fb974bd726c5823540",
      "d91c9a4f7c024c25b93434e39d2c28a8",
      "b7aa09a5b97b49d59e0f4952b46575a7",
      "853505b671774299a344847cda76e7b0",
      "8fe0a731690948d6bbdde7d2d3a802df",
      "b42e099a58a948ea85bb9f42b9076241",
      "3e14b8c647f848ad907f33363d4e94cb",
      "e2457547f09b48d9a41eb9e81246115a",
      "ab6f770970f34a9788806948eb226fe9",
      "b5c69ab958a44b82863465afee7dac38",
      "5e37c8ab80d6464c8620851a2a13a325"
     ]
    },
    "executionInfo": {
     "elapsed": 31015,
     "status": "ok",
     "timestamp": 1609450964259,
     "user": {
      "displayName": "Quant ONE Team",
      "photoUrl": "",
      "userId": "15729295471868687340"
     },
     "user_tz": 300
    },
    "id": "ekaMnMECqd_D",
    "outputId": "5ff4966b-29f6-4cab-8f5d-6815ef7ed786"
   },
   "outputs": [
    {
     "name": "stderr",
     "output_type": "stream",
     "text": [
      "INFO:absl:Load dataset info from /scratch/g/gwtaylor/schnei/data/alex/tensorflow_datasets/scientific_papers/pubmed/1.1.1\n",
      "INFO:absl:Reusing dataset scientific_papers (/scratch/g/gwtaylor/schnei/data/alex/tensorflow_datasets/scientific_papers/pubmed/1.1.1)\n",
      "INFO:absl:Constructing tf.data.Dataset for split train, from /scratch/g/gwtaylor/schnei/data/alex/tensorflow_datasets/scientific_papers/pubmed/1.1.1\n"
     ]
    },
    {
     "data": {
      "text/plain": [
       "'cache = \"mnt/MyDrive/nlp/data/scientific_papers/pubmed/1.1.1/b941f4678d5bed229aca0ab5b4cc943dadf74a8ab153178487bdf51810dc4f67\"\\nscientific_papers = load_from_disk(cache)'"
      ]
     },
     "execution_count": 31,
     "metadata": {},
     "output_type": "execute_result"
    }
   ],
   "source": [
    "cache = \"../data\"\n",
    "scientific_papers, info = tfds.load('scientific_papers/pubmed', split = \"train\", shuffle_files = False, \n",
    "                              data_dir = \"/scratch/g/gwtaylor/schnei/data/alex/tensorflow_datasets\", with_info=True)\n",
    "#scientific_papers = load_dataset('scientific_papers', 'pubmed', cache_dir=cache)\n",
    "\"\"\"cache = \"mnt/MyDrive/nlp/data/scientific_papers/pubmed/1.1.1/b941f4678d5bed229aca0ab5b4cc943dadf74a8ab153178487bdf51810dc4f67\"\n",
    "scientific_papers = load_from_disk(cache)\"\"\""
   ]
  },
  {
   "cell_type": "code",
   "execution_count": 53,
   "metadata": {},
   "outputs": [],
   "source": [
    "thing = scientific_papers.take(1)"
   ]
  },
  {
   "cell_type": "markdown",
   "metadata": {
    "id": "zBcsCss8S9pz"
   },
   "source": [
    "# To-Do\n",
    "- read emnlp paper [done]\n",
    "- read up on lexrank [done]\n",
    "- find and download xsum dataset [done]\n",
    "- try lexrank on some sentences in xsum dataset [done]\n",
    "- read up on sentence transformers [done]\n",
    "- figure out how people trained xsum models. [done]\n",
    "- train encoder-decoder transformer on xsum "
   ]
  },
  {
   "cell_type": "markdown",
   "metadata": {
    "id": "onUS0f_7S9p1"
   },
   "source": [
    "# Stuff I did\n",
    "- Data Preprocessing\n",
    "    - replaced `\\n` with space character (` `)\n",
    "    - removed all duplicate sentences\n",
    "    - removed 178 examples larger than 100000 chars and 4746 examples shorter than 2500 chars for a total of 4924 examples from the training set. This is roughly 5% of it. This is just a heuristic. This removal will be applied using `omit`"
   ]
  },
  {
   "cell_type": "code",
   "execution_count": 69,
   "metadata": {
    "colab": {
     "base_uri": "https://localhost:8080/"
    },
    "executionInfo": {
     "elapsed": 2583,
     "status": "ok",
     "timestamp": 1609453111773,
     "user": {
      "displayName": "Quant ONE Team",
      "photoUrl": "",
      "userId": "15729295471868687340"
     },
     "user_tz": 300
    },
    "id": "YGTZqkDvS9p3",
    "outputId": "524ceeb2-45b4-416c-cf9d-be7fa4fb23b0",
    "scrolled": true
   },
   "outputs": [
    {
     "name": "stdout",
     "output_type": "stream",
     "text": [
      "Num sentences: 52\n",
      "\n",
      "\n",
      "Summary:\n",
      "most reported cases show that avms located in the ipsilateral side of moyamoya vessels are associated with a moyamoya - type collateral.6 - 16 one hypothesis is that vascular occlusion drives from acquired dysplasia as a consequence of high blood flow from the avm .\n",
      "we report herein a case of avm with a feeding arterial occlusion and unilateral moyamoya disease coexisting in an acute stroke patient .\n",
      "the incidence of avm is below 1 : 100,000 and accounts for about 1 - 2% of all strokes , and 3% of those in young patients.1 although the association between avms and aneurysms is well known , an avm in combination with moyamoya disease or progressive arterial occlusion has been reported only rarely.2 avms are generally thought to be congenital vascular anomalies that arise as a result of the abnormal development of blood vessels during the early embryonic period.3 conversely , moyamoya disease is a progressive vascular disease that is defined as bilateral distal occlusion or stenosis of the internal carotid artery ( ica ) accompanied by a telangiectatic connection in the basal ganglia , the so - called ' moyamoya vessels'.4 in particular , unilateral involvement is considered to be probable moyamoya disease .\n",
      "our patient exhibited coexistence of two rare arterial lesions : 1 ) an avm with proximal callosomarginal artery occlusion , a feeder of the avm , and 2 ) unilateral mca occlusion with basal moyamoya vessels .\n",
      "the clinical evidence of high - flow - induced vascular change can be found in two case series of 19 patients with avms with progressive stenosis or occlusion of the feeding artery.5,17 enam and malik reported that six patients had a avm with unilateral ica occlusion with proximal aca or mca occlusions , and one had a cerebellar avm with proximal occlusion of the vertebral artery.5 mawad et al.17 reported nine avm patients with moyamoya - type collaterals and three patients with isolated mca or aca occlusion without collaterals .\n"
     ]
    }
   ],
   "source": [
    "\"\"\"\n",
    "This example uses LexRank (https://www.aaai.org/Papers/JAIR/Vol22/JAIR-2214.pdf)\n",
    "to create an extractive summarization of a long document.\n",
    "The document is splitted into sentences using NLTK, then the sentence embeddings are computed. We\n",
    "then compute the cosine-similarity across all possible sentence pairs.\n",
    "We then use LexRank to find the most central sentences in the document, which form our summary.\n",
    "Input document: First section from the English Wikipedia Section\n",
    "Output summary:\n",
    "Located at the southern tip of the U.S. state of New York, the city is the center of the New York metropolitan area, the largest metropolitan area in the world by urban landmass.\n",
    "New York City (NYC), often called simply New York, is the most populous city in the United States.\n",
    "Anchored by Wall Street in the Financial District of Lower Manhattan, New York City has been called both the world's leading financial center and the most financially powerful city in the world, and is home to the world's two largest stock exchanges by total market capitalization, the New York Stock Exchange and NASDAQ.\n",
    "New York City has been described as the cultural, financial, and media capital of the world, significantly influencing commerce, entertainment, research, technology, education, politics, tourism, art, fashion, and sports.\n",
    "If the New York metropolitan area were a sovereign state, it would have the eighth-largest economy in the world.\n",
    "\"\"\"\n",
    "\n",
    "\n",
    "\n",
    "model = SentenceTransformer('msmarco-distilroberta-base-v2')\n",
    "\n",
    "# Our input document we want to summarize\n",
    "# As example, we take the first section from Wikipedia\n",
    "document = str([ex for ex in thing][0]['article']).replace(\"\\\\n\", ' ')\n",
    "\n",
    "\"\"\"\n",
    "New York City (NYC), often called simply New York, is the most populous city in the United States. With an estimated 2019 population of 8,336,817 distributed over about 302.6 square miles (784 km2), New York City is also the most densely populated major city in the United States. Located at the southern tip of the U.S. state of New York, the city is the center of the New York metropolitan area, the largest metropolitan area in the world by urban landmass. With almost 20 million people in its metropolitan statistical area and approximately 23 million in its combined statistical area, it is one of the world's most populous megacities. New York City has been described as the cultural, financial, and media capital of the world, significantly influencing commerce, entertainment, research, technology, education, politics, tourism, art, fashion, and sports. Home to the headquarters of the United Nations, New York is an important center for international diplomacy.\n",
    "Situated on one of the world's largest natural harbors, New York City is composed of five boroughs, each of which is a county of the State of New York. The five boroughs—Brooklyn, Queens, Manhattan, the Bronx, and Staten Island—were consolidated into a single city in 1898. The city and its metropolitan area constitute the premier gateway for legal immigration to the United States. As many as 800 languages are spoken in New York, making it the most linguistically diverse city in the world. New York is home to more than 3.2 million residents born outside the United States, the largest foreign-born population of any city in the world as of 2016. As of 2019, the New York metropolitan area is estimated to produce a gross metropolitan product (GMP) of $2.0 trillion. If the New York metropolitan area were a sovereign state, it would have the eighth-largest economy in the world. New York is home to the highest number of billionaires of any city in the world.\n",
    "New York City traces its origins to a trading post founded by colonists from the Dutch Republic in 1624 on Lower Manhattan; the post was named New Amsterdam in 1626. The city and its surroundings came under English control in 1664 and were renamed New York after King Charles II of England granted the lands to his brother, the Duke of York. The city was regained by the Dutch in July 1673 and was subsequently renamed New Orange for one year and three months; the city has been continuously named New York since November 1674. New York City was the capital of the United States from 1785 until 1790, and has been the largest U.S. city since 1790. The Statue of Liberty greeted millions of immigrants as they came to the U.S. by ship in the late 19th and early 20th centuries, and is a symbol of the U.S. and its ideals of liberty and peace. In the 21st century, New York has emerged as a global node of creativity, entrepreneurship, and environmental sustainability, and as a symbol of freedom and cultural diversity. In 2019, New York was voted the greatest city in the world per a survey of over 30,000 people from 48 cities worldwide, citing its cultural diversity.\n",
    "Many districts and landmarks in New York City are well known, including three of the world's ten most visited tourist attractions in 2013. A record 62.8 million tourists visited New York City in 2017. Times Square is the brightly illuminated hub of the Broadway Theater District, one of the world's busiest pedestrian intersections, and a major center of the world's entertainment industry. Many of the city's landmarks, skyscrapers, and parks are known around the world. Manhattan's real estate market is among the most expensive in the world. Providing continuous 24/7 service and contributing to the nickname The City that Never Sleeps, the New York City Subway is the largest single-operator rapid transit system worldwide, with 472 rail stations. The city has over 120 colleges and universities, including Columbia University, New York University, Rockefeller University, and the City University of New York system, which is the largest urban public university system in the United States. Anchored by Wall Street in the Financial District of Lower Manhattan, New York City has been called both the world's leading financial center and the most financially powerful city in the world, and is home to the world's two largest stock exchanges by total market capitalization, the New York Stock Exchange and NASDAQ.\n",
    "\"\"\"\n",
    "\n",
    "#Split the document into sentences\n",
    "sentences = list(set(nltk.sent_tokenize(document)))\n",
    "print(\"Num sentences:\", len(sentences))\n",
    "\n",
    "#Compute the sentence embeddings\n",
    "embeddings = model.encode(sentences, convert_to_tensor=True)\n",
    "\n",
    "#Compute the pair-wise cosine similarities\n",
    "cos_scores = util.pytorch_cos_sim(embeddings, embeddings).numpy()\n",
    "\n",
    "#Compute the centrality for each sentence\n",
    "centrality_scores = degree_centrality_scores(cos_scores, threshold=None)\n",
    "\n",
    "#We argsort so that the first element is the sentence with the highest score\n",
    "most_central_sentence_indices = np.argsort(-centrality_scores)\n",
    "\n",
    "\n",
    "#Print the 5 sentences with the highest scores\n",
    "print(\"\\n\\nSummary:\")\n",
    "for idx in most_central_sentence_indices[0:5]:\n",
    "    print(sentences[idx].strip())"
   ]
  },
  {
   "cell_type": "code",
   "execution_count": 71,
   "metadata": {},
   "outputs": [
    {
     "data": {
      "text/plain": [
       "\"tf.Tensor(b' backgroundarteriovenous malformations ( avms ) with vascular abnormalities , including aneurysms , have been reported frequently . however , the coexistence of avm and unilateral moyamoya disease is rare .   we report herein an avm patient who presented with acute ischemic stroke with unilateral moyamoya disease and occlusion of the feeding artery.case reporta-41-year old man was admitted with sudden dysarthria and facial palsy .   brain computed tomography and magnetic resonance imaging revealed an acute infarction adjacent to a large avm in the right frontal lobe .   cerebral angiography revealed occlusions of the proximal right middle cerebral and proximal anterior cerebral arteries , which were the main feeders of the avm .   innumerable telangiectatic moyamoya - type vessels between branches of the anterior cerebral artery and dilated lenticulostriate arteries on the occluded middle cerebral artery were detected .   however , a nidus of the avm was still opacified through the distal right callosomarginal artery , which was supplied by the remaining anterior cerebral artery and leptomeningeal collaterals from the posterior cerebral artery.conclusionswhile avm accompanied by unilateral moyamoya disease is rare , our case suggests an association between these two dissimilar vascular diseases . ', shape=(), dtype=string)\""
      ]
     },
     "execution_count": 71,
     "metadata": {},
     "output_type": "execute_result"
    }
   ],
   "source": [
    "str([ex for ex in thing][0]['abstract']).replace(\"\\\\n\", ' ')"
   ]
  },
  {
   "cell_type": "code",
   "execution_count": 66,
   "metadata": {},
   "outputs": [
    {
     "ename": "TypeError",
     "evalue": "'module' object is not callable",
     "output_type": "error",
     "traceback": [
      "\u001b[0;31m---------------------------------------------------------------------------\u001b[0m",
      "\u001b[0;31mTypeError\u001b[0m                                 Traceback (most recent call last)",
      "\u001b[0;32m<ipython-input-66-142fba2b044e>\u001b[0m in \u001b[0;36m<module>\u001b[0;34m\u001b[0m\n\u001b[0;32m----> 1\u001b[0;31m \u001b[0mtf\u001b[0m\u001b[0;34m.\u001b[0m\u001b[0mstrings\u001b[0m\u001b[0;34m(\u001b[0m\u001b[0;34m\"asda\"\u001b[0m\u001b[0;34m)\u001b[0m\u001b[0;34m\u001b[0m\u001b[0;34m\u001b[0m\u001b[0m\n\u001b[0m",
      "\u001b[0;31mTypeError\u001b[0m: 'module' object is not callable"
     ]
    }
   ],
   "source": [
    "tf.strings(\"asda\")"
   ]
  },
  {
   "cell_type": "code",
   "execution_count": 72,
   "metadata": {
    "id": "O8JSuiJvS9p5"
   },
   "outputs": [],
   "source": [
    "test = ['as clinical manifestation of pulmonary tuberculosis and nocardiosis are similar , laboratory tests are required in order to distinguish of nocardiosis from tuberculosis',\n",
    "       'due to the fact that clinical manifestation of pulmonary tuberculosis and nocardiosis are similar , we should use laboratory test to differentiate nocardiosis from tuberculosis']\n",
    "embeddings = model.encode(test, convert_to_tensor = True)\n",
    "cos_scores = util.pytorch_cos_sim(embeddings, embeddings).numpy()"
   ]
  },
  {
   "cell_type": "code",
   "execution_count": 73,
   "metadata": {
    "id": "sBez7D3SS9p7"
   },
   "outputs": [
    {
     "data": {
      "text/plain": [
       "array([[1.0000001 , 0.9681876 ],\n",
       "       [0.9681876 , 0.99999964]], dtype=float32)"
      ]
     },
     "execution_count": 73,
     "metadata": {},
     "output_type": "execute_result"
    }
   ],
   "source": [
    "cos_scores"
   ]
  },
  {
   "cell_type": "code",
   "execution_count": 11,
   "metadata": {
    "colab": {
     "base_uri": "https://localhost:8080/",
     "height": 256
    },
    "executionInfo": {
     "elapsed": 446,
     "status": "ok",
     "timestamp": 1609453069858,
     "user": {
      "displayName": "Quant ONE Team",
      "photoUrl": "",
      "userId": "15729295471868687340"
     },
     "user_tz": 300
    },
    "id": "I0emWWXwS9p7",
    "outputId": "eb654eea-d982-4003-f4e6-8cbc82733c0c"
   },
   "outputs": [
    {
     "data": {
      "application/vnd.google.colaboratory.intrinsic+json": {
       "type": "string"
      },
      "text/plain": [
       "' background : tuberculosis ( tb ) remains as one of the most serious infectious diseases in the world .   pulmonary tuberculosis can occur with other pulmonary diseases caused by opportunistic organisms such as nocardia spp . particularly in immunocompromised patients .   therefore , diagnosis of co - infection at the early stage of the disease could be lifesaving.objectives:the goal of this study was to detect mycobacterium tuberculosis and nocardia spp . in sputum specimens in order to assess the concomitant nocardiosis and tuberculosis in patients with suspected pulmonary tuberculosis.patients and methods : from march 2011 to april 2012 , 189 sputum specimens were obtained from patients who were suspected of having pulmonary tuberculosis .   out of 189 samples , 32 of the samples belonged to hospitalized hiv - infected patients .   samples were examined by gram and ziehl - nelsen staining , culture and pcr methods.results:from 157 sputum specimens , positive samples by acid fast staining , culture and pcr for m. tuberculosis were reported for 7.6% ( 12/157 ) , 10.1% ( 16/157 ) and 7% ( 11/157 ) of samples , respectively .   no results were obtained by the described methods for nocardia spp . among 32 samples of hiv - infected patients , four ( 12.5% ) had positive results for acid fast staining , culture and pcr detecting m. tuberculosis while only two samples had positive results for nocardia spp . by pcr and no results   were reported by culture , gram and acid fast staining for this organism.conclusions:concurrent pulmonary nocardiosis and tuberculosis is frequent in hiv - infected patients .   rapid and sensitive methods such as pcr are recommended for detection of such co - infections . '"
      ]
     },
     "execution_count": 11,
     "metadata": {
      "tags": []
     },
     "output_type": "execute_result"
    }
   ],
   "source": [
    "scientific_papers['train'][200]['abstract'].replace('\\n', ' ')"
   ]
  },
  {
   "cell_type": "code",
   "execution_count": null,
   "metadata": {
    "id": "4_oSzMniS9p9",
    "outputId": "70065bde-3ce3-49ac-f73e-33cd83d7b4f9",
    "scrolled": true
   },
   "outputs": [
    {
     "data": {
      "text/plain": [
       "array([ 65,  74,  92,  69,  78,  79,  91,  87,  73,  64,  19,  94,  11,\n",
       "       101,  58,  39,  83,  89, 108,  82,   6,  67,  76,  61,  70, 109,\n",
       "        98,  60,  41,  15,  80,  21, 107,   3,  71,  62,  96,  99,  14,\n",
       "        22,  55,  36,  12,  88,  85,  93,  17,  25,  44,   0,  38,  57,\n",
       "       103,  84,  31,  50,  90,  20,  10, 104,  63,  72,  66,  75,  13,\n",
       "        29,  48, 106,  28,  47,  97,  86,   1,   9,  40,  59,   7,  16,\n",
       "         5,  18,  54,  35, 110,   8,   4,  24,  43,  56,  37,  27,  46,\n",
       "        33,  52,  51,  32,  34,  53, 100,  30,  49,  81,  23,  42,  26,\n",
       "        45,  77,  68,   2, 105,  95, 102], dtype=int64)"
      ]
     },
     "execution_count": 65,
     "metadata": {
      "tags": []
     },
     "output_type": "execute_result"
    }
   ],
   "source": [
    "most_central_sentence_indices"
   ]
  },
  {
   "cell_type": "code",
   "execution_count": null,
   "metadata": {
    "id": "gYYB4FzES9p-",
    "outputId": "3819d188-5aa5-45dc-a4a8-3dda42d2b613",
    "scrolled": true
   },
   "outputs": [
    {
     "data": {
      "text/plain": [
       "['tuberculosis ( tb ) is caused by the mycobacterium tuberculosis , a member of the m. tuberculosis complex ( mtbc ) .',\n",
       " 'according to the world health organization ( who ) , in 2010 , there were an estimated 12.0 million prevalent cases of tb ( equivalent to 178 cases per 100000 individuals ) and approximately 1.4 million people died of tb during that year .',\n",
       " 'most of the cases in 2009 ( 55% ) occurred in asia ( 1 ) .',\n",
       " 'according to the  administration of tuberculosis and leprosy control  of the ministry of health and medical education in iran , in 2010 , a total of 10485 old and new cases of tb were reported in iran and of these cases , 326 patients ( around 2.2% ) were hiv positive ( 2 ) .',\n",
       " 'the diseases caused by mycobacterium complex have become more important in the recent years , particularly in association with the worldwide pandemic situation caused by human immunodeficiency virus ( hiv ) .',\n",
       " 'in 2010 , in addition , there were an estimated 0.35 million deaths among tb cases that were hiv - positive .',\n",
       " 'according to who , the incidence of pulmonary tuberculosis in hiv - positive patients in iran was 0.38 ( 0.28 - 0.51 ) per 100000 individuals in 2012 ( 3 ) .',\n",
       " 'some opportunistic microorganisms such as nocardia spp .',\n",
       " 'are gram - positive ( weakly acid fast ) and filamentous with a branching appearance and are not part of the normal human bacterial flora .',\n",
       " 'to date at least sixteen species capable of producing disease in humans have been identified ( 4 ) .',\n",
       " 'pulmonary disease is the predominant clinical presentation of this microorganism and can be fatal if untreated .',\n",
       " 'untreated pulmonary nocardiosis is similar to tuberculosis and n. asteroids is the most frequent cause of pulmonary infection in humans ( 85% ) ( 5 ) .',\n",
       " 'since the clinical and radiological manifestations are non - specific , pulmonary nocardiosis could be mistaken with other infections or other bacterial pneumonia .',\n",
       " 'in addition , nocardiosis may be under reported because it is not among the aids - defining criteria ( 6 ) .',\n",
       " 'diagnosis of pulmonary nocardiosis is dependent on the isolation or demonstration of the organism from respiratory secretions such as sputum or tissue specimens .',\n",
       " 'nocardia as a m. tuberculosis is a slow growing organism that requires prolonged incubation for at least 4 - 6 weeks ( 7 ) .',\n",
       " 'the diagnosis of nocardiosis is currently based on direct examination and conventional culture ; serology is usually not useful .',\n",
       " 'treatment of nocardiosis is different from tuberculosis regarding therapeutic agents , route of administration and duration of therapy ( 8) .',\n",
       " 'sulfonamides have been the agents of choice for the treatment of nocardiosis , however combination therapy with two or more agents is recommended .',\n",
       " 'although nocardiosis is an uncommon illness , co - infection of this disease with tuberculosis has been reported ( 9 ) .',\n",
       " 'the aim of this study was to assess the presence of nocardia spp .',\n",
       " 'and m. tuberculosis in sputum specimens of patients with pulmonary tuberculosis .',\n",
       " 'in the meantime , 32 hiv - infected patients who were suspected of having pulmonary tuberculosis were included in this study in order to evaluate concomitant infection in these patients .',\n",
       " 'a total of 189 sputum samples were obtained from the reference mycobacteriology laboratory , ahvaz jundishapur university of medical sciences from march 2011 to april 2012 .',\n",
       " 'all specimens were processed immediately according to standard routine diagnosis procedures by the naoh / n - acetyl - l - cysteine ( nalc ) method .',\n",
       " 'next , concentrated specimens were used for smear preparation , culture and pcr assay ( 10 , 11 ) .',\n",
       " 'furthermore , 250 l of each concentrated sputum specimen was inoculated onto lowenstein - jensen ( l - j ) media ( merck , germany ) .',\n",
       " 'are acid fast and can survive the decontamination of clinical specimens with sodium hydroxide and nalc methods , thereby , they can grow on l - j medium .',\n",
       " 'cultures were examined weekly and after 8 weeks of incubation , cultures , which showed no growth , were reported negative and discarded .',\n",
       " 'for microscopic examination , using a disposable pasteur pipette , one drop of the sediment of the sputum specimen was spread on each clean microscope slide and after air drying and fixation by heat , the smears were stained by ziehl - neelsen and gram staining ( 10 ) .',\n",
       " 'after decontamination , the chromosomal dna was extracted using proteinase k and phenol : chloroform , and then precipitated by ethanol and isopropanol , according to standard procedures ( 12 ) .',\n",
       " 'the purified dna was amplified with specific pairs of primers is1 ( 5ctcgtccagcgccgcttcgg 3 ) and is2 ( 5cctgcgagcgtaggcggtgg 3 ) for m. tuberculosis complex strains ann microbiol .',\n",
       " 'the pcr protocols were optimized to 35 cycles consisting of 45 seconds at 94c for denaturation , 30 seconds at 68c for annealing and 30 seconds at 72c for extension , followed by a final 5 minute extension at 72c .',\n",
       " 'primers ng1 ( 5ctcgtccagcgccgcttcgg3 ) and ng2 ( 5cctgcgagcgtaggcggtgg3 ) were used to amplify a nocardia genus specific 590-bp fragment of 16s rrna .',\n",
       " 'the pcr protocols were optimized to 40 cycles consisting of 45 seconds at 94c for denaturation , 30 seconds at 57c for annealing and 30 seconds at 72c for extension , followed by a final 5 minute extension at 72c .',\n",
       " 'amplification with these primers was observed by electrophoresis on 2% ( w / v ) agarose gel stained with ethidium bromide ( figure 1 ) .',\n",
       " 'the n. asteroides atcc 19247 and m. tuberculosis h37rv were used as positive reference strains .',\n",
       " 'two pcrs for each sample were performed in separate tubes with two pairs of primers .',\n",
       " 'one set was dedicated to the m. tuberculosis complex , whereas the other set was for nocardia spp .',\n",
       " 'for each round of pcr the investigators were blinded to clinical data during the experiment for detection of microbial agents co - infection .',\n",
       " 'all specimens were unnamed and labeled by a secure code in the reference mycobacteriology laboratory .',\n",
       " 'a : clinical sample of m. tuberculosis .',\n",
       " 'a total of 189 sputum samples were obtained from the reference mycobacteriology laboratory , ahvaz jundishapur university of medical sciences from march 2011 to april 2012 .',\n",
       " 'all specimens were processed immediately according to standard routine diagnosis procedures by the naoh / n - acetyl - l - cysteine ( nalc ) method .',\n",
       " 'next , concentrated specimens were used for smear preparation , culture and pcr assay ( 10 , 11 ) .',\n",
       " 'furthermore , 250 l of each concentrated sputum specimen was inoculated onto lowenstein - jensen ( l - j ) media ( merck , germany ) .',\n",
       " 'are acid fast and can survive the decontamination of clinical specimens with sodium hydroxide and nalc methods , thereby , they can grow on l - j medium .',\n",
       " 'cultures were examined weekly and after 8 weeks of incubation , cultures , which showed no growth , were reported negative and discarded .',\n",
       " 'for microscopic examination , using a disposable pasteur pipette , one drop of the sediment of the sputum specimen was spread on each clean microscope slide and after air drying and fixation by heat , the smears were stained by ziehl - neelsen and gram staining ( 10 ) .',\n",
       " 'after decontamination , the chromosomal dna was extracted using proteinase k and phenol : chloroform , and then precipitated by ethanol and isopropanol , according to standard procedures ( 12 ) .',\n",
       " 'the purified dna was amplified with specific pairs of primers is1 ( 5ctcgtccagcgccgcttcgg 3 ) and is2 ( 5cctgcgagcgtaggcggtgg 3 ) for m. tuberculosis complex strains ann microbiol .',\n",
       " 'the pcr protocols were optimized to 35 cycles consisting of 45 seconds at 94c for denaturation , 30 seconds at 68c for annealing and 30 seconds at 72c for extension , followed by a final 5 minute extension at 72c .',\n",
       " 'primers ng1 ( 5ctcgtccagcgccgcttcgg3 ) and ng2 ( 5cctgcgagcgtaggcggtgg3 ) were used to amplify a nocardia genus specific 590-bp fragment of 16s rrna .',\n",
       " 'the pcr protocols were optimized to 40 cycles consisting of 45 seconds at 94c for denaturation , 30 seconds at 57c for annealing and 30 seconds at 72c for extension , followed by a final 5 minute extension at 72c .',\n",
       " 'amplification with these primers was observed by electrophoresis on 2% ( w / v ) agarose gel stained with ethidium bromide ( figure 1 ) .',\n",
       " 'the n. asteroides atcc 19247 and m. tuberculosis h37rv were used as positive reference strains .',\n",
       " 'two pcrs for each sample were performed in separate tubes with two pairs of primers .',\n",
       " 'one set was dedicated to the m. tuberculosis complex , whereas the other set was for nocardia spp .',\n",
       " 'for each round of pcr the investigators were blinded to clinical data during the experiment for detection of microbial agents co - infection .',\n",
       " 'all specimens were unnamed and labeled by a secure code in the reference mycobacteriology laboratory .',\n",
       " 'a : clinical sample of m. tuberculosis .',\n",
       " 'among the 157 outpatients , 7.6% ( 12/157 ) of specimens had positive results for acid fast bacilli by acid fast staining but none of the samples were positive for nocardia spp .',\n",
       " 'after cultures evolution , 10.1% ( 16/157 ) of specimens had positive results for mtbc while no specimens grew nocardia spp .',\n",
       " 'during microscopic examination by the gram staining method , we could nt find any particle morphologically similar to nocardia .',\n",
       " 'out of 157 samples , 7% ( 11/157 ) were positive by pcr for mtbc and none of the samples was positive for nocardia by pcr .',\n",
       " 'among 32 samples in hiv - infected patients , four ( 12.5% ) were culture positive for m. tuberculosis and none of them were positive for nocardia .',\n",
       " 'furthermore , these four samples were positive by acid fast staining and pcr assay .',\n",
       " 'out of these four samples , two were positive for nocardia spp .',\n",
       " 'by the pcr method .',\n",
       " 'based on our data the prevalence of nocardiosis and also concomitant infection with tuberculosis in our study was 6.25% ( 2/32 ) in hiv - infected patients and 1.05% ( 2/189 ) for all cases .',\n",
       " 'among the 157 outpatients , 7.6% ( 12/157 ) of specimens had positive results for acid fast bacilli by acid fast staining but none of the samples were positive for nocardia spp .',\n",
       " 'after cultures evolution , 10.1% ( 16/157 ) of specimens had positive results for mtbc while no specimens grew nocardia spp .',\n",
       " 'during microscopic examination by the gram staining method , we could nt find any particle morphologically similar to nocardia .',\n",
       " 'out of 157 samples , 7% ( 11/157 ) were positive by pcr for mtbc and none of the samples was positive for nocardia by pcr .',\n",
       " 'among 32 samples in hiv - infected patients , four ( 12.5% ) were culture positive for m. tuberculosis and none of them were positive for nocardia .',\n",
       " 'furthermore , these four samples were positive by acid fast staining and pcr assay .',\n",
       " 'out of these four samples , two were positive for nocardia spp .',\n",
       " 'by the pcr method .',\n",
       " 'based on our data the prevalence of nocardiosis and also concomitant infection with tuberculosis in our study was 6.25% ( 2/32 ) in hiv - infected patients and 1.05% ( 2/189 ) for all cases .',\n",
       " 'as clinical manifestation of pulmonary tuberculosis and nocardiosis are similar , laboratory tests are required in order to distinguish of nocardiosis from tuberculosis .',\n",
       " 'nocardia is a slow growing bacteria and the contamination risk of the culture with other bacteria and fungi is high .',\n",
       " 'therefore , the suggested approach for this problem is molecular techniques , since they are more sensitive than conventional diagnostic methods ( 15 ) .',\n",
       " 'as two samples were positive for nocardia spp .',\n",
       " 'and mtbc using the pcr method , it is suggested that concurrent pulmonary tuberculosis and nocardiosis may developed coincidently .',\n",
       " 'nocardiosis has been reported to be more prevalent in hiv infected patients .',\n",
       " 'in these patients , infection with opportunistic agents such as nocardia is attributed to suppression of cell mediated immunity ( 16 ) .',\n",
       " 'it has been suggested that , the most common condition predisposing patients to nocardiosis is underlying chronic lung disease .',\n",
       " 'in this study it was found that the coincidence of pulmonary tuberculosis and nocardiosis was 1% for the entire study population and 6.25% among hiv - infected patients .',\n",
       " 'the incidence of pulmonary nocardiosis in hiv - infected patients has been previously reported by some investigators .',\n",
       " 'pulmonary nocardiosis in hiv - infected patients with suspected pulmonary tuberculosis was reported to be 3% by alnaum et al .',\n",
       " '; they reported an average of 3 - 4% for this infection ( 17 ) .',\n",
       " 'some reports indicate that greater than two - thirds of the patients diagnosed with pulmonary nocardiosis were initially diagnosed as having tuberculosis and about 5% of the patients with proven pulmonary tuberculosis were shown to have co - infection with nocardia ( 18 ) .',\n",
       " 'out of 140 sputum samples from african hiv - positive individuals clinically suspected of having tuberculosis ( tb ) , the frequency of nocardiosis was reported as 3.6% ( 19 ) .',\n",
       " 'in areas where hiv - associated tb is common , only a few case reports of concomitant infection of nocardia and tb have been published in the literature ( 20 ) .',\n",
       " 'a prevalence of 1.4% for pulmonary nocardiosis was reported in a tuberculosis and chest diseases hospital in amritsar by singh et al .',\n",
       " 'although , pintado et al .',\n",
       " 'indicated that the overall incidence of nocardiosis among hiv - infected patients is between 0.1 and 0.4% , and is associated with high morbidity and mortality rates ( 18 ) .',\n",
       " 'concurrent pulmonary aspergillosis and nocardiosis was reported in an immunocompromised patient following long - term steroid therapy ( 22 ) .',\n",
       " 'in this study nocardia was not distinguished in sputum specimens using conventional methods , however , positive samples were determined using the pcr assay .',\n",
       " 'our study showed that the pcr technique was more sensitive than conventional methods in detection of nocardia .',\n",
       " 'accordance of molecular techniques with conventional methods has been reported as 70 to 90% by several studies ( 22 , 23 ) .',\n",
       " 'in iran , several studies investigated pulmonary nocardiosis or tuberculosis in patients with various clinical symptoms .',\n",
       " 'recently , aminzade et al .',\n",
       " 'reported concomitant pulmonary nocardiosis and tuberculosis in a patient with rheumatoid arthritis ( 24 ) .',\n",
       " 'in a study by eshraghi and amin , nocardia asteroides was isolated from only one patient suffering from cushing s syndrome with bronchogenic carcinoma amongst 142 patients with advanced symptomatic pulmonary disease in tehran , iran ( 25 ) .',\n",
       " 'in another study from iran ( shojaei et al . )',\n",
       " 'clinical isolation of n. cyricigeorgica from patients with various clinical manifestations was performed ( 26 ) .',\n",
       " 'to the best of our knowledge , this is the first study reporting co - infection of nocardiosis and tuberculosis in hiv - positive patients in iran .',\n",
       " 'concurrent pulmonary tuberculosis and nocardiosis is much more frequent in hiv - infected patients and can be fatal .',\n",
       " 'although nocardiosis resembles tuberculosis , first line anti - tuberculous drugs are not efficient for its treatment .',\n",
       " 'therefore , it is important to establish a potent diagnosis method with high sensitivity and specificity such as molecular methods to improve the speed of diagnosis of nocardiosis .']"
      ]
     },
     "execution_count": 66,
     "metadata": {
      "tags": []
     },
     "output_type": "execute_result"
    }
   ],
   "source": [
    "sentences"
   ]
  },
  {
   "cell_type": "code",
   "execution_count": null,
   "metadata": {
    "id": "WDNM26TSS9p_",
    "outputId": "b9fc35e5-923d-48ec-e66e-ccce59ba81b0"
   },
   "outputs": [
    {
     "data": {
      "text/plain": [
       "'tuberculosis ( tb ) is caused by the mycobacterium tuberculosis , a member of the m. tuberculosis complex ( mtbc ) . according to the world health organization ( who ) , in 2010 , there were an estimated 12.0 million prevalent cases of tb ( equivalent to 178 cases per 100000 individuals ) and approximately 1.4 million people died of tb during that year . most of the cases in 2009 ( 55% ) occurred in asia ( 1 ) . according to the  administration of tuberculosis and leprosy control  of the ministry of health and medical education in iran , in 2010 , a total of 10485 old and new cases of tb were reported in iran and of these cases , 326 patients ( around 2.2% ) were hiv positive ( 2 ) . the diseases caused by mycobacterium complex have become more important in the recent years , particularly in association with the worldwide pandemic situation caused by human immunodeficiency virus ( hiv ) . in 2010 , in addition , there were an estimated 0.35 million deaths among tb cases that were hiv - positive . according to who , the incidence of pulmonary tuberculosis in hiv - positive patients in iran was 0.38 ( 0.28 - 0.51 ) per 100000 individuals in 2012 ( 3 ) . some opportunistic microorganisms such as nocardia spp . are gram - positive ( weakly acid fast ) and filamentous with a branching appearance and are not part of the normal human bacterial flora . to date at least sixteen species capable of producing disease in humans have been identified ( 4 ) . pulmonary disease is the predominant clinical presentation of this microorganism and can be fatal if untreated . untreated pulmonary nocardiosis is similar to tuberculosis and n. asteroids is the most frequent cause of pulmonary infection in humans ( 85% ) ( 5 ) . since the clinical and radiological manifestations are non - specific , pulmonary nocardiosis could be mistaken with other infections or other bacterial pneumonia . in addition , nocardiosis may be under reported because it is not among the aids - defining criteria ( 6 ) . diagnosis of pulmonary nocardiosis is dependent on the isolation or demonstration of the organism from respiratory secretions such as sputum or tissue specimens . nocardia as a m. tuberculosis is a slow growing organism that requires prolonged incubation for at least 4 - 6 weeks ( 7 ) . the diagnosis of nocardiosis is currently based on direct examination and conventional culture ; serology is usually not useful . treatment of nocardiosis is different from tuberculosis regarding therapeutic agents , route of administration and duration of therapy ( 8) . sulfonamides have been the agents of choice for the treatment of nocardiosis , however combination therapy with two or more agents is recommended . although nocardiosis is an uncommon illness , co - infection of this disease with tuberculosis has been reported ( 9 ) . the aim of this study was to assess the presence of nocardia spp . and m. tuberculosis in sputum specimens of patients with pulmonary tuberculosis . in the meantime , 32 hiv - infected patients who were suspected of having pulmonary tuberculosis were included in this study in order to evaluate concomitant infection in these patients . a total of 189 sputum samples were obtained from the reference mycobacteriology laboratory , ahvaz jundishapur university of medical sciences from march 2011 to april 2012 . all specimens were processed immediately according to standard routine diagnosis procedures by the naoh / n - acetyl - l - cysteine ( nalc ) method . next , concentrated specimens were used for smear preparation , culture and pcr assay ( 10 , 11 ) . furthermore , 250 l of each concentrated sputum specimen was inoculated onto lowenstein - jensen ( l - j ) media ( merck , germany ) . are acid fast and can survive the decontamination of clinical specimens with sodium hydroxide and nalc methods , thereby , they can grow on l - j medium . cultures were examined weekly and after 8 weeks of incubation , cultures , which showed no growth , were reported negative and discarded . for microscopic examination , using a disposable pasteur pipette , one drop of the sediment of the sputum specimen was spread on each clean microscope slide and after air drying and fixation by heat , the smears were stained by ziehl - neelsen and gram staining ( 10 ) . after decontamination , the chromosomal dna was extracted using proteinase k and phenol : chloroform , and then precipitated by ethanol and isopropanol , according to standard procedures ( 12 ) . the purified dna was amplified with specific pairs of primers is1 ( 5ctcgtccagcgccgcttcgg 3 ) and is2 ( 5cctgcgagcgtaggcggtgg 3 ) for m. tuberculosis complex strains ann microbiol . the pcr protocols were optimized to 35 cycles consisting of 45 seconds at 94c for denaturation , 30 seconds at 68c for annealing and 30 seconds at 72c for extension , followed by a final 5 minute extension at 72c . primers ng1 ( 5ctcgtccagcgccgcttcgg3 ) and ng2 ( 5cctgcgagcgtaggcggtgg3 ) were used to amplify a nocardia genus specific 590-bp fragment of 16s rrna . the pcr protocols were optimized to 40 cycles consisting of 45 seconds at 94c for denaturation , 30 seconds at 57c for annealing and 30 seconds at 72c for extension , followed by a final 5 minute extension at 72c . amplification with these primers was observed by electrophoresis on 2% ( w / v ) agarose gel stained with ethidium bromide ( figure 1 ) . the n. asteroides atcc 19247 and m. tuberculosis h37rv were used as positive reference strains . two pcrs for each sample were performed in separate tubes with two pairs of primers . one set was dedicated to the m. tuberculosis complex , whereas the other set was for nocardia spp . for each round of pcr the investigators were blinded to clinical data during the experiment for detection of microbial agents co - infection . all specimens were unnamed and labeled by a secure code in the reference mycobacteriology laboratory . a : clinical sample of m. tuberculosis . a total of 189 sputum samples were obtained from the reference mycobacteriology laboratory , ahvaz jundishapur university of medical sciences from march 2011 to april 2012 . all specimens were processed immediately according to standard routine diagnosis procedures by the naoh / n - acetyl - l - cysteine ( nalc ) method . next , concentrated specimens were used for smear preparation , culture and pcr assay ( 10 , 11 ) . furthermore , 250 l of each concentrated sputum specimen was inoculated onto lowenstein - jensen ( l - j ) media ( merck , germany ) . are acid fast and can survive the decontamination of clinical specimens with sodium hydroxide and nalc methods , thereby , they can grow on l - j medium . cultures were examined weekly and after 8 weeks of incubation , cultures , which showed no growth , were reported negative and discarded . for microscopic examination , using a disposable pasteur pipette , one drop of the sediment of the sputum specimen was spread on each clean microscope slide and after air drying and fixation by heat , the smears were stained by ziehl - neelsen and gram staining ( 10 ) . after decontamination , the chromosomal dna was extracted using proteinase k and phenol : chloroform , and then precipitated by ethanol and isopropanol , according to standard procedures ( 12 ) . the purified dna was amplified with specific pairs of primers is1 ( 5ctcgtccagcgccgcttcgg 3 ) and is2 ( 5cctgcgagcgtaggcggtgg 3 ) for m. tuberculosis complex strains ann microbiol . the pcr protocols were optimized to 35 cycles consisting of 45 seconds at 94c for denaturation , 30 seconds at 68c for annealing and 30 seconds at 72c for extension , followed by a final 5 minute extension at 72c . primers ng1 ( 5ctcgtccagcgccgcttcgg3 ) and ng2 ( 5cctgcgagcgtaggcggtgg3 ) were used to amplify a nocardia genus specific 590-bp fragment of 16s rrna . the pcr protocols were optimized to 40 cycles consisting of 45 seconds at 94c for denaturation , 30 seconds at 57c for annealing and 30 seconds at 72c for extension , followed by a final 5 minute extension at 72c . amplification with these primers was observed by electrophoresis on 2% ( w / v ) agarose gel stained with ethidium bromide ( figure 1 ) . the n. asteroides atcc 19247 and m. tuberculosis h37rv were used as positive reference strains . two pcrs for each sample were performed in separate tubes with two pairs of primers . one set was dedicated to the m. tuberculosis complex , whereas the other set was for nocardia spp . for each round of pcr the investigators were blinded to clinical data during the experiment for detection of microbial agents co - infection . all specimens were unnamed and labeled by a secure code in the reference mycobacteriology laboratory . a : clinical sample of m. tuberculosis . among the 157 outpatients , 7.6% ( 12/157 ) of specimens had positive results for acid fast bacilli by acid fast staining but none of the samples were positive for nocardia spp . after cultures evolution , 10.1% ( 16/157 ) of specimens had positive results for mtbc while no specimens grew nocardia spp . during microscopic examination by the gram staining method , we could nt find any particle morphologically similar to nocardia . out of 157 samples , 7% ( 11/157 ) were positive by pcr for mtbc and none of the samples was positive for nocardia by pcr . among 32 samples in hiv - infected patients , four ( 12.5% ) were culture positive for m. tuberculosis and none of them were positive for nocardia . furthermore , these four samples were positive by acid fast staining and pcr assay . out of these four samples , two were positive for nocardia spp . by the pcr method . based on our data the prevalence of nocardiosis and also concomitant infection with tuberculosis in our study was 6.25% ( 2/32 ) in hiv - infected patients and 1.05% ( 2/189 ) for all cases . among the 157 outpatients , 7.6% ( 12/157 ) of specimens had positive results for acid fast bacilli by acid fast staining but none of the samples were positive for nocardia spp . after cultures evolution , 10.1% ( 16/157 ) of specimens had positive results for mtbc while no specimens grew nocardia spp . during microscopic examination by the gram staining method , we could nt find any particle morphologically similar to nocardia . out of 157 samples , 7% ( 11/157 ) were positive by pcr for mtbc and none of the samples was positive for nocardia by pcr . among 32 samples in hiv - infected patients , four ( 12.5% ) were culture positive for m. tuberculosis and none of them were positive for nocardia . furthermore , these four samples were positive by acid fast staining and pcr assay . out of these four samples , two were positive for nocardia spp . by the pcr method . based on our data the prevalence of nocardiosis and also concomitant infection with tuberculosis in our study was 6.25% ( 2/32 ) in hiv - infected patients and 1.05% ( 2/189 ) for all cases . as clinical manifestation of pulmonary tuberculosis and nocardiosis are similar , laboratory tests are required in order to distinguish of nocardiosis from tuberculosis . nocardia is a slow growing bacteria and the contamination risk of the culture with other bacteria and fungi is high . therefore , the suggested approach for this problem is molecular techniques , since they are more sensitive than conventional diagnostic methods ( 15 ) . as two samples were positive for nocardia spp . and mtbc using the pcr method , it is suggested that concurrent pulmonary tuberculosis and nocardiosis may developed coincidently . nocardiosis has been reported to be more prevalent in hiv infected patients . in these patients , infection with opportunistic agents such as nocardia is attributed to suppression of cell mediated immunity ( 16 ) . it has been suggested that , the most common condition predisposing patients to nocardiosis is underlying chronic lung disease . in this study it was found that the coincidence of pulmonary tuberculosis and nocardiosis was 1% for the entire study population and 6.25% among hiv - infected patients . the incidence of pulmonary nocardiosis in hiv - infected patients has been previously reported by some investigators . pulmonary nocardiosis in hiv - infected patients with suspected pulmonary tuberculosis was reported to be 3% by alnaum et al . ; they reported an average of 3 - 4% for this infection ( 17 ) . some reports indicate that greater than two - thirds of the patients diagnosed with pulmonary nocardiosis were initially diagnosed as having tuberculosis and about 5% of the patients with proven pulmonary tuberculosis were shown to have co - infection with nocardia ( 18 ) . out of 140 sputum samples from african hiv - positive individuals clinically suspected of having tuberculosis ( tb ) , the frequency of nocardiosis was reported as 3.6% ( 19 ) . in areas where hiv - associated tb is common , only a few case reports of concomitant infection of nocardia and tb have been published in the literature ( 20 ) . a prevalence of 1.4% for pulmonary nocardiosis was reported in a tuberculosis and chest diseases hospital in amritsar by singh et al . although , pintado et al . indicated that the overall incidence of nocardiosis among hiv - infected patients is between 0.1 and 0.4% , and is associated with high morbidity and mortality rates ( 18 ) . concurrent pulmonary aspergillosis and nocardiosis was reported in an immunocompromised patient following long - term steroid therapy ( 22 ) . in this study nocardia was not distinguished in sputum specimens using conventional methods , however , positive samples were determined using the pcr assay . our study showed that the pcr technique was more sensitive than conventional methods in detection of nocardia . accordance of molecular techniques with conventional methods has been reported as 70 to 90% by several studies ( 22 , 23 ) .   in iran , several studies investigated pulmonary nocardiosis or tuberculosis in patients with various clinical symptoms . recently , aminzade et al . reported concomitant pulmonary nocardiosis and tuberculosis in a patient with rheumatoid arthritis ( 24 ) . in a study by eshraghi and amin , nocardia asteroides was isolated from only one patient suffering from cushing s syndrome with bronchogenic carcinoma amongst 142 patients with advanced symptomatic pulmonary disease in tehran , iran ( 25 ) . in another study from iran ( shojaei et al . ) clinical isolation of n. cyricigeorgica from patients with various clinical manifestations was performed ( 26 ) . to the best of our knowledge , this is the first study reporting co - infection of nocardiosis and tuberculosis in hiv - positive patients in iran .   concurrent pulmonary tuberculosis and nocardiosis is much more frequent in hiv - infected patients and can be fatal . although nocardiosis resembles tuberculosis , first line anti - tuberculous drugs are not efficient for its treatment . therefore , it is important to establish a potent diagnosis method with high sensitivity and specificity such as molecular methods to improve the speed of diagnosis of nocardiosis .'"
      ]
     },
     "execution_count": 63,
     "metadata": {
      "tags": []
     },
     "output_type": "execute_result"
    }
   ],
   "source": [
    "scientific_papers['train'][200]['article'].replace('\\n', ' ')"
   ]
  },
  {
   "cell_type": "code",
   "execution_count": null,
   "metadata": {
    "id": "VEh-R71oS9p_",
    "outputId": "951fd490-9d8b-4c75-9b46-1dcee2f3dcd6"
   },
   "outputs": [
    {
     "name": "stdout",
     "output_type": "stream",
     "text": [
      "2625\n",
      "4746\n"
     ]
    }
   ],
   "source": [
    "print(len(toobig))\n",
    "print(len(toosmall))"
   ]
  },
  {
   "cell_type": "markdown",
   "metadata": {
    "id": "18M8GVFyS9qA"
   },
   "source": [
    "# Visualizing Dataset"
   ]
  },
  {
   "cell_type": "code",
   "execution_count": null,
   "metadata": {
    "id": "INZYksrBS9qB",
    "outputId": "9a477cfe-cc7a-48a7-ddc3-39e319fe0a5d"
   },
   "outputs": [
    {
     "name": "stdout",
     "output_type": "stream",
     "text": [
      "0\n",
      "822179\n",
      "17414.136077849304\n"
     ]
    }
   ],
   "source": [
    "import math \n",
    "mini = math.inf\n",
    "maxi = 0\n",
    "running = 0\n",
    "dist = []\n",
    "toobig = []\n",
    "toosmall = []\n",
    "for i, each in enumerate(scientific_papers['train']):\n",
    "    length = len(each['article'])\n",
    "    if mini > length:\n",
    "        mini = length\n",
    "    elif maxi < length:\n",
    "        maxi = length\n",
    "    running += length\n",
    "    if length > 200000:\n",
    "        toobig.append((i, length))\n",
    "    elif length < 2500:\n",
    "        toosmall.append((i, length))\n",
    "    dist.append(length)\n",
    "print(mini)\n",
    "print(maxi)\n",
    "print(running/len(scientific_papers['train']))"
   ]
  },
  {
   "cell_type": "code",
   "execution_count": null,
   "metadata": {
    "id": "GHWHJNmvS9qC",
    "outputId": "ff92e7b2-7e93-4e01-d0c8-2070c66f71d2"
   },
   "outputs": [
    {
     "name": "stdout",
     "output_type": "stream",
     "text": [
      "178\n",
      "4746\n"
     ]
    }
   ],
   "source": [
    "print(len(toobig))\n",
    "print(len(toosmall))"
   ]
  },
  {
   "cell_type": "markdown",
   "metadata": {
    "id": "H11iobKiS9qC"
   },
   "source": [
    "lets first visualize the distirbution of the lengths of the documents in the dataset"
   ]
  },
  {
   "cell_type": "code",
   "execution_count": null,
   "metadata": {
    "id": "3MwnGGviS9qD",
    "outputId": "f7cab825-b35a-40ba-ff1e-1798efed6de8"
   },
   "outputs": [
    {
     "data": {
      "image/png": "[encoded data removed]",
      "text/plain": [
       "<Figure size 432x288 with 1 Axes>"
      ]
     },
     "metadata": {
      "needs_background": "light",
      "tags": []
     },
     "output_type": "display_data"
    }
   ],
   "source": [
    "n_bins = 500\n",
    "#subdist = [each for each in dist if (each < 50000) and (each > 5000)]\n",
    "x = dist\n",
    "fig, ax = plt.subplots()\n",
    "ax.hist(x, bins=n_bins)\n",
    "plt.show()"
   ]
  },
  {
   "cell_type": "markdown",
   "metadata": {
    "id": "6PLhqlphS9qD"
   },
   "source": [
    "Let's get a sense of how many extremely long documents we have"
   ]
  },
  {
   "cell_type": "code",
   "execution_count": null,
   "metadata": {
    "id": "gVpIDXPWS9qE"
   },
   "outputs": [],
   "source": [
    "toobigdist = []\n",
    "for each in toobig:\n",
    "    if each[1] > 100000:\n",
    "        toobigdist.append(each[1])"
   ]
  },
  {
   "cell_type": "code",
   "execution_count": null,
   "metadata": {
    "id": "2eovAmZeS9qE",
    "outputId": "f05d7503-a31c-4e9b-8e51-ef58420552e7"
   },
   "outputs": [
    {
     "data": {
      "image/png": "[encoded data removed]",
      "text/plain": [
       "<Figure size 432x288 with 1 Axes>"
      ]
     },
     "metadata": {
      "needs_background": "light",
      "tags": []
     },
     "output_type": "display_data"
    }
   ],
   "source": [
    "n_bins = 1000\n",
    "x = toobigdist\n",
    "fig, ax = plt.subplots()\n",
    "ax.hist(x, bins=n_bins)\n",
    "plt.show()"
   ]
  },
  {
   "cell_type": "markdown",
   "metadata": {
    "id": "9nTX9DiMS9qF"
   },
   "source": [
    "Now let's get a sense of how many extermely short documents we have (< 2000 characters or roughly 400 words)"
   ]
  },
  {
   "cell_type": "code",
   "execution_count": null,
   "metadata": {
    "id": "RzCGHddZS9qF"
   },
   "outputs": [],
   "source": [
    "toosmalldist = []\n",
    "for each in toosmall:\n",
    "    if (each[1] < 2500):\n",
    "        toosmalldist.append(each[1])"
   ]
  },
  {
   "cell_type": "code",
   "execution_count": null,
   "metadata": {
    "id": "09KIenoGS9qG",
    "outputId": "cbda3675-cf4e-4e3a-c92d-4120e1709b25"
   },
   "outputs": [
    {
     "data": {
      "text/plain": [
       "4746"
      ]
     },
     "execution_count": 195,
     "metadata": {
      "tags": []
     },
     "output_type": "execute_result"
    }
   ],
   "source": [
    "len(toosmalldist)"
   ]
  },
  {
   "cell_type": "code",
   "execution_count": null,
   "metadata": {
    "id": "4w4OsfOTS9qG",
    "outputId": "381046dc-f9be-4b0d-c784-f2cacae1a504"
   },
   "outputs": [
    {
     "data": {
      "image/png": "[encoded data removed]",
      "text/plain": [
       "<Figure size 432x288 with 1 Axes>"
      ]
     },
     "metadata": {
      "needs_background": "light",
      "tags": []
     },
     "output_type": "display_data"
    }
   ],
   "source": [
    "n_bins = 100\n",
    "x = toosmalldist\n",
    "fig, ax = plt.subplots()\n",
    "ax.hist(x, bins=n_bins)\n",
    "plt.show()"
   ]
  },
  {
   "cell_type": "code",
   "execution_count": null,
   "metadata": {
    "id": "JJ7KhBFdS9qH"
   },
   "outputs": [],
   "source": [
    "toosmalldist = []\n",
    "for each in toosmall:\n",
    "    if (each[1] < 2500) and (each[1] > 0):\n",
    "        toosmalldist.append(each[1])"
   ]
  },
  {
   "cell_type": "code",
   "execution_count": null,
   "metadata": {
    "id": "Ntr2TyuAS9qI",
    "outputId": "05e2504e-2e1b-4c97-ea12-72d466389a56"
   },
   "outputs": [
    {
     "data": {
      "image/png": "[encoded data removed]",
      "text/plain": [
       "<Figure size 432x288 with 1 Axes>"
      ]
     },
     "metadata": {
      "needs_background": "light",
      "tags": []
     },
     "output_type": "display_data"
    }
   ],
   "source": [
    "n_bins = 100\n",
    "x = toosmalldist\n",
    "fig, ax = plt.subplots()\n",
    "ax.hist(x, bins=n_bins)\n",
    "plt.show()"
   ]
  },
  {
   "cell_type": "markdown",
   "metadata": {
    "id": "VpFsHOH4S9qI"
   },
   "source": [
    "There are a lot of documents with no actual article (length 0), we'll remove them.\n",
    "Also, anything shorter than 2500 characters, which is likely around 500 words, probably will not contribute to helping the model learn meaningful summaries from longer form texts. So we'll remove 178+4746=4924 examples from the training set. This is roughly 5% of it. This is just a heuristic.\n",
    "<br><br>\n",
    "We also should check how many examples we have left do not have abstracts (in which case we won't have a ground truth)\n"
   ]
  },
  {
   "cell_type": "code",
   "execution_count": null,
   "metadata": {
    "id": "vYhacY-kS9qJ"
   },
   "outputs": [],
   "source": [
    "noabs= []\n",
    "for i, each in enumerate(scientific_papers['train']):\n",
    "    length = len(each['article'])\n",
    "    if (length <= 100000) and (length >=2500):\n",
    "        abstractlen = len(each['abstract'])\n",
    "        if abstractlen == 0:\n",
    "            noabs.append(i)\n"
   ]
  },
  {
   "cell_type": "code",
   "execution_count": null,
   "metadata": {
    "id": "hwtURfK9S9qK",
    "outputId": "56390a16-4f6b-4b57-9ceb-1407ee079ba0"
   },
   "outputs": [
    {
     "data": {
      "text/plain": [
       "0"
      ]
     },
     "execution_count": 211,
     "metadata": {
      "tags": []
     },
     "output_type": "execute_result"
    }
   ],
   "source": [
    "len(noabs)"
   ]
  },
  {
   "cell_type": "markdown",
   "metadata": {
    "id": "reKKKcq8S9qK"
   },
   "source": [
    "Nice, there are none.<br><br>\n",
    "Now we can consolidate all the indices of examples we want to eliminate"
   ]
  },
  {
   "cell_type": "code",
   "execution_count": null,
   "metadata": {
    "id": "od-q_GnJS9qL"
   },
   "outputs": [],
   "source": [
    "toobigidx = [each[0] for each in toobig]\n",
    "toosmallidx = [each[0] for each in toosmall]\n",
    "omit = toobigidx + toosmallidx\n",
    "\n",
    "#pickle.dump(omit, open(\"omit.p\", 'wb'))\n",
    "#pickle.load(open(\"omit.p\", 'rb'))"
   ]
  },
  {
   "cell_type": "markdown",
   "metadata": {
    "id": "Hc2hSfSWS9qL"
   },
   "source": [
    "# Process Dataset"
   ]
  },
  {
   "cell_type": "code",
   "execution_count": 25,
   "metadata": {
    "colab": {
     "base_uri": "https://localhost:8080/",
     "height": 333
    },
    "collapsed": true,
    "executionInfo": {
     "elapsed": 387,
     "status": "error",
     "timestamp": 1609450551897,
     "user": {
      "displayName": "Quant ONE Team",
      "photoUrl": "",
      "userId": "15729295471868687340"
     },
     "user_tz": 300
    },
    "id": "DfGmEgV2S9qM",
    "outputId": "cab5cc53-802e-469d-971e-6512b400c87f"
   },
   "outputs": [
    {
     "name": "stdout",
     "output_type": "stream",
     "text": [
      "[]\n"
     ]
    },
    {
     "ename": "IndexError",
     "evalue": "ignored",
     "output_type": "error",
     "traceback": [
      "\u001b[0;31m---------------------------------------------------------------------------\u001b[0m",
      "\u001b[0;31mIndexError\u001b[0m                                Traceback (most recent call last)",
      "\u001b[0;32m<ipython-input-25-9b706ddcbca1>\u001b[0m in \u001b[0;36m<module>\u001b[0;34m()\u001b[0m\n\u001b[1;32m      1\u001b[0m \u001b[0marticle\u001b[0m \u001b[0;34m=\u001b[0m \u001b[0mlist\u001b[0m\u001b[0;34m(\u001b[0m\u001b[0mdict\u001b[0m\u001b[0;34m.\u001b[0m\u001b[0mfromkeys\u001b[0m\u001b[0;34m(\u001b[0m\u001b[0mnltk\u001b[0m\u001b[0;34m.\u001b[0m\u001b[0msent_tokenize\u001b[0m\u001b[0;34m(\u001b[0m\u001b[0mscientific_papers\u001b[0m\u001b[0;34m[\u001b[0m\u001b[0;34m'train'\u001b[0m\u001b[0;34m]\u001b[0m\u001b[0;34m[\u001b[0m\u001b[0;36m11\u001b[0m\u001b[0;34m]\u001b[0m\u001b[0;34m[\u001b[0m\u001b[0;34m'article'\u001b[0m\u001b[0;34m]\u001b[0m\u001b[0;34m.\u001b[0m\u001b[0mreplace\u001b[0m\u001b[0;34m(\u001b[0m\u001b[0;34m'\\n'\u001b[0m\u001b[0;34m,\u001b[0m \u001b[0;34m' '\u001b[0m\u001b[0;34m)\u001b[0m\u001b[0;34m)\u001b[0m\u001b[0;34m)\u001b[0m\u001b[0;34m)\u001b[0m\u001b[0;34m\u001b[0m\u001b[0;34m\u001b[0m\u001b[0m\n\u001b[1;32m      2\u001b[0m \u001b[0mabstract\u001b[0m \u001b[0;34m=\u001b[0m \u001b[0mnltk\u001b[0m\u001b[0;34m.\u001b[0m\u001b[0msent_tokenize\u001b[0m\u001b[0;34m(\u001b[0m\u001b[0mscientific_papers\u001b[0m\u001b[0;34m[\u001b[0m\u001b[0;34m'train'\u001b[0m\u001b[0;34m]\u001b[0m\u001b[0;34m[\u001b[0m\u001b[0;36m11\u001b[0m\u001b[0;34m]\u001b[0m\u001b[0;34m[\u001b[0m\u001b[0;34m'abstract'\u001b[0m\u001b[0;34m]\u001b[0m\u001b[0;34m.\u001b[0m\u001b[0mreplace\u001b[0m\u001b[0;34m(\u001b[0m\u001b[0;34m'\\n'\u001b[0m\u001b[0;34m,\u001b[0m \u001b[0;34m' '\u001b[0m\u001b[0;34m)\u001b[0m\u001b[0;34m)\u001b[0m\u001b[0;34m\u001b[0m\u001b[0;34m\u001b[0m\u001b[0m\n\u001b[0;32m----> 3\u001b[0;31m \u001b[0mres\u001b[0m \u001b[0;34m=\u001b[0m \u001b[0mnallapati_method\u001b[0m\u001b[0;34m(\u001b[0m\u001b[0marticle\u001b[0m\u001b[0;34m,\u001b[0m \u001b[0mabstract\u001b[0m\u001b[0;34m)\u001b[0m\u001b[0;34m\u001b[0m\u001b[0;34m\u001b[0m\u001b[0m\n\u001b[0m",
      "\u001b[0;32m/content/mnt/My Drive/nlp/sentence-transformer/oracle_generator.py\u001b[0m in \u001b[0;36mnallapati_method\u001b[0;34m(article_sents, abstract_sents)\u001b[0m\n\u001b[1;32m     47\u001b[0m         \u001b[0mprev_score\u001b[0m \u001b[0;34m=\u001b[0m \u001b[0mcur_score\u001b[0m\u001b[0;34m\u001b[0m\u001b[0;34m\u001b[0m\u001b[0m\n\u001b[1;32m     48\u001b[0m         \u001b[0mselected_summary\u001b[0m \u001b[0;34m=\u001b[0m \u001b[0mcandidate_summary\u001b[0m\u001b[0;34m\u001b[0m\u001b[0;34m\u001b[0m\u001b[0m\n\u001b[0;32m---> 49\u001b[0;31m         \u001b[0mcandidate_summary\u001b[0m \u001b[0;34m=\u001b[0m \u001b[0mselected_summary\u001b[0m \u001b[0;34m+\u001b[0m \u001b[0;34m[\u001b[0m\u001b[0mtoprougesentences\u001b[0m\u001b[0;34m[\u001b[0m\u001b[0mtopn\u001b[0m\u001b[0;34m-\u001b[0m\u001b[0;36m1\u001b[0m\u001b[0;34m]\u001b[0m\u001b[0;34m]\u001b[0m\u001b[0;34m\u001b[0m\u001b[0;34m\u001b[0m\u001b[0m\n\u001b[0m\u001b[1;32m     50\u001b[0m         \u001b[0mcur_score\u001b[0m\u001b[0;34m,\u001b[0m \u001b[0mcandidate_summary\u001b[0m \u001b[0;34m=\u001b[0m \u001b[0mcal_rouge\u001b[0m\u001b[0;34m(\u001b[0m\u001b[0mcandidate_summary\u001b[0m\u001b[0;34m,\u001b[0m \u001b[0marticle_sents\u001b[0m\u001b[0;34m,\u001b[0m \u001b[0mabstract_sents\u001b[0m\u001b[0;34m)\u001b[0m\u001b[0;34m\u001b[0m\u001b[0;34m\u001b[0m\u001b[0m\n\u001b[1;32m     51\u001b[0m         \u001b[0mtopn\u001b[0m \u001b[0;34m+=\u001b[0m \u001b[0;36m1\u001b[0m\u001b[0;34m\u001b[0m\u001b[0;34m\u001b[0m\u001b[0m\n",
      "\u001b[0;31mIndexError\u001b[0m: list index out of range"
     ]
    }
   ],
   "source": [
    "article = list(dict.fromkeys(nltk.sent_tokenize(scientific_papers['train'][11]['article'].replace('\\n', ' '))))\n",
    "abstract = nltk.sent_tokenize(scientific_papers['train'][11]['abstract'].replace('\\n', ' '))\n",
    "res = nallapati_method(article, abstract)"
   ]
  },
  {
   "cell_type": "code",
   "execution_count": null,
   "metadata": {
    "id": "KdKmZRj-S9qN"
   },
   "outputs": [],
   "source": [
    "seqlabel = [1 if i+1 in res[1] else 0 for i, each in enumerate(article)]"
   ]
  },
  {
   "cell_type": "code",
   "execution_count": null,
   "metadata": {
    "id": "ySt3sOCnS9qN",
    "outputId": "69f4cc29-af3b-4f9d-ec77-7875ccf68a1a"
   },
   "outputs": [
    {
     "data": {
      "text/plain": [
       "array([0, 0, 0, 0, 0, 0, 0, 0, 0, 0, 0, 0, 0, 0, 0, 0, 0, 0, 0, 0, 0, 0,\n",
       "       0, 0, 0, 0, 0, 0, 0, 0, 0, 0, 0, 0, 0, 0, 0, 0, 1, 1, 0, 0, 0, 0,\n",
       "       1, 0, 0, 0, 0])"
      ]
     },
     "execution_count": 69,
     "metadata": {
      "tags": []
     },
     "output_type": "execute_result"
    }
   ],
   "source": [
    "np.array(seqlabel)"
   ]
  },
  {
   "cell_type": "code",
   "execution_count": null,
   "metadata": {
    "collapsed": true,
    "id": "bD41Maq_S9qO",
    "outputId": "9d3d37cc-30d7-470f-f365-5252b52735c8"
   },
   "outputs": [
    {
     "data": {
      "text/plain": [
       "[0,\n",
       " 0,\n",
       " 0,\n",
       " 0,\n",
       " 0,\n",
       " 0,\n",
       " 0,\n",
       " 0,\n",
       " 0,\n",
       " 0,\n",
       " 0,\n",
       " 0,\n",
       " 0,\n",
       " 0,\n",
       " 0,\n",
       " 0,\n",
       " 0,\n",
       " 0,\n",
       " 0,\n",
       " 0,\n",
       " 0,\n",
       " 0,\n",
       " 0,\n",
       " 0,\n",
       " 0,\n",
       " 0,\n",
       " 0,\n",
       " 0,\n",
       " 0,\n",
       " 0,\n",
       " 0,\n",
       " 0,\n",
       " 0,\n",
       " 0,\n",
       " 0,\n",
       " 0,\n",
       " 0,\n",
       " 0,\n",
       " 1,\n",
       " 1,\n",
       " 0,\n",
       " 0,\n",
       " 0,\n",
       " 0,\n",
       " 1,\n",
       " 0,\n",
       " 0,\n",
       " 0,\n",
       " 0]"
      ]
     },
     "execution_count": 65,
     "metadata": {
      "tags": []
     },
     "output_type": "execute_result"
    }
   ],
   "source": [
    "seqlabel"
   ]
  },
  {
   "cell_type": "code",
   "execution_count": 87,
   "metadata": {},
   "outputs": [
    {
     "data": {
      "text/plain": [
       "<tf.Tensor: shape=(), dtype=string, numpy=b' backgroundarteriovenous malformations ( avms ) with vascular abnormalities , including aneurysms , have been reported frequently . however , the coexistence of avm and unilateral moyamoya disease is rare . \\n we report herein an avm patient who presented with acute ischemic stroke with unilateral moyamoya disease and occlusion of the feeding artery.case reporta-41-year old man was admitted with sudden dysarthria and facial palsy . \\n brain computed tomography and magnetic resonance imaging revealed an acute infarction adjacent to a large avm in the right frontal lobe . \\n cerebral angiography revealed occlusions of the proximal right middle cerebral and proximal anterior cerebral arteries , which were the main feeders of the avm . \\n innumerable telangiectatic moyamoya - type vessels between branches of the anterior cerebral artery and dilated lenticulostriate arteries on the occluded middle cerebral artery were detected . \\n however , a nidus of the avm was still opacified through the distal right callosomarginal artery , which was supplied by the remaining anterior cerebral artery and leptomeningeal collaterals from the posterior cerebral artery.conclusionswhile avm accompanied by unilateral moyamoya disease is rare , our case suggests an association between these two dissimilar vascular diseases . '>"
      ]
     },
     "execution_count": 87,
     "metadata": {},
     "output_type": "execute_result"
    }
   ],
   "source": [
    "temp"
   ]
  },
  {
   "cell_type": "code",
   "execution_count": 94,
   "metadata": {},
   "outputs": [
    {
     "data": {
      "text/plain": [
       "<MapDataset shapes: {abstract: (), article: (), section_names: (), labels: ()}, types: {abstract: tf.string, article: tf.string, section_names: tf.string, labels: tf.string}>"
      ]
     },
     "execution_count": 94,
     "metadata": {},
     "output_type": "execute_result"
    }
   ],
   "source": [
    "def tfunc (ex):\n",
    "    abstract = str(example['abstract']).replace(\"\\\\n\", ' ')\n",
    "    abstract = nltk.sent_tokenize(abstract)\n",
    "    return len(abstract)\n",
    "scientific_papers.map(tfunc)\n",
    "for each in scientific"
   ]
  },
  {
   "cell_type": "code",
   "execution_count": 93,
   "metadata": {},
   "outputs": [
    {
     "name": "stderr",
     "output_type": "stream",
     "text": [
      "IOPub data rate exceeded.\n",
      "The notebook server will temporarily stop sending output\n",
      "to the client in order to avoid crashing it.\n",
      "To change this limit, set the config variable\n",
      "`--NotebookApp.iopub_data_rate_limit`.\n",
      "\n",
      "Current values:\n",
      "NotebookApp.iopub_data_rate_limit=1000000.0 (bytes/sec)\n",
      "NotebookApp.rate_limit_window=3.0 (secs)\n",
      "\n"
     ]
    },
    {
     "ename": "KeyboardInterrupt",
     "evalue": "",
     "output_type": "error",
     "traceback": [
      "\u001b[0;31m---------------------------------------------------------------------------\u001b[0m",
      "\u001b[0;31mKeyboardInterrupt\u001b[0m                         Traceback (most recent call last)",
      "\u001b[0;32m<ipython-input-93-c92bf97c9e95>\u001b[0m in \u001b[0;36m<module>\u001b[0;34m\u001b[0m\n\u001b[1;32m      5\u001b[0m \u001b[0mthing\u001b[0m \u001b[0;34m=\u001b[0m \u001b[0mthing\u001b[0m\u001b[0;34m.\u001b[0m\u001b[0mmap\u001b[0m\u001b[0;34m(\u001b[0m\u001b[0mtfunc\u001b[0m\u001b[0;34m)\u001b[0m\u001b[0;34m\u001b[0m\u001b[0;34m\u001b[0m\u001b[0m\n\u001b[1;32m      6\u001b[0m \u001b[0;32mfor\u001b[0m \u001b[0meach\u001b[0m \u001b[0;32min\u001b[0m \u001b[0mscientific_papers\u001b[0m\u001b[0;34m:\u001b[0m\u001b[0;34m\u001b[0m\u001b[0;34m\u001b[0m\u001b[0m\n\u001b[0;32m----> 7\u001b[0;31m     \u001b[0mprint\u001b[0m\u001b[0;34m(\u001b[0m\u001b[0meach\u001b[0m\u001b[0;34m)\u001b[0m\u001b[0;34m\u001b[0m\u001b[0;34m\u001b[0m\u001b[0m\n\u001b[0m",
      "\u001b[0;32m~/.conda/envs/alex/lib/python3.7/site-packages/tensorflow/python/framework/ops.py\u001b[0m in \u001b[0;36m__repr__\u001b[0;34m(self)\u001b[0m\n\u001b[1;32m    907\u001b[0m   \u001b[0;32mdef\u001b[0m \u001b[0m__repr__\u001b[0m\u001b[0;34m(\u001b[0m\u001b[0mself\u001b[0m\u001b[0;34m)\u001b[0m\u001b[0;34m:\u001b[0m\u001b[0;34m\u001b[0m\u001b[0;34m\u001b[0m\u001b[0m\n\u001b[1;32m    908\u001b[0m     return \"<tf.Tensor: shape=%s, dtype=%s, numpy=%s>\" % (\n\u001b[0;32m--> 909\u001b[0;31m         self.shape, self.dtype.name, numpy_text(self, is_repr=True))\n\u001b[0m\u001b[1;32m    910\u001b[0m \u001b[0;34m\u001b[0m\u001b[0m\n\u001b[1;32m    911\u001b[0m   \u001b[0;32mdef\u001b[0m \u001b[0m__len__\u001b[0m\u001b[0;34m(\u001b[0m\u001b[0mself\u001b[0m\u001b[0;34m)\u001b[0m\u001b[0;34m:\u001b[0m\u001b[0;34m\u001b[0m\u001b[0;34m\u001b[0m\u001b[0m\n",
      "\u001b[0;32m~/.conda/envs/alex/lib/python3.7/site-packages/tensorflow/python/framework/ops.py\u001b[0m in \u001b[0;36mnumpy_text\u001b[0;34m(tensor, is_repr)\u001b[0m\n\u001b[1;32m    262\u001b[0m   \u001b[0;32mif\u001b[0m \u001b[0mtensor\u001b[0m\u001b[0;34m.\u001b[0m\u001b[0mdtype\u001b[0m\u001b[0;34m.\u001b[0m\u001b[0mis_numpy_compatible\u001b[0m\u001b[0;34m:\u001b[0m\u001b[0;34m\u001b[0m\u001b[0;34m\u001b[0m\u001b[0m\n\u001b[1;32m    263\u001b[0m     \u001b[0;31m# pylint: disable=protected-access\u001b[0m\u001b[0;34m\u001b[0m\u001b[0;34m\u001b[0m\u001b[0;34m\u001b[0m\u001b[0m\n\u001b[0;32m--> 264\u001b[0;31m     \u001b[0mtext\u001b[0m \u001b[0;34m=\u001b[0m \u001b[0mrepr\u001b[0m\u001b[0;34m(\u001b[0m\u001b[0mtensor\u001b[0m\u001b[0;34m.\u001b[0m\u001b[0m_numpy\u001b[0m\u001b[0;34m(\u001b[0m\u001b[0;34m)\u001b[0m\u001b[0;34m)\u001b[0m \u001b[0;32mif\u001b[0m \u001b[0mis_repr\u001b[0m \u001b[0;32melse\u001b[0m \u001b[0mstr\u001b[0m\u001b[0;34m(\u001b[0m\u001b[0mtensor\u001b[0m\u001b[0;34m.\u001b[0m\u001b[0m_numpy\u001b[0m\u001b[0;34m(\u001b[0m\u001b[0;34m)\u001b[0m\u001b[0;34m)\u001b[0m\u001b[0;34m\u001b[0m\u001b[0;34m\u001b[0m\u001b[0m\n\u001b[0m\u001b[1;32m    265\u001b[0m     \u001b[0;31m# pylint: enable=protected-access\u001b[0m\u001b[0;34m\u001b[0m\u001b[0;34m\u001b[0m\u001b[0;34m\u001b[0m\u001b[0m\n\u001b[1;32m    266\u001b[0m   \u001b[0;32melse\u001b[0m\u001b[0;34m:\u001b[0m\u001b[0;34m\u001b[0m\u001b[0;34m\u001b[0m\u001b[0m\n",
      "\u001b[0;31mKeyboardInterrupt\u001b[0m: "
     ]
    }
   ],
   "source": [
    "for example in scientific_papers:\n",
    "    abstract = str(example['abstract']).replace(\"\\\\n\", ' ')\n",
    "    abstract = nltk.sent_tokenize(abstract)\n",
    "    len(abstract)"
   ]
  },
  {
   "cell_type": "code",
   "execution_count": 81,
   "metadata": {
    "id": "FAgXhudOy9v9"
   },
   "outputs": [
    {
     "name": "stdout",
     "output_type": "stream",
     "text": [
      "{'labels': array([0, 1, 1, 1, 1, 1, 1, 0, 0, 0, 0, 0, 0, 0, 0, 0, 0, 0, 0, 0, 0, 0,\n",
      "       0, 0, 0, 0, 0, 0, 0, 0, 0, 0, 0, 0, 0, 0, 0, 0, 0, 0, 0, 0, 0, 0,\n",
      "       0, 0, 0, 0, 0, 0, 0, 0]), 'embeddings': tensor([[ 0.1350, -0.5246, -0.3444,  ...,  0.1921,  0.5139, -0.2309],\n",
      "        [-0.0777,  0.1273,  0.9286,  ..., -1.2782,  0.1533, -0.2617],\n",
      "        [-0.2679, -0.1546,  0.3678,  ..., -0.8857,  0.2250,  0.3842],\n",
      "        ...,\n",
      "        [-0.1486, -0.1448, -0.4844,  ..., -1.5481,  0.2807,  0.1335],\n",
      "        [-0.0270,  0.1195,  0.3596,  ..., -0.9456,  0.2627, -0.5638],\n",
      "        [-0.2507, -1.1492, -0.5785,  ...,  0.3962,  0.3665,  0.4034]])}\n",
      "{'labels': array([1, 0, 0, 1, 0, 0, 0, 0, 0, 0, 0, 0, 0, 0, 0, 0, 0, 0, 1, 0, 0, 0,\n",
      "       0, 0, 0, 0, 0, 0, 0, 0, 0, 0, 0, 0, 0, 0, 0, 0, 0, 0, 0, 0, 0, 0,\n",
      "       0, 0]), 'embeddings': tensor([[ 0.1462, -0.4946,  0.0585,  ..., -0.4066,  0.0273, -0.3808],\n",
      "        [-0.5076,  0.2109, -0.4607,  ...,  0.1751,  0.5419, -0.2569],\n",
      "        [-0.2040,  0.0766, -0.2606,  ...,  0.1395, -0.4443, -0.1288],\n",
      "        ...,\n",
      "        [ 0.9112,  0.3122, -0.9842,  ...,  0.0478, -0.2763,  0.1432],\n",
      "        [-0.2485,  0.0093,  0.1393,  ...,  0.2002, -0.1742,  0.1248],\n",
      "        [-0.2573, -1.1627, -0.4857,  ...,  0.5072,  0.3727,  0.3569]])}\n",
      "{'labels': array([0, 0, 0, 0, 0, 0, 0, 1, 0, 0, 0, 0, 0, 0, 0, 0, 0, 0, 0, 0, 0, 0,\n",
      "       0, 0, 0, 0, 0, 0, 0, 0, 0, 0, 0, 0, 0, 1, 0, 0, 0, 0, 0, 1, 0, 0,\n",
      "       0, 0, 0, 0, 0, 0]), 'embeddings': tensor([[-0.3231, -0.8945,  0.3463,  ..., -0.5847, -0.5370, -0.1089],\n",
      "        [-0.2612, -0.4118,  0.9913,  ...,  0.3860,  0.0749,  0.7011],\n",
      "        [-0.7256, -0.9825, -0.0205,  ...,  0.3587, -0.4790,  0.4113],\n",
      "        ...,\n",
      "        [-0.5182, -0.8440,  0.4864,  ..., -0.0746, -0.2296,  0.2720],\n",
      "        [-0.0063, -0.8811,  0.5954,  ..., -0.8243, -0.3473,  0.1790],\n",
      "        [-0.2507, -1.1492, -0.5785,  ...,  0.3962,  0.3665,  0.4034]])}\n",
      "{'labels': array([0, 1, 0, 0]), 'embeddings': tensor([[ 0.4355, -0.7730, -0.0631,  ..., -0.3631, -0.0870, -0.0364],\n",
      "        [ 0.4057, -0.7368, -0.2954,  ...,  0.0780, -0.2055,  0.2782],\n",
      "        [ 0.3848, -0.7343, -0.2296,  ..., -0.0135, -0.2530,  0.2310],\n",
      "        [-0.3806, -1.5593, -0.1122,  ..., -0.5452,  0.5682,  0.1293]])}\n",
      "{'labels': array([0, 0, 0, 0, 0, 0, 0, 0, 1, 0, 0, 0, 0, 0, 0, 0, 0, 1, 0, 0, 0, 0,\n",
      "       0, 0, 0, 0, 0, 0, 0, 0, 0, 0, 0, 1, 0, 0, 0, 0, 0, 0, 0, 0, 0, 0,\n",
      "       0, 0, 0, 0, 0, 0, 0, 0, 0, 0, 0, 0, 0, 0, 0, 0, 0, 0, 0, 0, 0, 0,\n",
      "       0, 0, 0, 0, 0, 0, 0, 0, 0, 0, 0, 0, 0, 0, 0, 0, 0, 0, 0, 0, 0, 0,\n",
      "       0, 0, 0, 0, 0, 0, 0, 0, 0, 0, 0, 0, 0, 0, 0, 0, 0, 0, 0, 0, 0, 0,\n",
      "       0, 0, 0, 0, 0, 0, 0, 0, 0, 0, 0, 0, 0, 0, 0, 0, 0, 0, 0, 0, 0, 0,\n",
      "       0, 0, 0, 0, 0, 0, 0, 0, 0, 0, 0, 0, 0, 0, 0, 0, 0, 0, 0, 0, 0, 0,\n",
      "       0, 0, 0, 0, 0, 0, 0, 0, 0, 0, 0, 0, 0, 0, 0, 0, 0, 0, 0, 0, 0, 0,\n",
      "       0, 0, 0, 0, 0, 0, 0, 0, 0, 0, 0, 0, 0, 0, 0, 0, 0, 0, 0, 0, 0, 0,\n",
      "       0, 0, 0, 0, 0, 0, 0, 0, 0, 0, 0, 0, 0, 0, 0, 0, 0, 0, 0, 1, 0, 0]), 'embeddings': tensor([[ 0.2963, -0.3146,  0.1090,  ..., -0.3261, -0.2946, -0.2886],\n",
      "        [ 0.0402, -0.8910, -0.1893,  ...,  0.1250, -0.1684,  0.4785],\n",
      "        [ 0.0734, -0.7529,  0.5168,  ..., -0.4438,  0.2671,  0.1471],\n",
      "        ...,\n",
      "        [ 0.8555, -0.5273,  0.0429,  ..., -0.0095, -0.2271,  0.3289],\n",
      "        [ 0.6345, -0.4632, -0.1394,  ...,  0.2373,  0.2720,  0.5036],\n",
      "        [-0.2507, -1.1492, -0.5785,  ...,  0.3962,  0.3665,  0.4034]])}\n",
      "{'labels': array([0, 0, 0, 0, 0, 0, 0, 0, 0, 0, 0, 0, 0, 0, 0, 0, 0, 0, 0, 0, 0, 0,\n",
      "       0, 0, 0, 0, 0, 0, 0, 1, 0, 0, 0, 0, 0, 0, 0, 0, 1, 0, 1, 0, 0, 0,\n",
      "       0, 0, 0, 0, 0, 0, 0, 0, 1, 0, 0, 0, 0, 1, 0, 1, 0, 0, 0, 0, 0, 0,\n",
      "       0, 0, 0, 0, 0, 0, 0, 0, 0, 0, 0, 0, 0, 0, 0, 1, 1, 0, 0]), 'embeddings': tensor([[-0.1245, -0.5521, -0.1055,  ..., -0.2128, -0.3058,  0.2276],\n",
      "        [ 0.0758, -0.3184, -0.2234,  ..., -0.6025, -0.0459,  0.1022],\n",
      "        [ 0.6859, -0.5664,  0.3051,  ..., -0.1567, -0.4208, -0.1109],\n",
      "        ...,\n",
      "        [-0.3622, -0.0479, -0.2135,  ..., -0.1282, -0.0133, -0.0746],\n",
      "        [ 0.3324, -0.6489, -0.7799,  ...,  0.4159,  0.0120, -0.4189],\n",
      "        [-0.2573, -1.1627, -0.4857,  ...,  0.5072,  0.3727,  0.3569]])}\n"
     ]
    }
   ],
   "source": [
    "omit =sorted(pickle.load(open(\"omit.p\", 'rb')))\n",
    "model = SentenceTransformer('msmarco-distilroberta-base-v2')\n",
    "for i, example in enumerate(scientific_papers):\n",
    "    article = str(example['article']).replace(\"\\\\n\", ' ')\n",
    "    article = list(dict.fromkeys(nltk.sent_tokenize(article)))\n",
    "    abstract = str(example['abstract']).replace(\"\\\\n\", ' ')\n",
    "    abstract = nltk.sent_tokenize(abstract)\n",
    "    res = nallapati_method(article, abstract)\n",
    "    tmp = {}\n",
    "    for each in res[1]:\n",
    "        print()\n",
    "    print(abstract)\n",
    "    tmp['labels'] = np.array([1 if i+1 in res[1] else 0 for i, each in enumerate(article)])\n",
    "    tmp['embeddings'] = model.encode(article, convert_to_tensor=True)\n",
    "    #print(tmp)\n",
    "    if (i == 1):\n",
    "        break"
   ]
  },
  {
   "cell_type": "code",
   "execution_count": 9,
   "metadata": {
    "colab": {
     "base_uri": "https://localhost:8080/",
     "height": 562,
     "referenced_widgets": [
      "76fb7c75e1b94b61bd523fa1c4a35eb2",
      "f1fb796825b14cdd8fb0611d15b5e2fe",
      "25e6113685c24a1794f7ce6b0fef6868",
      "7f44f41328104d8aaf2baab05daa1ce6",
      "2b0e1a58c364418bab89daf03b748ec1",
      "b3e4ba8b7f674aa18e7f2ab691645298",
      "0bc9943884734835af261d7eff35000f",
      "80f03f9ba923476da319209e3b1e2ede"
     ]
    },
    "collapsed": true,
    "executionInfo": {
     "elapsed": 120668,
     "status": "error",
     "timestamp": 1609453050567,
     "user": {
      "displayName": "Quant ONE Team",
      "photoUrl": "",
      "userId": "15729295471868687340"
     },
     "user_tz": 300
    },
    "id": "E-bcIASOS9qP",
    "outputId": "2816c92e-f7ba-4483-9d84-b478026ef946"
   },
   "outputs": [
    {
     "name": "stderr",
     "output_type": "stream",
     "text": [
      "100%|██████████| 305M/305M [00:12<00:00, 24.1MB/s]\n"
     ]
    },
    {
     "data": {
      "application/vnd.jupyter.widget-view+json": {
       "model_id": "76fb7c75e1b94b61bd523fa1c4a35eb2",
       "version_major": 2,
       "version_minor": 0
      },
      "text/plain": [
       "HBox(children=(FloatProgress(value=0.0, max=119924.0), HTML(value='')))"
      ]
     },
     "metadata": {
      "tags": []
     },
     "output_type": "display_data"
    },
    {
     "name": "stderr",
     "output_type": "stream",
     "text": [
      "Token indices sequence length is longer than the specified maximum sequence length for this model (719 > 512). Running this sequence through the model will result in indexing errors\n"
     ]
    },
    {
     "ename": "KeyError",
     "evalue": "ignored",
     "output_type": "error",
     "traceback": [
      "\u001b[0;31m---------------------------------------------------------------------------\u001b[0m",
      "\u001b[0;31mKeyboardInterrupt\u001b[0m                         Traceback (most recent call last)",
      "\u001b[0;32m/usr/local/lib/python3.6/dist-packages/datasets/arrow_dataset.py\u001b[0m in \u001b[0;36m_map_single\u001b[0;34m(self, function, with_indices, input_columns, batched, batch_size, drop_last_batch, remove_columns, keep_in_memory, load_from_cache_file, cache_file_name, writer_batch_size, features, disable_nullable, fn_kwargs, new_fingerprint, rank, offset, update_data)\u001b[0m\n\u001b[1;32m   1507\u001b[0m                 \u001b[0;32mfor\u001b[0m \u001b[0mi\u001b[0m\u001b[0;34m,\u001b[0m \u001b[0mexample\u001b[0m \u001b[0;32min\u001b[0m \u001b[0menumerate\u001b[0m\u001b[0;34m(\u001b[0m\u001b[0mpbar\u001b[0m\u001b[0;34m)\u001b[0m\u001b[0;34m:\u001b[0m\u001b[0;34m\u001b[0m\u001b[0;34m\u001b[0m\u001b[0m\n\u001b[0;32m-> 1508\u001b[0;31m                     \u001b[0mexample\u001b[0m \u001b[0;34m=\u001b[0m \u001b[0mapply_function_on_filtered_inputs\u001b[0m\u001b[0;34m(\u001b[0m\u001b[0mexample\u001b[0m\u001b[0;34m,\u001b[0m \u001b[0mi\u001b[0m\u001b[0;34m,\u001b[0m \u001b[0moffset\u001b[0m\u001b[0;34m=\u001b[0m\u001b[0moffset\u001b[0m\u001b[0;34m)\u001b[0m\u001b[0;34m\u001b[0m\u001b[0;34m\u001b[0m\u001b[0m\n\u001b[0m\u001b[1;32m   1509\u001b[0m                     \u001b[0;32mif\u001b[0m \u001b[0mupdate_data\u001b[0m\u001b[0;34m:\u001b[0m\u001b[0;34m\u001b[0m\u001b[0;34m\u001b[0m\u001b[0m\n",
      "\u001b[0;32m/usr/local/lib/python3.6/dist-packages/datasets/arrow_dataset.py\u001b[0m in \u001b[0;36mapply_function_on_filtered_inputs\u001b[0;34m(inputs, indices, check_same_num_examples, offset)\u001b[0m\n\u001b[1;32m   1437\u001b[0m             processed_inputs = (\n\u001b[0;32m-> 1438\u001b[0;31m                 \u001b[0mfunction\u001b[0m\u001b[0;34m(\u001b[0m\u001b[0;34m*\u001b[0m\u001b[0mfn_args\u001b[0m\u001b[0;34m,\u001b[0m \u001b[0meffective_indices\u001b[0m\u001b[0;34m,\u001b[0m \u001b[0;34m**\u001b[0m\u001b[0mfn_kwargs\u001b[0m\u001b[0;34m)\u001b[0m \u001b[0;32mif\u001b[0m \u001b[0mwith_indices\u001b[0m \u001b[0;32melse\u001b[0m \u001b[0mfunction\u001b[0m\u001b[0;34m(\u001b[0m\u001b[0;34m*\u001b[0m\u001b[0mfn_args\u001b[0m\u001b[0;34m,\u001b[0m \u001b[0;34m**\u001b[0m\u001b[0mfn_kwargs\u001b[0m\u001b[0;34m)\u001b[0m\u001b[0;34m\u001b[0m\u001b[0;34m\u001b[0m\u001b[0m\n\u001b[0m\u001b[1;32m   1439\u001b[0m             )\n",
      "\u001b[0;32m<ipython-input-9-478fc997be5f>\u001b[0m in \u001b[0;36mbuild_new_data\u001b[0;34m(example, idx)\u001b[0m\n\u001b[1;32m      9\u001b[0m     \u001b[0mabstract\u001b[0m \u001b[0;34m=\u001b[0m \u001b[0mnltk\u001b[0m\u001b[0;34m.\u001b[0m\u001b[0msent_tokenize\u001b[0m\u001b[0;34m(\u001b[0m\u001b[0mexample\u001b[0m\u001b[0;34m[\u001b[0m\u001b[0;34m'abstract'\u001b[0m\u001b[0;34m]\u001b[0m\u001b[0;34m.\u001b[0m\u001b[0mreplace\u001b[0m\u001b[0;34m(\u001b[0m\u001b[0;34m'\\n'\u001b[0m\u001b[0;34m,\u001b[0m \u001b[0;34m' '\u001b[0m\u001b[0;34m)\u001b[0m\u001b[0;34m)\u001b[0m\u001b[0;34m\u001b[0m\u001b[0;34m\u001b[0m\u001b[0m\n\u001b[0;32m---> 10\u001b[0;31m     \u001b[0mres\u001b[0m \u001b[0;34m=\u001b[0m \u001b[0mnallapati_method\u001b[0m\u001b[0;34m(\u001b[0m\u001b[0marticle\u001b[0m\u001b[0;34m,\u001b[0m \u001b[0mabstract\u001b[0m\u001b[0;34m)\u001b[0m\u001b[0;34m\u001b[0m\u001b[0;34m\u001b[0m\u001b[0m\n\u001b[0m\u001b[1;32m     11\u001b[0m     \u001b[0mexample\u001b[0m\u001b[0;34m[\u001b[0m\u001b[0;34m'labels'\u001b[0m\u001b[0;34m]\u001b[0m \u001b[0;34m=\u001b[0m \u001b[0mnp\u001b[0m\u001b[0;34m.\u001b[0m\u001b[0marray\u001b[0m\u001b[0;34m(\u001b[0m\u001b[0;34m[\u001b[0m\u001b[0;36m1\u001b[0m \u001b[0;32mif\u001b[0m \u001b[0mi\u001b[0m\u001b[0;34m+\u001b[0m\u001b[0;36m1\u001b[0m \u001b[0;32min\u001b[0m \u001b[0mres\u001b[0m\u001b[0;34m[\u001b[0m\u001b[0;36m1\u001b[0m\u001b[0;34m]\u001b[0m \u001b[0;32melse\u001b[0m \u001b[0;36m0\u001b[0m \u001b[0;32mfor\u001b[0m \u001b[0mi\u001b[0m\u001b[0;34m,\u001b[0m \u001b[0meach\u001b[0m \u001b[0;32min\u001b[0m \u001b[0menumerate\u001b[0m\u001b[0;34m(\u001b[0m\u001b[0marticle\u001b[0m\u001b[0;34m)\u001b[0m\u001b[0;34m]\u001b[0m\u001b[0;34m)\u001b[0m\u001b[0;34m\u001b[0m\u001b[0;34m\u001b[0m\u001b[0m\n",
      "\u001b[0;32m/content/mnt/My Drive/nlp/sentence-transformer/oracle_generator.py\u001b[0m in \u001b[0;36mnallapati_method\u001b[0;34m(article_sents, abstract_sents)\u001b[0m\n\u001b[1;32m     33\u001b[0m     \u001b[0;32mfor\u001b[0m \u001b[0msentids\u001b[0m \u001b[0;32min\u001b[0m \u001b[0msentids_lst\u001b[0m\u001b[0;34m:\u001b[0m\u001b[0;34m\u001b[0m\u001b[0;34m\u001b[0m\u001b[0m\n\u001b[0;32m---> 34\u001b[0;31m         \u001b[0mrougescore_sentwise\u001b[0m\u001b[0;34m.\u001b[0m\u001b[0mappend\u001b[0m\u001b[0;34m(\u001b[0m\u001b[0mcal_rouge\u001b[0m\u001b[0;34m(\u001b[0m\u001b[0msentids\u001b[0m\u001b[0;34m,\u001b[0m \u001b[0marticle_sents\u001b[0m\u001b[0;34m,\u001b[0m \u001b[0mabstract_sents\u001b[0m\u001b[0;34m)\u001b[0m\u001b[0;34m)\u001b[0m\u001b[0;34m\u001b[0m\u001b[0;34m\u001b[0m\u001b[0m\n\u001b[0m\u001b[1;32m     35\u001b[0m \u001b[0;34m\u001b[0m\u001b[0m\n",
      "\u001b[0;32m/content/mnt/My Drive/nlp/sentence-transformer/oracle_generator.py\u001b[0m in \u001b[0;36mcal_rouge\u001b[0;34m(fullset, sentdata, golddata)\u001b[0m\n\u001b[1;32m     16\u001b[0m     \u001b[0mrouge_2\u001b[0m \u001b[0;34m=\u001b[0m \u001b[0mrouge\u001b[0m\u001b[0;34m.\u001b[0m\u001b[0mrouge_n\u001b[0m\u001b[0;34m(\u001b[0m\u001b[0mmodel_highlights\u001b[0m\u001b[0;34m,\u001b[0m \u001b[0mgolddata\u001b[0m\u001b[0;34m,\u001b[0m \u001b[0;36m2\u001b[0m\u001b[0;34m)\u001b[0m\u001b[0;34m[\u001b[0m\u001b[0;34m'f'\u001b[0m\u001b[0;34m]\u001b[0m\u001b[0;34m\u001b[0m\u001b[0;34m\u001b[0m\u001b[0m\n\u001b[0;32m---> 17\u001b[0;31m     \u001b[0mrouge_l\u001b[0m \u001b[0;34m=\u001b[0m \u001b[0mrouge\u001b[0m\u001b[0;34m.\u001b[0m\u001b[0mrouge_l_summary_level\u001b[0m\u001b[0;34m(\u001b[0m\u001b[0mmodel_highlights\u001b[0m\u001b[0;34m,\u001b[0m \u001b[0mgolddata\u001b[0m\u001b[0;34m)\u001b[0m\u001b[0;34m[\u001b[0m\u001b[0;34m'f'\u001b[0m\u001b[0;34m]\u001b[0m\u001b[0;34m\u001b[0m\u001b[0;34m\u001b[0m\u001b[0m\n\u001b[0m\u001b[1;32m     18\u001b[0m     \u001b[0mrouge_score\u001b[0m \u001b[0;34m=\u001b[0m \u001b[0;34m(\u001b[0m\u001b[0mrouge_1\u001b[0m \u001b[0;34m+\u001b[0m \u001b[0mrouge_2\u001b[0m \u001b[0;34m+\u001b[0m \u001b[0mrouge_l\u001b[0m\u001b[0;34m)\u001b[0m\u001b[0;34m/\u001b[0m\u001b[0;36m3.0\u001b[0m\u001b[0;34m\u001b[0m\u001b[0;34m\u001b[0m\u001b[0m\n",
      "\u001b[0;32m/content/mnt/My Drive/nlp/sentence-transformer/rouge.py\u001b[0m in \u001b[0;36mrouge_l_summary_level\u001b[0;34m(evaluated_sentences, reference_sentences)\u001b[0m\n\u001b[1;32m    270\u001b[0m                                       \u001b[0mref_s\u001b[0m\u001b[0;34m,\u001b[0m\u001b[0;34m\u001b[0m\u001b[0;34m\u001b[0m\u001b[0m\n\u001b[0;32m--> 271\u001b[0;31m                                       prev_union=union)\n\u001b[0m\u001b[1;32m    272\u001b[0m         \u001b[0munion_lcs_sum_across_all_references\u001b[0m \u001b[0;34m+=\u001b[0m \u001b[0mlcs_count\u001b[0m\u001b[0;34m\u001b[0m\u001b[0;34m\u001b[0m\u001b[0m\n",
      "\u001b[0;32m/content/mnt/My Drive/nlp/sentence-transformer/rouge.py\u001b[0m in \u001b[0;36m_union_lcs\u001b[0;34m(evaluated_sentences, reference_sentence, prev_union)\u001b[0m\n\u001b[1;32m    218\u001b[0m         \u001b[0mevaluated_words\u001b[0m \u001b[0;34m=\u001b[0m \u001b[0m_split_into_words\u001b[0m\u001b[0;34m(\u001b[0m\u001b[0;34m[\u001b[0m\u001b[0meval_s\u001b[0m\u001b[0;34m]\u001b[0m\u001b[0;34m)\u001b[0m\u001b[0;34m\u001b[0m\u001b[0;34m\u001b[0m\u001b[0m\n\u001b[0;32m--> 219\u001b[0;31m         \u001b[0mlcs\u001b[0m \u001b[0;34m=\u001b[0m \u001b[0mset\u001b[0m\u001b[0;34m(\u001b[0m\u001b[0m_recon_lcs\u001b[0m\u001b[0;34m(\u001b[0m\u001b[0mreference_words\u001b[0m\u001b[0;34m,\u001b[0m \u001b[0mevaluated_words\u001b[0m\u001b[0;34m)\u001b[0m\u001b[0;34m)\u001b[0m\u001b[0;34m\u001b[0m\u001b[0;34m\u001b[0m\u001b[0m\n\u001b[0m\u001b[1;32m    220\u001b[0m         \u001b[0mcombined_lcs_length\u001b[0m \u001b[0;34m+=\u001b[0m \u001b[0mlen\u001b[0m\u001b[0;34m(\u001b[0m\u001b[0mlcs\u001b[0m\u001b[0;34m)\u001b[0m\u001b[0;34m\u001b[0m\u001b[0;34m\u001b[0m\u001b[0m\n",
      "\u001b[0;32m/content/mnt/My Drive/nlp/sentence-transformer/rouge.py\u001b[0m in \u001b[0;36m_recon_lcs\u001b[0;34m(x, y)\u001b[0m\n\u001b[1;32m    120\u001b[0m     \u001b[0mi\u001b[0m\u001b[0;34m,\u001b[0m \u001b[0mj\u001b[0m \u001b[0;34m=\u001b[0m \u001b[0mlen\u001b[0m\u001b[0;34m(\u001b[0m\u001b[0mx\u001b[0m\u001b[0;34m)\u001b[0m\u001b[0;34m,\u001b[0m \u001b[0mlen\u001b[0m\u001b[0;34m(\u001b[0m\u001b[0my\u001b[0m\u001b[0;34m)\u001b[0m\u001b[0;34m\u001b[0m\u001b[0;34m\u001b[0m\u001b[0m\n\u001b[0;32m--> 121\u001b[0;31m     \u001b[0mtable\u001b[0m \u001b[0;34m=\u001b[0m \u001b[0m_lcs\u001b[0m\u001b[0;34m(\u001b[0m\u001b[0mx\u001b[0m\u001b[0;34m,\u001b[0m \u001b[0my\u001b[0m\u001b[0;34m)\u001b[0m\u001b[0;34m\u001b[0m\u001b[0;34m\u001b[0m\u001b[0m\n\u001b[0m\u001b[1;32m    122\u001b[0m \u001b[0;34m\u001b[0m\u001b[0m\n",
      "\u001b[0;32m/content/mnt/My Drive/nlp/sentence-transformer/rouge.py\u001b[0m in \u001b[0;36m_lcs\u001b[0;34m(x, y)\u001b[0m\n\u001b[1;32m    105\u001b[0m             \u001b[0;32melse\u001b[0m\u001b[0;34m:\u001b[0m\u001b[0;34m\u001b[0m\u001b[0;34m\u001b[0m\u001b[0m\n\u001b[0;32m--> 106\u001b[0;31m                 \u001b[0mtable\u001b[0m\u001b[0;34m[\u001b[0m\u001b[0mi\u001b[0m\u001b[0;34m,\u001b[0m \u001b[0mj\u001b[0m\u001b[0;34m]\u001b[0m \u001b[0;34m=\u001b[0m \u001b[0mmax\u001b[0m\u001b[0;34m(\u001b[0m\u001b[0mtable\u001b[0m\u001b[0;34m[\u001b[0m\u001b[0mi\u001b[0m \u001b[0;34m-\u001b[0m \u001b[0;36m1\u001b[0m\u001b[0;34m,\u001b[0m \u001b[0mj\u001b[0m\u001b[0;34m]\u001b[0m\u001b[0;34m,\u001b[0m \u001b[0mtable\u001b[0m\u001b[0;34m[\u001b[0m\u001b[0mi\u001b[0m\u001b[0;34m,\u001b[0m \u001b[0mj\u001b[0m \u001b[0;34m-\u001b[0m \u001b[0;36m1\u001b[0m\u001b[0;34m]\u001b[0m\u001b[0;34m)\u001b[0m\u001b[0;34m\u001b[0m\u001b[0;34m\u001b[0m\u001b[0m\n\u001b[0m\u001b[1;32m    107\u001b[0m     \u001b[0;32mreturn\u001b[0m \u001b[0mtable\u001b[0m\u001b[0;34m\u001b[0m\u001b[0;34m\u001b[0m\u001b[0m\n",
      "\u001b[0;31mKeyboardInterrupt\u001b[0m: ",
      "\nDuring handling of the above exception, another exception occurred:\n",
      "\u001b[0;31mKeyError\u001b[0m                                  Traceback (most recent call last)",
      "\u001b[0;32m<ipython-input-9-478fc997be5f>\u001b[0m in \u001b[0;36m<module>\u001b[0;34m()\u001b[0m\n\u001b[1;32m     14\u001b[0m     \u001b[0;32mreturn\u001b[0m \u001b[0mexample\u001b[0m\u001b[0;34m\u001b[0m\u001b[0;34m\u001b[0m\u001b[0m\n\u001b[1;32m     15\u001b[0m \u001b[0;34m\u001b[0m\u001b[0m\n\u001b[0;32m---> 16\u001b[0;31m \u001b[0mupdated_dataset\u001b[0m \u001b[0;34m=\u001b[0m \u001b[0mscientific_papers\u001b[0m\u001b[0;34m.\u001b[0m\u001b[0mmap\u001b[0m\u001b[0;34m(\u001b[0m\u001b[0mbuild_new_data\u001b[0m\u001b[0;34m,\u001b[0m \u001b[0mwith_indices\u001b[0m\u001b[0;34m=\u001b[0m\u001b[0;32mTrue\u001b[0m\u001b[0;34m)\u001b[0m\u001b[0;34m\u001b[0m\u001b[0;34m\u001b[0m\u001b[0m\n\u001b[0m",
      "\u001b[0;32m/usr/local/lib/python3.6/dist-packages/datasets/dataset_dict.py\u001b[0m in \u001b[0;36mmap\u001b[0;34m(self, function, with_indices, input_columns, batched, batch_size, remove_columns, keep_in_memory, load_from_cache_file, cache_file_names, writer_batch_size, features, disable_nullable, fn_kwargs, num_proc)\u001b[0m\n\u001b[1;32m    301\u001b[0m                     \u001b[0mnum_proc\u001b[0m\u001b[0;34m=\u001b[0m\u001b[0mnum_proc\u001b[0m\u001b[0;34m,\u001b[0m\u001b[0;34m\u001b[0m\u001b[0;34m\u001b[0m\u001b[0m\n\u001b[1;32m    302\u001b[0m                 )\n\u001b[0;32m--> 303\u001b[0;31m                 \u001b[0;32mfor\u001b[0m \u001b[0mk\u001b[0m\u001b[0;34m,\u001b[0m \u001b[0mdataset\u001b[0m \u001b[0;32min\u001b[0m \u001b[0mself\u001b[0m\u001b[0;34m.\u001b[0m\u001b[0mitems\u001b[0m\u001b[0;34m(\u001b[0m\u001b[0;34m)\u001b[0m\u001b[0;34m\u001b[0m\u001b[0;34m\u001b[0m\u001b[0m\n\u001b[0m\u001b[1;32m    304\u001b[0m             }\n\u001b[1;32m    305\u001b[0m         )\n",
      "\u001b[0;32m/usr/local/lib/python3.6/dist-packages/datasets/dataset_dict.py\u001b[0m in \u001b[0;36m<dictcomp>\u001b[0;34m(.0)\u001b[0m\n\u001b[1;32m    301\u001b[0m                     \u001b[0mnum_proc\u001b[0m\u001b[0;34m=\u001b[0m\u001b[0mnum_proc\u001b[0m\u001b[0;34m,\u001b[0m\u001b[0;34m\u001b[0m\u001b[0;34m\u001b[0m\u001b[0m\n\u001b[1;32m    302\u001b[0m                 )\n\u001b[0;32m--> 303\u001b[0;31m                 \u001b[0;32mfor\u001b[0m \u001b[0mk\u001b[0m\u001b[0;34m,\u001b[0m \u001b[0mdataset\u001b[0m \u001b[0;32min\u001b[0m \u001b[0mself\u001b[0m\u001b[0;34m.\u001b[0m\u001b[0mitems\u001b[0m\u001b[0;34m(\u001b[0m\u001b[0;34m)\u001b[0m\u001b[0;34m\u001b[0m\u001b[0;34m\u001b[0m\u001b[0m\n\u001b[0m\u001b[1;32m    304\u001b[0m             }\n\u001b[1;32m    305\u001b[0m         )\n",
      "\u001b[0;32m/usr/local/lib/python3.6/dist-packages/datasets/arrow_dataset.py\u001b[0m in \u001b[0;36mmap\u001b[0;34m(self, function, with_indices, input_columns, batched, batch_size, drop_last_batch, remove_columns, keep_in_memory, load_from_cache_file, cache_file_name, writer_batch_size, features, disable_nullable, fn_kwargs, num_proc, suffix_template, new_fingerprint)\u001b[0m\n\u001b[1;32m   1257\u001b[0m                 \u001b[0mfn_kwargs\u001b[0m\u001b[0;34m=\u001b[0m\u001b[0mfn_kwargs\u001b[0m\u001b[0;34m,\u001b[0m\u001b[0;34m\u001b[0m\u001b[0;34m\u001b[0m\u001b[0m\n\u001b[1;32m   1258\u001b[0m                 \u001b[0mnew_fingerprint\u001b[0m\u001b[0;34m=\u001b[0m\u001b[0mnew_fingerprint\u001b[0m\u001b[0;34m,\u001b[0m\u001b[0;34m\u001b[0m\u001b[0;34m\u001b[0m\u001b[0m\n\u001b[0;32m-> 1259\u001b[0;31m                 \u001b[0mupdate_data\u001b[0m\u001b[0;34m=\u001b[0m\u001b[0mupdate_data\u001b[0m\u001b[0;34m,\u001b[0m\u001b[0;34m\u001b[0m\u001b[0;34m\u001b[0m\u001b[0m\n\u001b[0m\u001b[1;32m   1260\u001b[0m             )\n\u001b[1;32m   1261\u001b[0m         \u001b[0;32melse\u001b[0m\u001b[0;34m:\u001b[0m\u001b[0;34m\u001b[0m\u001b[0;34m\u001b[0m\u001b[0m\n",
      "\u001b[0;32m/usr/local/lib/python3.6/dist-packages/datasets/arrow_dataset.py\u001b[0m in \u001b[0;36mwrapper\u001b[0;34m(*args, **kwargs)\u001b[0m\n\u001b[1;32m    155\u001b[0m         }\n\u001b[1;32m    156\u001b[0m         \u001b[0;31m# apply actual function\u001b[0m\u001b[0;34m\u001b[0m\u001b[0;34m\u001b[0m\u001b[0;34m\u001b[0m\u001b[0m\n\u001b[0;32m--> 157\u001b[0;31m         \u001b[0mout\u001b[0m\u001b[0;34m:\u001b[0m \u001b[0mUnion\u001b[0m\u001b[0;34m[\u001b[0m\u001b[0;34m\"Dataset\"\u001b[0m\u001b[0;34m,\u001b[0m \u001b[0;34m\"DatasetDict\"\u001b[0m\u001b[0;34m]\u001b[0m \u001b[0;34m=\u001b[0m \u001b[0mfunc\u001b[0m\u001b[0;34m(\u001b[0m\u001b[0mself\u001b[0m\u001b[0;34m,\u001b[0m \u001b[0;34m*\u001b[0m\u001b[0margs\u001b[0m\u001b[0;34m,\u001b[0m \u001b[0;34m**\u001b[0m\u001b[0mkwargs\u001b[0m\u001b[0;34m)\u001b[0m\u001b[0;34m\u001b[0m\u001b[0;34m\u001b[0m\u001b[0m\n\u001b[0m\u001b[1;32m    158\u001b[0m         \u001b[0mdatasets\u001b[0m\u001b[0;34m:\u001b[0m \u001b[0mList\u001b[0m\u001b[0;34m[\u001b[0m\u001b[0;34m\"Dataset\"\u001b[0m\u001b[0;34m]\u001b[0m \u001b[0;34m=\u001b[0m \u001b[0mlist\u001b[0m\u001b[0;34m(\u001b[0m\u001b[0mout\u001b[0m\u001b[0;34m.\u001b[0m\u001b[0mvalues\u001b[0m\u001b[0;34m(\u001b[0m\u001b[0;34m)\u001b[0m\u001b[0;34m)\u001b[0m \u001b[0;32mif\u001b[0m \u001b[0misinstance\u001b[0m\u001b[0;34m(\u001b[0m\u001b[0mout\u001b[0m\u001b[0;34m,\u001b[0m \u001b[0mdict\u001b[0m\u001b[0;34m)\u001b[0m \u001b[0;32melse\u001b[0m \u001b[0;34m[\u001b[0m\u001b[0mout\u001b[0m\u001b[0;34m]\u001b[0m\u001b[0;34m\u001b[0m\u001b[0;34m\u001b[0m\u001b[0m\n\u001b[1;32m    159\u001b[0m         \u001b[0;31m# re-apply format to the output\u001b[0m\u001b[0;34m\u001b[0m\u001b[0;34m\u001b[0m\u001b[0;34m\u001b[0m\u001b[0m\n",
      "\u001b[0;32m/usr/local/lib/python3.6/dist-packages/datasets/fingerprint.py\u001b[0m in \u001b[0;36mwrapper\u001b[0;34m(*args, **kwargs)\u001b[0m\n\u001b[1;32m    161\u001b[0m             \u001b[0;31m# Call actual function\u001b[0m\u001b[0;34m\u001b[0m\u001b[0;34m\u001b[0m\u001b[0;34m\u001b[0m\u001b[0m\n\u001b[1;32m    162\u001b[0m \u001b[0;34m\u001b[0m\u001b[0m\n\u001b[0;32m--> 163\u001b[0;31m             \u001b[0mout\u001b[0m \u001b[0;34m=\u001b[0m \u001b[0mfunc\u001b[0m\u001b[0;34m(\u001b[0m\u001b[0mself\u001b[0m\u001b[0;34m,\u001b[0m \u001b[0;34m*\u001b[0m\u001b[0margs\u001b[0m\u001b[0;34m,\u001b[0m \u001b[0;34m**\u001b[0m\u001b[0mkwargs\u001b[0m\u001b[0;34m)\u001b[0m\u001b[0;34m\u001b[0m\u001b[0;34m\u001b[0m\u001b[0m\n\u001b[0m\u001b[1;32m    164\u001b[0m \u001b[0;34m\u001b[0m\u001b[0m\n\u001b[1;32m    165\u001b[0m             \u001b[0;31m# Update fingerprint of in-place transforms + update in-place history of transforms\u001b[0m\u001b[0;34m\u001b[0m\u001b[0;34m\u001b[0m\u001b[0;34m\u001b[0m\u001b[0m\n",
      "\u001b[0;32m/usr/local/lib/python3.6/dist-packages/datasets/arrow_dataset.py\u001b[0m in \u001b[0;36m_map_single\u001b[0;34m(self, function, with_indices, input_columns, batched, batch_size, drop_last_batch, remove_columns, keep_in_memory, load_from_cache_file, cache_file_name, writer_batch_size, features, disable_nullable, fn_kwargs, new_fingerprint, rank, offset, update_data)\u001b[0m\n\u001b[1;32m   1531\u001b[0m         \u001b[0;32mexcept\u001b[0m \u001b[0;34m(\u001b[0m\u001b[0mException\u001b[0m\u001b[0;34m,\u001b[0m \u001b[0mKeyboardInterrupt\u001b[0m\u001b[0;34m)\u001b[0m\u001b[0;34m:\u001b[0m\u001b[0;34m\u001b[0m\u001b[0;34m\u001b[0m\u001b[0m\n\u001b[1;32m   1532\u001b[0m             \u001b[0;32mif\u001b[0m \u001b[0mupdate_data\u001b[0m\u001b[0;34m:\u001b[0m\u001b[0;34m\u001b[0m\u001b[0;34m\u001b[0m\u001b[0m\n\u001b[0;32m-> 1533\u001b[0;31m                 \u001b[0mwriter\u001b[0m\u001b[0;34m.\u001b[0m\u001b[0mfinalize\u001b[0m\u001b[0;34m(\u001b[0m\u001b[0;34m)\u001b[0m\u001b[0;34m\u001b[0m\u001b[0;34m\u001b[0m\u001b[0m\n\u001b[0m\u001b[1;32m   1534\u001b[0m             \u001b[0;32mif\u001b[0m \u001b[0mupdate_data\u001b[0m \u001b[0;32mand\u001b[0m \u001b[0mtmp_file\u001b[0m \u001b[0;32mis\u001b[0m \u001b[0;32mnot\u001b[0m \u001b[0;32mNone\u001b[0m\u001b[0;34m:\u001b[0m\u001b[0;34m\u001b[0m\u001b[0;34m\u001b[0m\u001b[0m\n\u001b[1;32m   1535\u001b[0m                 \u001b[0mtmp_file\u001b[0m\u001b[0;34m.\u001b[0m\u001b[0mclose\u001b[0m\u001b[0;34m(\u001b[0m\u001b[0;34m)\u001b[0m\u001b[0;34m\u001b[0m\u001b[0;34m\u001b[0m\u001b[0m\n",
      "\u001b[0;32m/usr/local/lib/python3.6/dist-packages/datasets/arrow_writer.py\u001b[0m in \u001b[0;36mfinalize\u001b[0;34m(self, close_stream)\u001b[0m\n\u001b[1;32m    297\u001b[0m \u001b[0;34m\u001b[0m\u001b[0m\n\u001b[1;32m    298\u001b[0m     \u001b[0;32mdef\u001b[0m \u001b[0mfinalize\u001b[0m\u001b[0;34m(\u001b[0m\u001b[0mself\u001b[0m\u001b[0;34m,\u001b[0m \u001b[0mclose_stream\u001b[0m\u001b[0;34m=\u001b[0m\u001b[0;32mTrue\u001b[0m\u001b[0;34m)\u001b[0m\u001b[0;34m:\u001b[0m\u001b[0;34m\u001b[0m\u001b[0;34m\u001b[0m\u001b[0m\n\u001b[0;32m--> 299\u001b[0;31m         \u001b[0mself\u001b[0m\u001b[0;34m.\u001b[0m\u001b[0mwrite_on_file\u001b[0m\u001b[0;34m(\u001b[0m\u001b[0;34m)\u001b[0m\u001b[0;34m\u001b[0m\u001b[0;34m\u001b[0m\u001b[0m\n\u001b[0m\u001b[1;32m    300\u001b[0m         \u001b[0;32mif\u001b[0m \u001b[0mself\u001b[0m\u001b[0;34m.\u001b[0m\u001b[0mpa_writer\u001b[0m \u001b[0;32mis\u001b[0m \u001b[0;32mNone\u001b[0m\u001b[0;34m:\u001b[0m\u001b[0;34m\u001b[0m\u001b[0;34m\u001b[0m\u001b[0m\n\u001b[1;32m    301\u001b[0m             \u001b[0;32mif\u001b[0m \u001b[0mself\u001b[0m\u001b[0;34m.\u001b[0m\u001b[0m_schema\u001b[0m \u001b[0;32mis\u001b[0m \u001b[0;32mnot\u001b[0m \u001b[0;32mNone\u001b[0m\u001b[0;34m:\u001b[0m\u001b[0;34m\u001b[0m\u001b[0;34m\u001b[0m\u001b[0m\n",
      "\u001b[0;32m/usr/local/lib/python3.6/dist-packages/datasets/arrow_writer.py\u001b[0m in \u001b[0;36mwrite_on_file\u001b[0;34m(self)\u001b[0m\n\u001b[1;32m    228\u001b[0m             \u001b[0mcol_try_type\u001b[0m \u001b[0;34m=\u001b[0m \u001b[0mtry_schema\u001b[0m\u001b[0;34m.\u001b[0m\u001b[0mfield\u001b[0m\u001b[0;34m(\u001b[0m\u001b[0mcol\u001b[0m\u001b[0;34m)\u001b[0m\u001b[0;34m.\u001b[0m\u001b[0mtype\u001b[0m \u001b[0;32mif\u001b[0m \u001b[0mtry_schema\u001b[0m \u001b[0;32mis\u001b[0m \u001b[0;32mnot\u001b[0m \u001b[0;32mNone\u001b[0m \u001b[0;32mand\u001b[0m \u001b[0mcol\u001b[0m \u001b[0;32min\u001b[0m \u001b[0mtry_schema\u001b[0m\u001b[0;34m.\u001b[0m\u001b[0mnames\u001b[0m \u001b[0;32melse\u001b[0m \u001b[0;32mNone\u001b[0m\u001b[0;34m\u001b[0m\u001b[0;34m\u001b[0m\u001b[0m\n\u001b[1;32m    229\u001b[0m             typed_sequence = TypedSequence(\n\u001b[0;32m--> 230\u001b[0;31m                 \u001b[0;34m[\u001b[0m\u001b[0mrow\u001b[0m\u001b[0;34m[\u001b[0m\u001b[0mcol\u001b[0m\u001b[0;34m]\u001b[0m \u001b[0;32mfor\u001b[0m \u001b[0mrow\u001b[0m \u001b[0;32min\u001b[0m \u001b[0mself\u001b[0m\u001b[0;34m.\u001b[0m\u001b[0mcurrent_rows\u001b[0m\u001b[0;34m]\u001b[0m\u001b[0;34m,\u001b[0m \u001b[0mtype\u001b[0m\u001b[0;34m=\u001b[0m\u001b[0mcol_type\u001b[0m\u001b[0;34m,\u001b[0m \u001b[0mtry_type\u001b[0m\u001b[0;34m=\u001b[0m\u001b[0mcol_try_type\u001b[0m\u001b[0;34m\u001b[0m\u001b[0;34m\u001b[0m\u001b[0m\n\u001b[0m\u001b[1;32m    231\u001b[0m             )\n\u001b[1;32m    232\u001b[0m             \u001b[0mpa_array\u001b[0m \u001b[0;34m=\u001b[0m \u001b[0mpa\u001b[0m\u001b[0;34m.\u001b[0m\u001b[0marray\u001b[0m\u001b[0;34m(\u001b[0m\u001b[0mtyped_sequence\u001b[0m\u001b[0;34m)\u001b[0m\u001b[0;34m\u001b[0m\u001b[0;34m\u001b[0m\u001b[0m\n",
      "\u001b[0;32m/usr/local/lib/python3.6/dist-packages/datasets/arrow_writer.py\u001b[0m in \u001b[0;36m<listcomp>\u001b[0;34m(.0)\u001b[0m\n\u001b[1;32m    228\u001b[0m             \u001b[0mcol_try_type\u001b[0m \u001b[0;34m=\u001b[0m \u001b[0mtry_schema\u001b[0m\u001b[0;34m.\u001b[0m\u001b[0mfield\u001b[0m\u001b[0;34m(\u001b[0m\u001b[0mcol\u001b[0m\u001b[0;34m)\u001b[0m\u001b[0;34m.\u001b[0m\u001b[0mtype\u001b[0m \u001b[0;32mif\u001b[0m \u001b[0mtry_schema\u001b[0m \u001b[0;32mis\u001b[0m \u001b[0;32mnot\u001b[0m \u001b[0;32mNone\u001b[0m \u001b[0;32mand\u001b[0m \u001b[0mcol\u001b[0m \u001b[0;32min\u001b[0m \u001b[0mtry_schema\u001b[0m\u001b[0;34m.\u001b[0m\u001b[0mnames\u001b[0m \u001b[0;32melse\u001b[0m \u001b[0;32mNone\u001b[0m\u001b[0;34m\u001b[0m\u001b[0;34m\u001b[0m\u001b[0m\n\u001b[1;32m    229\u001b[0m             typed_sequence = TypedSequence(\n\u001b[0;32m--> 230\u001b[0;31m                 \u001b[0;34m[\u001b[0m\u001b[0mrow\u001b[0m\u001b[0;34m[\u001b[0m\u001b[0mcol\u001b[0m\u001b[0;34m]\u001b[0m \u001b[0;32mfor\u001b[0m \u001b[0mrow\u001b[0m \u001b[0;32min\u001b[0m \u001b[0mself\u001b[0m\u001b[0;34m.\u001b[0m\u001b[0mcurrent_rows\u001b[0m\u001b[0;34m]\u001b[0m\u001b[0;34m,\u001b[0m \u001b[0mtype\u001b[0m\u001b[0;34m=\u001b[0m\u001b[0mcol_type\u001b[0m\u001b[0;34m,\u001b[0m \u001b[0mtry_type\u001b[0m\u001b[0;34m=\u001b[0m\u001b[0mcol_try_type\u001b[0m\u001b[0;34m\u001b[0m\u001b[0;34m\u001b[0m\u001b[0m\n\u001b[0m\u001b[1;32m    231\u001b[0m             )\n\u001b[1;32m    232\u001b[0m             \u001b[0mpa_array\u001b[0m \u001b[0;34m=\u001b[0m \u001b[0mpa\u001b[0m\u001b[0;34m.\u001b[0m\u001b[0marray\u001b[0m\u001b[0;34m(\u001b[0m\u001b[0mtyped_sequence\u001b[0m\u001b[0;34m)\u001b[0m\u001b[0;34m\u001b[0m\u001b[0;34m\u001b[0m\u001b[0m\n",
      "\u001b[0;31mKeyError\u001b[0m: 'article_sents'"
     ]
    }
   ],
   "source": [
    "omit =sorted(pickle.load(open(\"omit.p\", 'rb')))\n",
    "model = SentenceTransformer('msmarco-distilroberta-base-v2')\n",
    "def build_new_data(example, idx):\n",
    "    global omit\n",
    "    if idx == omit[0]:\n",
    "        omit = omit[1:]\n",
    "        return {}\n",
    "    article = list(dict.fromkeys(nltk.sent_tokenize(example['article'].replace('\\n', ' '))))\n",
    "    abstract = nltk.sent_tokenize(example['abstract'].replace('\\n', ' '))\n",
    "    res = nallapati_method(article, abstract)\n",
    "    example['labels'] = np.array([1 if i+1 in res[1] else 0 for i, each in enumerate(article)])\n",
    "    example['embeddings'] = model.encode(article, convert_to_tensor=True)\n",
    "    example['article_sents'] = article\n",
    "    return example\n",
    "\n",
    "updated_dataset = scientific_papers.map(build_new_data, with_indices=True)\n"
   ]
  },
  {
   "cell_type": "code",
   "execution_count": null,
   "metadata": {
    "id": "gFA_I8hpFdDV"
   },
   "outputs": [],
   "source": [
    "!git config user.email \"alexdayouzhuang@gmail.com\" &&"
   ]
  },
  {
   "cell_type": "code",
   "execution_count": 14,
   "metadata": {
    "colab": {
     "base_uri": "https://localhost:8080/"
    },
    "executionInfo": {
     "elapsed": 1490,
     "status": "ok",
     "timestamp": 1609456517658,
     "user": {
      "displayName": "Quant ONE Team",
      "photoUrl": "",
      "userId": "15729295471868687340"
     },
     "user_tz": 300
    },
    "id": "mEtmNjBrS9qP",
    "outputId": "68ad18f6-2da4-413f-e1af-697c5c6033c3",
    "scrolled": true
   },
   "outputs": [
    {
     "name": "stdout",
     "output_type": "stream",
     "text": [
      "\n",
      "*** Please tell me who you are.\n",
      "\n",
      "Run\n",
      "\n",
      "  git config --global user.email \"you@example.com\"\n",
      "  git config --global user.name \"Your Name\"\n",
      "\n",
      "to set your account's default identity.\n",
      "Omit --global to set the identity only in this repository.\n",
      "\n",
      "fatal: unable to auto-detect email address (got 'root@5fbf327c4495.(none)')\n"
     ]
    }
   ],
   "source": [
    "!git add * && git commit -m \"from drive\""
   ]
  },
  {
   "cell_type": "code",
   "execution_count": null,
   "metadata": {
    "id": "qEggd2bwS9qQ",
    "outputId": "40328747-89dd-4efe-f8f2-0f8dc5978b45"
   },
   "outputs": [
    {
     "data": {
      "text/plain": [
       "1352.8"
      ]
     },
     "execution_count": 54,
     "metadata": {
      "tags": []
     },
     "output_type": "execute_result"
    }
   ],
   "source": [
    "len(scientific_papers['train'][202]['article'].replace('\\n', ' '))/5"
   ]
  }
 ],
 "metadata": {
  "accelerator": "GPU",
  "colab": {
   "collapsed_sections": [
    "Hc2hSfSWS9qL"
   ],
   "name": "preprocessing-exploring.ipynb",
   "provenance": []
  },
  "kernelspec": {
   "display_name": "nlp",
   "language": "python",
   "name": "alex"
  },
  "language_info": {
   "codemirror_mode": {
    "name": "ipython",
    "version": 3
   },
   "file_extension": ".py",
   "mimetype": "text/x-python",
   "name": "python",
   "nbconvert_exporter": "python",
   "pygments_lexer": "ipython3",
   "version": "3.7.8"
  },
  "widgets": {
   "application/vnd.jupyter.widget-state+json": {
    "0945bba8745b48b583167ac92bcdcf2f": {
     "model_module": "@jupyter-widgets/base",
     "model_name": "LayoutModel",
     "state": {
      "_model_module": "@jupyter-widgets/base",
      "_model_module_version": "1.2.0",
      "_model_name": "LayoutModel",
      "_view_count": null,
      "_view_module": "@jupyter-widgets/base",
      "_view_module_version": "1.2.0",
      "_view_name": "LayoutView",
      "align_content": null,
      "align_items": null,
      "align_self": null,
      "border": null,
      "bottom": null,
      "display": null,
      "flex": null,
      "flex_flow": null,
      "grid_area": null,
      "grid_auto_columns": null,
      "grid_auto_flow": null,
      "grid_auto_rows": null,
      "grid_column": null,
      "grid_gap": null,
      "grid_row": null,
      "grid_template_areas": null,
      "grid_template_columns": null,
      "grid_template_rows": null,
      "height": null,
      "justify_content": null,
      "justify_items": null,
      "left": null,
      "margin": null,
      "max_height": null,
      "max_width": null,
      "min_height": null,
      "min_width": null,
      "object_fit": null,
      "object_position": null,
      "order": null,
      "overflow": null,
      "overflow_x": null,
      "overflow_y": null,
      "padding": null,
      "right": null,
      "top": null,
      "visibility": null,
      "width": null
     }
    },
    "0bc9943884734835af261d7eff35000f": {
     "model_module": "@jupyter-widgets/controls",
     "model_name": "DescriptionStyleModel",
     "state": {
      "_model_module": "@jupyter-widgets/controls",
      "_model_module_version": "1.5.0",
      "_model_name": "DescriptionStyleModel",
      "_view_count": null,
      "_view_module": "@jupyter-widgets/base",
      "_view_module_version": "1.2.0",
      "_view_name": "StyleView",
      "description_width": ""
     }
    },
    "25e6113685c24a1794f7ce6b0fef6868": {
     "model_module": "@jupyter-widgets/controls",
     "model_name": "FloatProgressModel",
     "state": {
      "_dom_classes": [],
      "_model_module": "@jupyter-widgets/controls",
      "_model_module_version": "1.5.0",
      "_model_name": "FloatProgressModel",
      "_view_count": null,
      "_view_module": "@jupyter-widgets/controls",
      "_view_module_version": "1.5.0",
      "_view_name": "ProgressView",
      "bar_style": "danger",
      "description": "  0%",
      "description_tooltip": null,
      "layout": "IPY_MODEL_b3e4ba8b7f674aa18e7f2ab691645298",
      "max": 119924,
      "min": 0,
      "orientation": "horizontal",
      "style": "IPY_MODEL_2b0e1a58c364418bab89daf03b748ec1",
      "value": 166
     }
    },
    "2b0e1a58c364418bab89daf03b748ec1": {
     "model_module": "@jupyter-widgets/controls",
     "model_name": "ProgressStyleModel",
     "state": {
      "_model_module": "@jupyter-widgets/controls",
      "_model_module_version": "1.5.0",
      "_model_name": "ProgressStyleModel",
      "_view_count": null,
      "_view_module": "@jupyter-widgets/base",
      "_view_module_version": "1.2.0",
      "_view_name": "StyleView",
      "bar_color": null,
      "description_width": "initial"
     }
    },
    "30e54c419a494350896dd545cd5625c6": {
     "model_module": "@jupyter-widgets/controls",
     "model_name": "ProgressStyleModel",
     "state": {
      "_model_module": "@jupyter-widgets/controls",
      "_model_module_version": "1.5.0",
      "_model_name": "ProgressStyleModel",
      "_view_count": null,
      "_view_module": "@jupyter-widgets/base",
      "_view_module_version": "1.2.0",
      "_view_name": "StyleView",
      "bar_color": null,
      "description_width": "initial"
     }
    },
    "3e14b8c647f848ad907f33363d4e94cb": {
     "model_module": "@jupyter-widgets/controls",
     "model_name": "HTMLModel",
     "state": {
      "_dom_classes": [],
      "_model_module": "@jupyter-widgets/controls",
      "_model_module_version": "1.5.0",
      "_model_name": "HTMLModel",
      "_view_count": null,
      "_view_module": "@jupyter-widgets/controls",
      "_view_module_version": "1.5.0",
      "_view_name": "HTMLView",
      "description": "",
      "description_tooltip": null,
      "layout": "IPY_MODEL_5e37c8ab80d6464c8620851a2a13a325",
      "placeholder": "​",
      "style": "IPY_MODEL_b5c69ab958a44b82863465afee7dac38",
      "value": " 4.91k/? [00:16&lt;00:00, 301B/s]"
     }
    },
    "51d4b627b67049fb974bd726c5823540": {
     "model_module": "@jupyter-widgets/base",
     "model_name": "LayoutModel",
     "state": {
      "_model_module": "@jupyter-widgets/base",
      "_model_module_version": "1.2.0",
      "_model_name": "LayoutModel",
      "_view_count": null,
      "_view_module": "@jupyter-widgets/base",
      "_view_module_version": "1.2.0",
      "_view_name": "LayoutView",
      "align_content": null,
      "align_items": null,
      "align_self": null,
      "border": null,
      "bottom": null,
      "display": null,
      "flex": null,
      "flex_flow": null,
      "grid_area": null,
      "grid_auto_columns": null,
      "grid_auto_flow": null,
      "grid_auto_rows": null,
      "grid_column": null,
      "grid_gap": null,
      "grid_row": null,
      "grid_template_areas": null,
      "grid_template_columns": null,
      "grid_template_rows": null,
      "height": null,
      "justify_content": null,
      "justify_items": null,
      "left": null,
      "margin": null,
      "max_height": null,
      "max_width": null,
      "min_height": null,
      "min_width": null,
      "object_fit": null,
      "object_position": null,
      "order": null,
      "overflow": null,
      "overflow_x": null,
      "overflow_y": null,
      "padding": null,
      "right": null,
      "top": null,
      "visibility": null,
      "width": null
     }
    },
    "5e37c8ab80d6464c8620851a2a13a325": {
     "model_module": "@jupyter-widgets/base",
     "model_name": "LayoutModel",
     "state": {
      "_model_module": "@jupyter-widgets/base",
      "_model_module_version": "1.2.0",
      "_model_name": "LayoutModel",
      "_view_count": null,
      "_view_module": "@jupyter-widgets/base",
      "_view_module_version": "1.2.0",
      "_view_name": "LayoutView",
      "align_content": null,
      "align_items": null,
      "align_self": null,
      "border": null,
      "bottom": null,
      "display": null,
      "flex": null,
      "flex_flow": null,
      "grid_area": null,
      "grid_auto_columns": null,
      "grid_auto_flow": null,
      "grid_auto_rows": null,
      "grid_column": null,
      "grid_gap": null,
      "grid_row": null,
      "grid_template_areas": null,
      "grid_template_columns": null,
      "grid_template_rows": null,
      "height": null,
      "justify_content": null,
      "justify_items": null,
      "left": null,
      "margin": null,
      "max_height": null,
      "max_width": null,
      "min_height": null,
      "min_width": null,
      "object_fit": null,
      "object_position": null,
      "order": null,
      "overflow": null,
      "overflow_x": null,
      "overflow_y": null,
      "padding": null,
      "right": null,
      "top": null,
      "visibility": null,
      "width": null
     }
    },
    "72d950c46c4c4b9ea12f7666eb0ac016": {
     "model_module": "@jupyter-widgets/controls",
     "model_name": "FloatProgressModel",
     "state": {
      "_dom_classes": [],
      "_model_module": "@jupyter-widgets/controls",
      "_model_module_version": "1.5.0",
      "_model_name": "FloatProgressModel",
      "_view_count": null,
      "_view_module": "@jupyter-widgets/controls",
      "_view_module_version": "1.5.0",
      "_view_name": "ProgressView",
      "bar_style": "success",
      "description": "Downloading: ",
      "description_tooltip": null,
      "layout": "IPY_MODEL_51d4b627b67049fb974bd726c5823540",
      "max": 2220,
      "min": 0,
      "orientation": "horizontal",
      "style": "IPY_MODEL_30e54c419a494350896dd545cd5625c6",
      "value": 2220
     }
    },
    "76fb7c75e1b94b61bd523fa1c4a35eb2": {
     "model_module": "@jupyter-widgets/controls",
     "model_name": "HBoxModel",
     "state": {
      "_dom_classes": [],
      "_model_module": "@jupyter-widgets/controls",
      "_model_module_version": "1.5.0",
      "_model_name": "HBoxModel",
      "_view_count": null,
      "_view_module": "@jupyter-widgets/controls",
      "_view_module_version": "1.5.0",
      "_view_name": "HBoxView",
      "box_style": "",
      "children": [
       "IPY_MODEL_25e6113685c24a1794f7ce6b0fef6868",
       "IPY_MODEL_7f44f41328104d8aaf2baab05daa1ce6"
      ],
      "layout": "IPY_MODEL_f1fb796825b14cdd8fb0611d15b5e2fe"
     }
    },
    "7f44f41328104d8aaf2baab05daa1ce6": {
     "model_module": "@jupyter-widgets/controls",
     "model_name": "HTMLModel",
     "state": {
      "_dom_classes": [],
      "_model_module": "@jupyter-widgets/controls",
      "_model_module_version": "1.5.0",
      "_model_name": "HTMLModel",
      "_view_count": null,
      "_view_module": "@jupyter-widgets/controls",
      "_view_module_version": "1.5.0",
      "_view_name": "HTMLView",
      "description": "",
      "description_tooltip": null,
      "layout": "IPY_MODEL_80f03f9ba923476da319209e3b1e2ede",
      "placeholder": "​",
      "style": "IPY_MODEL_0bc9943884734835af261d7eff35000f",
      "value": " 166/119924 [01:40&lt;20:43:57,  1.60ex/s]"
     }
    },
    "80f03f9ba923476da319209e3b1e2ede": {
     "model_module": "@jupyter-widgets/base",
     "model_name": "LayoutModel",
     "state": {
      "_model_module": "@jupyter-widgets/base",
      "_model_module_version": "1.2.0",
      "_model_name": "LayoutModel",
      "_view_count": null,
      "_view_module": "@jupyter-widgets/base",
      "_view_module_version": "1.2.0",
      "_view_name": "LayoutView",
      "align_content": null,
      "align_items": null,
      "align_self": null,
      "border": null,
      "bottom": null,
      "display": null,
      "flex": null,
      "flex_flow": null,
      "grid_area": null,
      "grid_auto_columns": null,
      "grid_auto_flow": null,
      "grid_auto_rows": null,
      "grid_column": null,
      "grid_gap": null,
      "grid_row": null,
      "grid_template_areas": null,
      "grid_template_columns": null,
      "grid_template_rows": null,
      "height": null,
      "justify_content": null,
      "justify_items": null,
      "left": null,
      "margin": null,
      "max_height": null,
      "max_width": null,
      "min_height": null,
      "min_width": null,
      "object_fit": null,
      "object_position": null,
      "order": null,
      "overflow": null,
      "overflow_x": null,
      "overflow_y": null,
      "padding": null,
      "right": null,
      "top": null,
      "visibility": null,
      "width": null
     }
    },
    "853505b671774299a344847cda76e7b0": {
     "model_module": "@jupyter-widgets/controls",
     "model_name": "HBoxModel",
     "state": {
      "_dom_classes": [],
      "_model_module": "@jupyter-widgets/controls",
      "_model_module_version": "1.5.0",
      "_model_name": "HBoxModel",
      "_view_count": null,
      "_view_module": "@jupyter-widgets/controls",
      "_view_module_version": "1.5.0",
      "_view_name": "HBoxView",
      "box_style": "",
      "children": [
       "IPY_MODEL_b42e099a58a948ea85bb9f42b9076241",
       "IPY_MODEL_3e14b8c647f848ad907f33363d4e94cb"
      ],
      "layout": "IPY_MODEL_8fe0a731690948d6bbdde7d2d3a802df"
     }
    },
    "8fe0a731690948d6bbdde7d2d3a802df": {
     "model_module": "@jupyter-widgets/base",
     "model_name": "LayoutModel",
     "state": {
      "_model_module": "@jupyter-widgets/base",
      "_model_module_version": "1.2.0",
      "_model_name": "LayoutModel",
      "_view_count": null,
      "_view_module": "@jupyter-widgets/base",
      "_view_module_version": "1.2.0",
      "_view_name": "LayoutView",
      "align_content": null,
      "align_items": null,
      "align_self": null,
      "border": null,
      "bottom": null,
      "display": null,
      "flex": null,
      "flex_flow": null,
      "grid_area": null,
      "grid_auto_columns": null,
      "grid_auto_flow": null,
      "grid_auto_rows": null,
      "grid_column": null,
      "grid_gap": null,
      "grid_row": null,
      "grid_template_areas": null,
      "grid_template_columns": null,
      "grid_template_rows": null,
      "height": null,
      "justify_content": null,
      "justify_items": null,
      "left": null,
      "margin": null,
      "max_height": null,
      "max_width": null,
      "min_height": null,
      "min_width": null,
      "object_fit": null,
      "object_position": null,
      "order": null,
      "overflow": null,
      "overflow_x": null,
      "overflow_y": null,
      "padding": null,
      "right": null,
      "top": null,
      "visibility": null,
      "width": null
     }
    },
    "ab6f770970f34a9788806948eb226fe9": {
     "model_module": "@jupyter-widgets/base",
     "model_name": "LayoutModel",
     "state": {
      "_model_module": "@jupyter-widgets/base",
      "_model_module_version": "1.2.0",
      "_model_name": "LayoutModel",
      "_view_count": null,
      "_view_module": "@jupyter-widgets/base",
      "_view_module_version": "1.2.0",
      "_view_name": "LayoutView",
      "align_content": null,
      "align_items": null,
      "align_self": null,
      "border": null,
      "bottom": null,
      "display": null,
      "flex": null,
      "flex_flow": null,
      "grid_area": null,
      "grid_auto_columns": null,
      "grid_auto_flow": null,
      "grid_auto_rows": null,
      "grid_column": null,
      "grid_gap": null,
      "grid_row": null,
      "grid_template_areas": null,
      "grid_template_columns": null,
      "grid_template_rows": null,
      "height": null,
      "justify_content": null,
      "justify_items": null,
      "left": null,
      "margin": null,
      "max_height": null,
      "max_width": null,
      "min_height": null,
      "min_width": null,
      "object_fit": null,
      "object_position": null,
      "order": null,
      "overflow": null,
      "overflow_x": null,
      "overflow_y": null,
      "padding": null,
      "right": null,
      "top": null,
      "visibility": null,
      "width": null
     }
    },
    "b3e4ba8b7f674aa18e7f2ab691645298": {
     "model_module": "@jupyter-widgets/base",
     "model_name": "LayoutModel",
     "state": {
      "_model_module": "@jupyter-widgets/base",
      "_model_module_version": "1.2.0",
      "_model_name": "LayoutModel",
      "_view_count": null,
      "_view_module": "@jupyter-widgets/base",
      "_view_module_version": "1.2.0",
      "_view_name": "LayoutView",
      "align_content": null,
      "align_items": null,
      "align_self": null,
      "border": null,
      "bottom": null,
      "display": null,
      "flex": null,
      "flex_flow": null,
      "grid_area": null,
      "grid_auto_columns": null,
      "grid_auto_flow": null,
      "grid_auto_rows": null,
      "grid_column": null,
      "grid_gap": null,
      "grid_row": null,
      "grid_template_areas": null,
      "grid_template_columns": null,
      "grid_template_rows": null,
      "height": null,
      "justify_content": null,
      "justify_items": null,
      "left": null,
      "margin": null,
      "max_height": null,
      "max_width": null,
      "min_height": null,
      "min_width": null,
      "object_fit": null,
      "object_position": null,
      "order": null,
      "overflow": null,
      "overflow_x": null,
      "overflow_y": null,
      "padding": null,
      "right": null,
      "top": null,
      "visibility": null,
      "width": null
     }
    },
    "b42e099a58a948ea85bb9f42b9076241": {
     "model_module": "@jupyter-widgets/controls",
     "model_name": "FloatProgressModel",
     "state": {
      "_dom_classes": [],
      "_model_module": "@jupyter-widgets/controls",
      "_model_module_version": "1.5.0",
      "_model_name": "FloatProgressModel",
      "_view_count": null,
      "_view_module": "@jupyter-widgets/controls",
      "_view_module_version": "1.5.0",
      "_view_name": "ProgressView",
      "bar_style": "success",
      "description": "Downloading: ",
      "description_tooltip": null,
      "layout": "IPY_MODEL_ab6f770970f34a9788806948eb226fe9",
      "max": 1321,
      "min": 0,
      "orientation": "horizontal",
      "style": "IPY_MODEL_e2457547f09b48d9a41eb9e81246115a",
      "value": 1321
     }
    },
    "b5c69ab958a44b82863465afee7dac38": {
     "model_module": "@jupyter-widgets/controls",
     "model_name": "DescriptionStyleModel",
     "state": {
      "_model_module": "@jupyter-widgets/controls",
      "_model_module_version": "1.5.0",
      "_model_name": "DescriptionStyleModel",
      "_view_count": null,
      "_view_module": "@jupyter-widgets/base",
      "_view_module_version": "1.2.0",
      "_view_name": "StyleView",
      "description_width": ""
     }
    },
    "b7aa09a5b97b49d59e0f4952b46575a7": {
     "model_module": "@jupyter-widgets/base",
     "model_name": "LayoutModel",
     "state": {
      "_model_module": "@jupyter-widgets/base",
      "_model_module_version": "1.2.0",
      "_model_name": "LayoutModel",
      "_view_count": null,
      "_view_module": "@jupyter-widgets/base",
      "_view_module_version": "1.2.0",
      "_view_name": "LayoutView",
      "align_content": null,
      "align_items": null,
      "align_self": null,
      "border": null,
      "bottom": null,
      "display": null,
      "flex": null,
      "flex_flow": null,
      "grid_area": null,
      "grid_auto_columns": null,
      "grid_auto_flow": null,
      "grid_auto_rows": null,
      "grid_column": null,
      "grid_gap": null,
      "grid_row": null,
      "grid_template_areas": null,
      "grid_template_columns": null,
      "grid_template_rows": null,
      "height": null,
      "justify_content": null,
      "justify_items": null,
      "left": null,
      "margin": null,
      "max_height": null,
      "max_width": null,
      "min_height": null,
      "min_width": null,
      "object_fit": null,
      "object_position": null,
      "order": null,
      "overflow": null,
      "overflow_x": null,
      "overflow_y": null,
      "padding": null,
      "right": null,
      "top": null,
      "visibility": null,
      "width": null
     }
    },
    "cb203e916f754d2688404dbd7525347b": {
     "model_module": "@jupyter-widgets/controls",
     "model_name": "HTMLModel",
     "state": {
      "_dom_classes": [],
      "_model_module": "@jupyter-widgets/controls",
      "_model_module_version": "1.5.0",
      "_model_name": "HTMLModel",
      "_view_count": null,
      "_view_module": "@jupyter-widgets/controls",
      "_view_module_version": "1.5.0",
      "_view_name": "HTMLView",
      "description": "",
      "description_tooltip": null,
      "layout": "IPY_MODEL_b7aa09a5b97b49d59e0f4952b46575a7",
      "placeholder": "​",
      "style": "IPY_MODEL_d91c9a4f7c024c25b93434e39d2c28a8",
      "value": " 5.38k/? [00:19&lt;00:00, 273B/s]"
     }
    },
    "d91c9a4f7c024c25b93434e39d2c28a8": {
     "model_module": "@jupyter-widgets/controls",
     "model_name": "DescriptionStyleModel",
     "state": {
      "_model_module": "@jupyter-widgets/controls",
      "_model_module_version": "1.5.0",
      "_model_name": "DescriptionStyleModel",
      "_view_count": null,
      "_view_module": "@jupyter-widgets/base",
      "_view_module_version": "1.2.0",
      "_view_name": "StyleView",
      "description_width": ""
     }
    },
    "e2457547f09b48d9a41eb9e81246115a": {
     "model_module": "@jupyter-widgets/controls",
     "model_name": "ProgressStyleModel",
     "state": {
      "_model_module": "@jupyter-widgets/controls",
      "_model_module_version": "1.5.0",
      "_model_name": "ProgressStyleModel",
      "_view_count": null,
      "_view_module": "@jupyter-widgets/base",
      "_view_module_version": "1.2.0",
      "_view_name": "StyleView",
      "bar_color": null,
      "description_width": "initial"
     }
    },
    "f1fb796825b14cdd8fb0611d15b5e2fe": {
     "model_module": "@jupyter-widgets/base",
     "model_name": "LayoutModel",
     "state": {
      "_model_module": "@jupyter-widgets/base",
      "_model_module_version": "1.2.0",
      "_model_name": "LayoutModel",
      "_view_count": null,
      "_view_module": "@jupyter-widgets/base",
      "_view_module_version": "1.2.0",
      "_view_name": "LayoutView",
      "align_content": null,
      "align_items": null,
      "align_self": null,
      "border": null,
      "bottom": null,
      "display": null,
      "flex": null,
      "flex_flow": null,
      "grid_area": null,
      "grid_auto_columns": null,
      "grid_auto_flow": null,
      "grid_auto_rows": null,
      "grid_column": null,
      "grid_gap": null,
      "grid_row": null,
      "grid_template_areas": null,
      "grid_template_columns": null,
      "grid_template_rows": null,
      "height": null,
      "justify_content": null,
      "justify_items": null,
      "left": null,
      "margin": null,
      "max_height": null,
      "max_width": null,
      "min_height": null,
      "min_width": null,
      "object_fit": null,
      "object_position": null,
      "order": null,
      "overflow": null,
      "overflow_x": null,
      "overflow_y": null,
      "padding": null,
      "right": null,
      "top": null,
      "visibility": null,
      "width": null
     }
    },
    "f3f6eecc2eed4e03992c596a970ee0e3": {
     "model_module": "@jupyter-widgets/controls",
     "model_name": "HBoxModel",
     "state": {
      "_dom_classes": [],
      "_model_module": "@jupyter-widgets/controls",
      "_model_module_version": "1.5.0",
      "_model_name": "HBoxModel",
      "_view_count": null,
      "_view_module": "@jupyter-widgets/controls",
      "_view_module_version": "1.5.0",
      "_view_name": "HBoxView",
      "box_style": "",
      "children": [
       "IPY_MODEL_72d950c46c4c4b9ea12f7666eb0ac016",
       "IPY_MODEL_cb203e916f754d2688404dbd7525347b"
      ],
      "layout": "IPY_MODEL_0945bba8745b48b583167ac92bcdcf2f"
     }
    }
   }
  }
 },
 "nbformat": 4,
 "nbformat_minor": 1
}
