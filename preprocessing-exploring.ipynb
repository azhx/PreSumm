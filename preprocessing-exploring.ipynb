{
 "cells": [
  {
   "cell_type": "code",
   "execution_count": 1,
   "metadata": {},
   "outputs": [],
   "source": [
    "import re\n",
    "from matplotlib import pyplot as plt\n",
    "import pickle\n",
    "import pyrouge\n",
    "from datasets import load_dataset\n",
    "import nltk\n",
    "from sentence_transformers import SentenceTransformer, util\n",
    "import numpy as np\n",
    "from LexRank import degree_centrality_scores\n"
   ]
  },
  {
   "cell_type": "markdown",
   "metadata": {},
   "source": [
    "# To-Do\n",
    "- read emnlp paper [done]\n",
    "- read up on lexrank [done]\n",
    "- find and download xsum dataset [done]\n",
    "- try lexrank on some sentences in xsum dataset [done]\n",
    "- read up on sentence transformers [done]\n",
    "- figure out how people trained xsum models. [done]\n",
    "- train encoder-decoder transformer on xsum "
   ]
  },
  {
   "cell_type": "markdown",
   "metadata": {},
   "source": [
    "# Stuff I did\n",
    "- Data Preprocessing\n",
    "    - replaced `\\n` with space character (` `)\n",
    "    - removed all duplicate sentences\n",
    "    - removed 178 examples larger than 100000 chars and 4746 examples shorter than 2500 chars for a total of 4924 examples from the training set. This is roughly 5% of it. This is just a heuristic. This removal will be applied using `omit`"
   ]
  },
  {
   "cell_type": "code",
   "execution_count": 4,
   "metadata": {},
   "outputs": [
    {
     "name": "stderr",
     "output_type": "stream",
     "text": [
      "Reusing dataset scientific_papers (C:\\Users\\alexd\\.cache\\huggingface\\datasets\\scientific_papers\\pubmed\\1.1.1\\b941f4678d5bed229aca0ab5b4cc943dadf74a8ab153178487bdf51810dc4f67)\n"
     ]
    }
   ],
   "source": [
    "scientific_papers = load_dataset('scientific_papers', 'pubmed')"
   ]
  },
  {
   "cell_type": "code",
   "execution_count": 70,
   "metadata": {
    "scrolled": true
   },
   "outputs": [
    {
     "name": "stdout",
     "output_type": "stream",
     "text": [
      "Num sentences: 83\n",
      "\n",
      "\n",
      "Summary:\n",
      "among 32 samples in hiv - infected patients , four ( 12.5% ) were culture positive for m. tuberculosis and none of them were positive for nocardia .\n",
      "based on our data the prevalence of nocardiosis and also concomitant infection with tuberculosis in our study was 6.25% ( 2/32 ) in hiv - infected patients and 1.05% ( 2/189 ) for all cases .\n",
      "out of 140 sputum samples from african hiv - positive individuals clinically suspected of having tuberculosis ( tb ) , the frequency of nocardiosis was reported as 3.6% ( 19 ) .\n",
      "as clinical manifestation of pulmonary tuberculosis and nocardiosis are similar , laboratory tests are required in order to distinguish of nocardiosis from tuberculosis .\n",
      "some reports indicate that greater than two - thirds of the patients diagnosed with pulmonary nocardiosis were initially diagnosed as having tuberculosis and about 5% of the patients with proven pulmonary tuberculosis were shown to have co - infection with nocardia ( 18 ) .\n"
     ]
    }
   ],
   "source": [
    "\"\"\"\n",
    "This example uses LexRank (https://www.aaai.org/Papers/JAIR/Vol22/JAIR-2214.pdf)\n",
    "to create an extractive summarization of a long document.\n",
    "The document is splitted into sentences using NLTK, then the sentence embeddings are computed. We\n",
    "then compute the cosine-similarity across all possible sentence pairs.\n",
    "We then use LexRank to find the most central sentences in the document, which form our summary.\n",
    "Input document: First section from the English Wikipedia Section\n",
    "Output summary:\n",
    "Located at the southern tip of the U.S. state of New York, the city is the center of the New York metropolitan area, the largest metropolitan area in the world by urban landmass.\n",
    "New York City (NYC), often called simply New York, is the most populous city in the United States.\n",
    "Anchored by Wall Street in the Financial District of Lower Manhattan, New York City has been called both the world's leading financial center and the most financially powerful city in the world, and is home to the world's two largest stock exchanges by total market capitalization, the New York Stock Exchange and NASDAQ.\n",
    "New York City has been described as the cultural, financial, and media capital of the world, significantly influencing commerce, entertainment, research, technology, education, politics, tourism, art, fashion, and sports.\n",
    "If the New York metropolitan area were a sovereign state, it would have the eighth-largest economy in the world.\n",
    "\"\"\"\n",
    "\n",
    "\n",
    "\n",
    "model = SentenceTransformer('paraphrase-distilroberta-base-v1')\n",
    "\n",
    "# Our input document we want to summarize\n",
    "# As example, we take the first section from Wikipedia\n",
    "document = scientific_papers['train'][200]['article'].replace('\\n', ' ')\n",
    "\n",
    "\"\"\"\n",
    "New York City (NYC), often called simply New York, is the most populous city in the United States. With an estimated 2019 population of 8,336,817 distributed over about 302.6 square miles (784 km2), New York City is also the most densely populated major city in the United States. Located at the southern tip of the U.S. state of New York, the city is the center of the New York metropolitan area, the largest metropolitan area in the world by urban landmass. With almost 20 million people in its metropolitan statistical area and approximately 23 million in its combined statistical area, it is one of the world's most populous megacities. New York City has been described as the cultural, financial, and media capital of the world, significantly influencing commerce, entertainment, research, technology, education, politics, tourism, art, fashion, and sports. Home to the headquarters of the United Nations, New York is an important center for international diplomacy.\n",
    "Situated on one of the world's largest natural harbors, New York City is composed of five boroughs, each of which is a county of the State of New York. The five boroughs—Brooklyn, Queens, Manhattan, the Bronx, and Staten Island—were consolidated into a single city in 1898. The city and its metropolitan area constitute the premier gateway for legal immigration to the United States. As many as 800 languages are spoken in New York, making it the most linguistically diverse city in the world. New York is home to more than 3.2 million residents born outside the United States, the largest foreign-born population of any city in the world as of 2016. As of 2019, the New York metropolitan area is estimated to produce a gross metropolitan product (GMP) of $2.0 trillion. If the New York metropolitan area were a sovereign state, it would have the eighth-largest economy in the world. New York is home to the highest number of billionaires of any city in the world.\n",
    "New York City traces its origins to a trading post founded by colonists from the Dutch Republic in 1624 on Lower Manhattan; the post was named New Amsterdam in 1626. The city and its surroundings came under English control in 1664 and were renamed New York after King Charles II of England granted the lands to his brother, the Duke of York. The city was regained by the Dutch in July 1673 and was subsequently renamed New Orange for one year and three months; the city has been continuously named New York since November 1674. New York City was the capital of the United States from 1785 until 1790, and has been the largest U.S. city since 1790. The Statue of Liberty greeted millions of immigrants as they came to the U.S. by ship in the late 19th and early 20th centuries, and is a symbol of the U.S. and its ideals of liberty and peace. In the 21st century, New York has emerged as a global node of creativity, entrepreneurship, and environmental sustainability, and as a symbol of freedom and cultural diversity. In 2019, New York was voted the greatest city in the world per a survey of over 30,000 people from 48 cities worldwide, citing its cultural diversity.\n",
    "Many districts and landmarks in New York City are well known, including three of the world's ten most visited tourist attractions in 2013. A record 62.8 million tourists visited New York City in 2017. Times Square is the brightly illuminated hub of the Broadway Theater District, one of the world's busiest pedestrian intersections, and a major center of the world's entertainment industry. Many of the city's landmarks, skyscrapers, and parks are known around the world. Manhattan's real estate market is among the most expensive in the world. Providing continuous 24/7 service and contributing to the nickname The City that Never Sleeps, the New York City Subway is the largest single-operator rapid transit system worldwide, with 472 rail stations. The city has over 120 colleges and universities, including Columbia University, New York University, Rockefeller University, and the City University of New York system, which is the largest urban public university system in the United States. Anchored by Wall Street in the Financial District of Lower Manhattan, New York City has been called both the world's leading financial center and the most financially powerful city in the world, and is home to the world's two largest stock exchanges by total market capitalization, the New York Stock Exchange and NASDAQ.\n",
    "\"\"\"\n",
    "\n",
    "#Split the document into sentences\n",
    "sentences = list(set(nltk.sent_tokenize(document)))\n",
    "print(\"Num sentences:\", len(sentences))\n",
    "\n",
    "#Compute the sentence embeddings\n",
    "embeddings = model.encode(sentences, convert_to_tensor=True)\n",
    "\n",
    "#Compute the pair-wise cosine similarities\n",
    "cos_scores = util.pytorch_cos_sim(embeddings, embeddings).numpy()\n",
    "\n",
    "#Compute the centrality for each sentence\n",
    "centrality_scores = degree_centrality_scores(cos_scores, threshold=None)\n",
    "\n",
    "#We argsort so that the first element is the sentence with the highest score\n",
    "most_central_sentence_indices = np.argsort(-centrality_scores)\n",
    "\n",
    "\n",
    "#Print the 5 sentences with the highest scores\n",
    "print(\"\\n\\nSummary:\")\n",
    "for idx in most_central_sentence_indices[0:5]:\n",
    "    print(sentences[idx].strip())"
   ]
  },
  {
   "cell_type": "code",
   "execution_count": 229,
   "metadata": {},
   "outputs": [],
   "source": [
    "test = ['as clinical manifestation of pulmonary tuberculosis and nocardiosis are similar , laboratory tests are required in order to distinguish of nocardiosis from tuberculosis',\n",
    "       'due to the fact that clinical manifestation of pulmonary tuberculosis and nocardiosis are similar , we should use laboratory test to differentiate nocardiosis from tuberculosis']\n",
    "embeddings = model.encode(test, convert_to_tensor = True)\n",
    "cos_scores = util.pytorch_cos_sim(embeddings, embeddings).numpy()"
   ]
  },
  {
   "cell_type": "code",
   "execution_count": 246,
   "metadata": {},
   "outputs": [],
   "source": []
  },
  {
   "cell_type": "code",
   "execution_count": 69,
   "metadata": {},
   "outputs": [
    {
     "data": {
      "text/plain": [
       "' background : tuberculosis ( tb ) remains as one of the most serious infectious diseases in the world .   pulmonary tuberculosis can occur with other pulmonary diseases caused by opportunistic organisms such as nocardia spp . particularly in immunocompromised patients .   therefore , diagnosis of co - infection at the early stage of the disease could be lifesaving.objectives:the goal of this study was to detect mycobacterium tuberculosis and nocardia spp . in sputum specimens in order to assess the concomitant nocardiosis and tuberculosis in patients with suspected pulmonary tuberculosis.patients and methods : from march 2011 to april 2012 , 189 sputum specimens were obtained from patients who were suspected of having pulmonary tuberculosis .   out of 189 samples , 32 of the samples belonged to hospitalized hiv - infected patients .   samples were examined by gram and ziehl - nelsen staining , culture and pcr methods.results:from 157 sputum specimens , positive samples by acid fast staining , culture and pcr for m. tuberculosis were reported for 7.6% ( 12/157 ) , 10.1% ( 16/157 ) and 7% ( 11/157 ) of samples , respectively .   no results were obtained by the described methods for nocardia spp . among 32 samples of hiv - infected patients , four ( 12.5% ) had positive results for acid fast staining , culture and pcr detecting m. tuberculosis while only two samples had positive results for nocardia spp . by pcr and no results   were reported by culture , gram and acid fast staining for this organism.conclusions:concurrent pulmonary nocardiosis and tuberculosis is frequent in hiv - infected patients .   rapid and sensitive methods such as pcr are recommended for detection of such co - infections . '"
      ]
     },
     "execution_count": 69,
     "metadata": {},
     "output_type": "execute_result"
    }
   ],
   "source": [
    "scientific_papers['train'][200]['abstract'].replace('\\n', ' ')"
   ]
  },
  {
   "cell_type": "code",
   "execution_count": 65,
   "metadata": {
    "scrolled": true
   },
   "outputs": [
    {
     "data": {
      "text/plain": [
       "array([ 65,  74,  92,  69,  78,  79,  91,  87,  73,  64,  19,  94,  11,\n",
       "       101,  58,  39,  83,  89, 108,  82,   6,  67,  76,  61,  70, 109,\n",
       "        98,  60,  41,  15,  80,  21, 107,   3,  71,  62,  96,  99,  14,\n",
       "        22,  55,  36,  12,  88,  85,  93,  17,  25,  44,   0,  38,  57,\n",
       "       103,  84,  31,  50,  90,  20,  10, 104,  63,  72,  66,  75,  13,\n",
       "        29,  48, 106,  28,  47,  97,  86,   1,   9,  40,  59,   7,  16,\n",
       "         5,  18,  54,  35, 110,   8,   4,  24,  43,  56,  37,  27,  46,\n",
       "        33,  52,  51,  32,  34,  53, 100,  30,  49,  81,  23,  42,  26,\n",
       "        45,  77,  68,   2, 105,  95, 102], dtype=int64)"
      ]
     },
     "execution_count": 65,
     "metadata": {},
     "output_type": "execute_result"
    }
   ],
   "source": [
    "most_central_sentence_indices"
   ]
  },
  {
   "cell_type": "code",
   "execution_count": 66,
   "metadata": {
    "scrolled": true
   },
   "outputs": [
    {
     "data": {
      "text/plain": [
       "['tuberculosis ( tb ) is caused by the mycobacterium tuberculosis , a member of the m. tuberculosis complex ( mtbc ) .',\n",
       " 'according to the world health organization ( who ) , in 2010 , there were an estimated 12.0 million prevalent cases of tb ( equivalent to 178 cases per 100000 individuals ) and approximately 1.4 million people died of tb during that year .',\n",
       " 'most of the cases in 2009 ( 55% ) occurred in asia ( 1 ) .',\n",
       " 'according to the  administration of tuberculosis and leprosy control  of the ministry of health and medical education in iran , in 2010 , a total of 10485 old and new cases of tb were reported in iran and of these cases , 326 patients ( around 2.2% ) were hiv positive ( 2 ) .',\n",
       " 'the diseases caused by mycobacterium complex have become more important in the recent years , particularly in association with the worldwide pandemic situation caused by human immunodeficiency virus ( hiv ) .',\n",
       " 'in 2010 , in addition , there were an estimated 0.35 million deaths among tb cases that were hiv - positive .',\n",
       " 'according to who , the incidence of pulmonary tuberculosis in hiv - positive patients in iran was 0.38 ( 0.28 - 0.51 ) per 100000 individuals in 2012 ( 3 ) .',\n",
       " 'some opportunistic microorganisms such as nocardia spp .',\n",
       " 'are gram - positive ( weakly acid fast ) and filamentous with a branching appearance and are not part of the normal human bacterial flora .',\n",
       " 'to date at least sixteen species capable of producing disease in humans have been identified ( 4 ) .',\n",
       " 'pulmonary disease is the predominant clinical presentation of this microorganism and can be fatal if untreated .',\n",
       " 'untreated pulmonary nocardiosis is similar to tuberculosis and n. asteroids is the most frequent cause of pulmonary infection in humans ( 85% ) ( 5 ) .',\n",
       " 'since the clinical and radiological manifestations are non - specific , pulmonary nocardiosis could be mistaken with other infections or other bacterial pneumonia .',\n",
       " 'in addition , nocardiosis may be under reported because it is not among the aids - defining criteria ( 6 ) .',\n",
       " 'diagnosis of pulmonary nocardiosis is dependent on the isolation or demonstration of the organism from respiratory secretions such as sputum or tissue specimens .',\n",
       " 'nocardia as a m. tuberculosis is a slow growing organism that requires prolonged incubation for at least 4 - 6 weeks ( 7 ) .',\n",
       " 'the diagnosis of nocardiosis is currently based on direct examination and conventional culture ; serology is usually not useful .',\n",
       " 'treatment of nocardiosis is different from tuberculosis regarding therapeutic agents , route of administration and duration of therapy ( 8) .',\n",
       " 'sulfonamides have been the agents of choice for the treatment of nocardiosis , however combination therapy with two or more agents is recommended .',\n",
       " 'although nocardiosis is an uncommon illness , co - infection of this disease with tuberculosis has been reported ( 9 ) .',\n",
       " 'the aim of this study was to assess the presence of nocardia spp .',\n",
       " 'and m. tuberculosis in sputum specimens of patients with pulmonary tuberculosis .',\n",
       " 'in the meantime , 32 hiv - infected patients who were suspected of having pulmonary tuberculosis were included in this study in order to evaluate concomitant infection in these patients .',\n",
       " 'a total of 189 sputum samples were obtained from the reference mycobacteriology laboratory , ahvaz jundishapur university of medical sciences from march 2011 to april 2012 .',\n",
       " 'all specimens were processed immediately according to standard routine diagnosis procedures by the naoh / n - acetyl - l - cysteine ( nalc ) method .',\n",
       " 'next , concentrated specimens were used for smear preparation , culture and pcr assay ( 10 , 11 ) .',\n",
       " 'furthermore , 250 l of each concentrated sputum specimen was inoculated onto lowenstein - jensen ( l - j ) media ( merck , germany ) .',\n",
       " 'are acid fast and can survive the decontamination of clinical specimens with sodium hydroxide and nalc methods , thereby , they can grow on l - j medium .',\n",
       " 'cultures were examined weekly and after 8 weeks of incubation , cultures , which showed no growth , were reported negative and discarded .',\n",
       " 'for microscopic examination , using a disposable pasteur pipette , one drop of the sediment of the sputum specimen was spread on each clean microscope slide and after air drying and fixation by heat , the smears were stained by ziehl - neelsen and gram staining ( 10 ) .',\n",
       " 'after decontamination , the chromosomal dna was extracted using proteinase k and phenol : chloroform , and then precipitated by ethanol and isopropanol , according to standard procedures ( 12 ) .',\n",
       " 'the purified dna was amplified with specific pairs of primers is1 ( 5ctcgtccagcgccgcttcgg 3 ) and is2 ( 5cctgcgagcgtaggcggtgg 3 ) for m. tuberculosis complex strains ann microbiol .',\n",
       " 'the pcr protocols were optimized to 35 cycles consisting of 45 seconds at 94c for denaturation , 30 seconds at 68c for annealing and 30 seconds at 72c for extension , followed by a final 5 minute extension at 72c .',\n",
       " 'primers ng1 ( 5ctcgtccagcgccgcttcgg3 ) and ng2 ( 5cctgcgagcgtaggcggtgg3 ) were used to amplify a nocardia genus specific 590-bp fragment of 16s rrna .',\n",
       " 'the pcr protocols were optimized to 40 cycles consisting of 45 seconds at 94c for denaturation , 30 seconds at 57c for annealing and 30 seconds at 72c for extension , followed by a final 5 minute extension at 72c .',\n",
       " 'amplification with these primers was observed by electrophoresis on 2% ( w / v ) agarose gel stained with ethidium bromide ( figure 1 ) .',\n",
       " 'the n. asteroides atcc 19247 and m. tuberculosis h37rv were used as positive reference strains .',\n",
       " 'two pcrs for each sample were performed in separate tubes with two pairs of primers .',\n",
       " 'one set was dedicated to the m. tuberculosis complex , whereas the other set was for nocardia spp .',\n",
       " 'for each round of pcr the investigators were blinded to clinical data during the experiment for detection of microbial agents co - infection .',\n",
       " 'all specimens were unnamed and labeled by a secure code in the reference mycobacteriology laboratory .',\n",
       " 'a : clinical sample of m. tuberculosis .',\n",
       " 'a total of 189 sputum samples were obtained from the reference mycobacteriology laboratory , ahvaz jundishapur university of medical sciences from march 2011 to april 2012 .',\n",
       " 'all specimens were processed immediately according to standard routine diagnosis procedures by the naoh / n - acetyl - l - cysteine ( nalc ) method .',\n",
       " 'next , concentrated specimens were used for smear preparation , culture and pcr assay ( 10 , 11 ) .',\n",
       " 'furthermore , 250 l of each concentrated sputum specimen was inoculated onto lowenstein - jensen ( l - j ) media ( merck , germany ) .',\n",
       " 'are acid fast and can survive the decontamination of clinical specimens with sodium hydroxide and nalc methods , thereby , they can grow on l - j medium .',\n",
       " 'cultures were examined weekly and after 8 weeks of incubation , cultures , which showed no growth , were reported negative and discarded .',\n",
       " 'for microscopic examination , using a disposable pasteur pipette , one drop of the sediment of the sputum specimen was spread on each clean microscope slide and after air drying and fixation by heat , the smears were stained by ziehl - neelsen and gram staining ( 10 ) .',\n",
       " 'after decontamination , the chromosomal dna was extracted using proteinase k and phenol : chloroform , and then precipitated by ethanol and isopropanol , according to standard procedures ( 12 ) .',\n",
       " 'the purified dna was amplified with specific pairs of primers is1 ( 5ctcgtccagcgccgcttcgg 3 ) and is2 ( 5cctgcgagcgtaggcggtgg 3 ) for m. tuberculosis complex strains ann microbiol .',\n",
       " 'the pcr protocols were optimized to 35 cycles consisting of 45 seconds at 94c for denaturation , 30 seconds at 68c for annealing and 30 seconds at 72c for extension , followed by a final 5 minute extension at 72c .',\n",
       " 'primers ng1 ( 5ctcgtccagcgccgcttcgg3 ) and ng2 ( 5cctgcgagcgtaggcggtgg3 ) were used to amplify a nocardia genus specific 590-bp fragment of 16s rrna .',\n",
       " 'the pcr protocols were optimized to 40 cycles consisting of 45 seconds at 94c for denaturation , 30 seconds at 57c for annealing and 30 seconds at 72c for extension , followed by a final 5 minute extension at 72c .',\n",
       " 'amplification with these primers was observed by electrophoresis on 2% ( w / v ) agarose gel stained with ethidium bromide ( figure 1 ) .',\n",
       " 'the n. asteroides atcc 19247 and m. tuberculosis h37rv were used as positive reference strains .',\n",
       " 'two pcrs for each sample were performed in separate tubes with two pairs of primers .',\n",
       " 'one set was dedicated to the m. tuberculosis complex , whereas the other set was for nocardia spp .',\n",
       " 'for each round of pcr the investigators were blinded to clinical data during the experiment for detection of microbial agents co - infection .',\n",
       " 'all specimens were unnamed and labeled by a secure code in the reference mycobacteriology laboratory .',\n",
       " 'a : clinical sample of m. tuberculosis .',\n",
       " 'among the 157 outpatients , 7.6% ( 12/157 ) of specimens had positive results for acid fast bacilli by acid fast staining but none of the samples were positive for nocardia spp .',\n",
       " 'after cultures evolution , 10.1% ( 16/157 ) of specimens had positive results for mtbc while no specimens grew nocardia spp .',\n",
       " 'during microscopic examination by the gram staining method , we could nt find any particle morphologically similar to nocardia .',\n",
       " 'out of 157 samples , 7% ( 11/157 ) were positive by pcr for mtbc and none of the samples was positive for nocardia by pcr .',\n",
       " 'among 32 samples in hiv - infected patients , four ( 12.5% ) were culture positive for m. tuberculosis and none of them were positive for nocardia .',\n",
       " 'furthermore , these four samples were positive by acid fast staining and pcr assay .',\n",
       " 'out of these four samples , two were positive for nocardia spp .',\n",
       " 'by the pcr method .',\n",
       " 'based on our data the prevalence of nocardiosis and also concomitant infection with tuberculosis in our study was 6.25% ( 2/32 ) in hiv - infected patients and 1.05% ( 2/189 ) for all cases .',\n",
       " 'among the 157 outpatients , 7.6% ( 12/157 ) of specimens had positive results for acid fast bacilli by acid fast staining but none of the samples were positive for nocardia spp .',\n",
       " 'after cultures evolution , 10.1% ( 16/157 ) of specimens had positive results for mtbc while no specimens grew nocardia spp .',\n",
       " 'during microscopic examination by the gram staining method , we could nt find any particle morphologically similar to nocardia .',\n",
       " 'out of 157 samples , 7% ( 11/157 ) were positive by pcr for mtbc and none of the samples was positive for nocardia by pcr .',\n",
       " 'among 32 samples in hiv - infected patients , four ( 12.5% ) were culture positive for m. tuberculosis and none of them were positive for nocardia .',\n",
       " 'furthermore , these four samples were positive by acid fast staining and pcr assay .',\n",
       " 'out of these four samples , two were positive for nocardia spp .',\n",
       " 'by the pcr method .',\n",
       " 'based on our data the prevalence of nocardiosis and also concomitant infection with tuberculosis in our study was 6.25% ( 2/32 ) in hiv - infected patients and 1.05% ( 2/189 ) for all cases .',\n",
       " 'as clinical manifestation of pulmonary tuberculosis and nocardiosis are similar , laboratory tests are required in order to distinguish of nocardiosis from tuberculosis .',\n",
       " 'nocardia is a slow growing bacteria and the contamination risk of the culture with other bacteria and fungi is high .',\n",
       " 'therefore , the suggested approach for this problem is molecular techniques , since they are more sensitive than conventional diagnostic methods ( 15 ) .',\n",
       " 'as two samples were positive for nocardia spp .',\n",
       " 'and mtbc using the pcr method , it is suggested that concurrent pulmonary tuberculosis and nocardiosis may developed coincidently .',\n",
       " 'nocardiosis has been reported to be more prevalent in hiv infected patients .',\n",
       " 'in these patients , infection with opportunistic agents such as nocardia is attributed to suppression of cell mediated immunity ( 16 ) .',\n",
       " 'it has been suggested that , the most common condition predisposing patients to nocardiosis is underlying chronic lung disease .',\n",
       " 'in this study it was found that the coincidence of pulmonary tuberculosis and nocardiosis was 1% for the entire study population and 6.25% among hiv - infected patients .',\n",
       " 'the incidence of pulmonary nocardiosis in hiv - infected patients has been previously reported by some investigators .',\n",
       " 'pulmonary nocardiosis in hiv - infected patients with suspected pulmonary tuberculosis was reported to be 3% by alnaum et al .',\n",
       " '; they reported an average of 3 - 4% for this infection ( 17 ) .',\n",
       " 'some reports indicate that greater than two - thirds of the patients diagnosed with pulmonary nocardiosis were initially diagnosed as having tuberculosis and about 5% of the patients with proven pulmonary tuberculosis were shown to have co - infection with nocardia ( 18 ) .',\n",
       " 'out of 140 sputum samples from african hiv - positive individuals clinically suspected of having tuberculosis ( tb ) , the frequency of nocardiosis was reported as 3.6% ( 19 ) .',\n",
       " 'in areas where hiv - associated tb is common , only a few case reports of concomitant infection of nocardia and tb have been published in the literature ( 20 ) .',\n",
       " 'a prevalence of 1.4% for pulmonary nocardiosis was reported in a tuberculosis and chest diseases hospital in amritsar by singh et al .',\n",
       " 'although , pintado et al .',\n",
       " 'indicated that the overall incidence of nocardiosis among hiv - infected patients is between 0.1 and 0.4% , and is associated with high morbidity and mortality rates ( 18 ) .',\n",
       " 'concurrent pulmonary aspergillosis and nocardiosis was reported in an immunocompromised patient following long - term steroid therapy ( 22 ) .',\n",
       " 'in this study nocardia was not distinguished in sputum specimens using conventional methods , however , positive samples were determined using the pcr assay .',\n",
       " 'our study showed that the pcr technique was more sensitive than conventional methods in detection of nocardia .',\n",
       " 'accordance of molecular techniques with conventional methods has been reported as 70 to 90% by several studies ( 22 , 23 ) .',\n",
       " 'in iran , several studies investigated pulmonary nocardiosis or tuberculosis in patients with various clinical symptoms .',\n",
       " 'recently , aminzade et al .',\n",
       " 'reported concomitant pulmonary nocardiosis and tuberculosis in a patient with rheumatoid arthritis ( 24 ) .',\n",
       " 'in a study by eshraghi and amin , nocardia asteroides was isolated from only one patient suffering from cushing s syndrome with bronchogenic carcinoma amongst 142 patients with advanced symptomatic pulmonary disease in tehran , iran ( 25 ) .',\n",
       " 'in another study from iran ( shojaei et al . )',\n",
       " 'clinical isolation of n. cyricigeorgica from patients with various clinical manifestations was performed ( 26 ) .',\n",
       " 'to the best of our knowledge , this is the first study reporting co - infection of nocardiosis and tuberculosis in hiv - positive patients in iran .',\n",
       " 'concurrent pulmonary tuberculosis and nocardiosis is much more frequent in hiv - infected patients and can be fatal .',\n",
       " 'although nocardiosis resembles tuberculosis , first line anti - tuberculous drugs are not efficient for its treatment .',\n",
       " 'therefore , it is important to establish a potent diagnosis method with high sensitivity and specificity such as molecular methods to improve the speed of diagnosis of nocardiosis .']"
      ]
     },
     "execution_count": 66,
     "metadata": {},
     "output_type": "execute_result"
    }
   ],
   "source": [
    "sentences"
   ]
  },
  {
   "cell_type": "code",
   "execution_count": 63,
   "metadata": {},
   "outputs": [
    {
     "data": {
      "text/plain": [
       "'tuberculosis ( tb ) is caused by the mycobacterium tuberculosis , a member of the m. tuberculosis complex ( mtbc ) . according to the world health organization ( who ) , in 2010 , there were an estimated 12.0 million prevalent cases of tb ( equivalent to 178 cases per 100000 individuals ) and approximately 1.4 million people died of tb during that year . most of the cases in 2009 ( 55% ) occurred in asia ( 1 ) . according to the  administration of tuberculosis and leprosy control  of the ministry of health and medical education in iran , in 2010 , a total of 10485 old and new cases of tb were reported in iran and of these cases , 326 patients ( around 2.2% ) were hiv positive ( 2 ) . the diseases caused by mycobacterium complex have become more important in the recent years , particularly in association with the worldwide pandemic situation caused by human immunodeficiency virus ( hiv ) . in 2010 , in addition , there were an estimated 0.35 million deaths among tb cases that were hiv - positive . according to who , the incidence of pulmonary tuberculosis in hiv - positive patients in iran was 0.38 ( 0.28 - 0.51 ) per 100000 individuals in 2012 ( 3 ) . some opportunistic microorganisms such as nocardia spp . are gram - positive ( weakly acid fast ) and filamentous with a branching appearance and are not part of the normal human bacterial flora . to date at least sixteen species capable of producing disease in humans have been identified ( 4 ) . pulmonary disease is the predominant clinical presentation of this microorganism and can be fatal if untreated . untreated pulmonary nocardiosis is similar to tuberculosis and n. asteroids is the most frequent cause of pulmonary infection in humans ( 85% ) ( 5 ) . since the clinical and radiological manifestations are non - specific , pulmonary nocardiosis could be mistaken with other infections or other bacterial pneumonia . in addition , nocardiosis may be under reported because it is not among the aids - defining criteria ( 6 ) . diagnosis of pulmonary nocardiosis is dependent on the isolation or demonstration of the organism from respiratory secretions such as sputum or tissue specimens . nocardia as a m. tuberculosis is a slow growing organism that requires prolonged incubation for at least 4 - 6 weeks ( 7 ) . the diagnosis of nocardiosis is currently based on direct examination and conventional culture ; serology is usually not useful . treatment of nocardiosis is different from tuberculosis regarding therapeutic agents , route of administration and duration of therapy ( 8) . sulfonamides have been the agents of choice for the treatment of nocardiosis , however combination therapy with two or more agents is recommended . although nocardiosis is an uncommon illness , co - infection of this disease with tuberculosis has been reported ( 9 ) . the aim of this study was to assess the presence of nocardia spp . and m. tuberculosis in sputum specimens of patients with pulmonary tuberculosis . in the meantime , 32 hiv - infected patients who were suspected of having pulmonary tuberculosis were included in this study in order to evaluate concomitant infection in these patients . a total of 189 sputum samples were obtained from the reference mycobacteriology laboratory , ahvaz jundishapur university of medical sciences from march 2011 to april 2012 . all specimens were processed immediately according to standard routine diagnosis procedures by the naoh / n - acetyl - l - cysteine ( nalc ) method . next , concentrated specimens were used for smear preparation , culture and pcr assay ( 10 , 11 ) . furthermore , 250 l of each concentrated sputum specimen was inoculated onto lowenstein - jensen ( l - j ) media ( merck , germany ) . are acid fast and can survive the decontamination of clinical specimens with sodium hydroxide and nalc methods , thereby , they can grow on l - j medium . cultures were examined weekly and after 8 weeks of incubation , cultures , which showed no growth , were reported negative and discarded . for microscopic examination , using a disposable pasteur pipette , one drop of the sediment of the sputum specimen was spread on each clean microscope slide and after air drying and fixation by heat , the smears were stained by ziehl - neelsen and gram staining ( 10 ) . after decontamination , the chromosomal dna was extracted using proteinase k and phenol : chloroform , and then precipitated by ethanol and isopropanol , according to standard procedures ( 12 ) . the purified dna was amplified with specific pairs of primers is1 ( 5ctcgtccagcgccgcttcgg 3 ) and is2 ( 5cctgcgagcgtaggcggtgg 3 ) for m. tuberculosis complex strains ann microbiol . the pcr protocols were optimized to 35 cycles consisting of 45 seconds at 94c for denaturation , 30 seconds at 68c for annealing and 30 seconds at 72c for extension , followed by a final 5 minute extension at 72c . primers ng1 ( 5ctcgtccagcgccgcttcgg3 ) and ng2 ( 5cctgcgagcgtaggcggtgg3 ) were used to amplify a nocardia genus specific 590-bp fragment of 16s rrna . the pcr protocols were optimized to 40 cycles consisting of 45 seconds at 94c for denaturation , 30 seconds at 57c for annealing and 30 seconds at 72c for extension , followed by a final 5 minute extension at 72c . amplification with these primers was observed by electrophoresis on 2% ( w / v ) agarose gel stained with ethidium bromide ( figure 1 ) . the n. asteroides atcc 19247 and m. tuberculosis h37rv were used as positive reference strains . two pcrs for each sample were performed in separate tubes with two pairs of primers . one set was dedicated to the m. tuberculosis complex , whereas the other set was for nocardia spp . for each round of pcr the investigators were blinded to clinical data during the experiment for detection of microbial agents co - infection . all specimens were unnamed and labeled by a secure code in the reference mycobacteriology laboratory . a : clinical sample of m. tuberculosis . a total of 189 sputum samples were obtained from the reference mycobacteriology laboratory , ahvaz jundishapur university of medical sciences from march 2011 to april 2012 . all specimens were processed immediately according to standard routine diagnosis procedures by the naoh / n - acetyl - l - cysteine ( nalc ) method . next , concentrated specimens were used for smear preparation , culture and pcr assay ( 10 , 11 ) . furthermore , 250 l of each concentrated sputum specimen was inoculated onto lowenstein - jensen ( l - j ) media ( merck , germany ) . are acid fast and can survive the decontamination of clinical specimens with sodium hydroxide and nalc methods , thereby , they can grow on l - j medium . cultures were examined weekly and after 8 weeks of incubation , cultures , which showed no growth , were reported negative and discarded . for microscopic examination , using a disposable pasteur pipette , one drop of the sediment of the sputum specimen was spread on each clean microscope slide and after air drying and fixation by heat , the smears were stained by ziehl - neelsen and gram staining ( 10 ) . after decontamination , the chromosomal dna was extracted using proteinase k and phenol : chloroform , and then precipitated by ethanol and isopropanol , according to standard procedures ( 12 ) . the purified dna was amplified with specific pairs of primers is1 ( 5ctcgtccagcgccgcttcgg 3 ) and is2 ( 5cctgcgagcgtaggcggtgg 3 ) for m. tuberculosis complex strains ann microbiol . the pcr protocols were optimized to 35 cycles consisting of 45 seconds at 94c for denaturation , 30 seconds at 68c for annealing and 30 seconds at 72c for extension , followed by a final 5 minute extension at 72c . primers ng1 ( 5ctcgtccagcgccgcttcgg3 ) and ng2 ( 5cctgcgagcgtaggcggtgg3 ) were used to amplify a nocardia genus specific 590-bp fragment of 16s rrna . the pcr protocols were optimized to 40 cycles consisting of 45 seconds at 94c for denaturation , 30 seconds at 57c for annealing and 30 seconds at 72c for extension , followed by a final 5 minute extension at 72c . amplification with these primers was observed by electrophoresis on 2% ( w / v ) agarose gel stained with ethidium bromide ( figure 1 ) . the n. asteroides atcc 19247 and m. tuberculosis h37rv were used as positive reference strains . two pcrs for each sample were performed in separate tubes with two pairs of primers . one set was dedicated to the m. tuberculosis complex , whereas the other set was for nocardia spp . for each round of pcr the investigators were blinded to clinical data during the experiment for detection of microbial agents co - infection . all specimens were unnamed and labeled by a secure code in the reference mycobacteriology laboratory . a : clinical sample of m. tuberculosis . among the 157 outpatients , 7.6% ( 12/157 ) of specimens had positive results for acid fast bacilli by acid fast staining but none of the samples were positive for nocardia spp . after cultures evolution , 10.1% ( 16/157 ) of specimens had positive results for mtbc while no specimens grew nocardia spp . during microscopic examination by the gram staining method , we could nt find any particle morphologically similar to nocardia . out of 157 samples , 7% ( 11/157 ) were positive by pcr for mtbc and none of the samples was positive for nocardia by pcr . among 32 samples in hiv - infected patients , four ( 12.5% ) were culture positive for m. tuberculosis and none of them were positive for nocardia . furthermore , these four samples were positive by acid fast staining and pcr assay . out of these four samples , two were positive for nocardia spp . by the pcr method . based on our data the prevalence of nocardiosis and also concomitant infection with tuberculosis in our study was 6.25% ( 2/32 ) in hiv - infected patients and 1.05% ( 2/189 ) for all cases . among the 157 outpatients , 7.6% ( 12/157 ) of specimens had positive results for acid fast bacilli by acid fast staining but none of the samples were positive for nocardia spp . after cultures evolution , 10.1% ( 16/157 ) of specimens had positive results for mtbc while no specimens grew nocardia spp . during microscopic examination by the gram staining method , we could nt find any particle morphologically similar to nocardia . out of 157 samples , 7% ( 11/157 ) were positive by pcr for mtbc and none of the samples was positive for nocardia by pcr . among 32 samples in hiv - infected patients , four ( 12.5% ) were culture positive for m. tuberculosis and none of them were positive for nocardia . furthermore , these four samples were positive by acid fast staining and pcr assay . out of these four samples , two were positive for nocardia spp . by the pcr method . based on our data the prevalence of nocardiosis and also concomitant infection with tuberculosis in our study was 6.25% ( 2/32 ) in hiv - infected patients and 1.05% ( 2/189 ) for all cases . as clinical manifestation of pulmonary tuberculosis and nocardiosis are similar , laboratory tests are required in order to distinguish of nocardiosis from tuberculosis . nocardia is a slow growing bacteria and the contamination risk of the culture with other bacteria and fungi is high . therefore , the suggested approach for this problem is molecular techniques , since they are more sensitive than conventional diagnostic methods ( 15 ) . as two samples were positive for nocardia spp . and mtbc using the pcr method , it is suggested that concurrent pulmonary tuberculosis and nocardiosis may developed coincidently . nocardiosis has been reported to be more prevalent in hiv infected patients . in these patients , infection with opportunistic agents such as nocardia is attributed to suppression of cell mediated immunity ( 16 ) . it has been suggested that , the most common condition predisposing patients to nocardiosis is underlying chronic lung disease . in this study it was found that the coincidence of pulmonary tuberculosis and nocardiosis was 1% for the entire study population and 6.25% among hiv - infected patients . the incidence of pulmonary nocardiosis in hiv - infected patients has been previously reported by some investigators . pulmonary nocardiosis in hiv - infected patients with suspected pulmonary tuberculosis was reported to be 3% by alnaum et al . ; they reported an average of 3 - 4% for this infection ( 17 ) . some reports indicate that greater than two - thirds of the patients diagnosed with pulmonary nocardiosis were initially diagnosed as having tuberculosis and about 5% of the patients with proven pulmonary tuberculosis were shown to have co - infection with nocardia ( 18 ) . out of 140 sputum samples from african hiv - positive individuals clinically suspected of having tuberculosis ( tb ) , the frequency of nocardiosis was reported as 3.6% ( 19 ) . in areas where hiv - associated tb is common , only a few case reports of concomitant infection of nocardia and tb have been published in the literature ( 20 ) . a prevalence of 1.4% for pulmonary nocardiosis was reported in a tuberculosis and chest diseases hospital in amritsar by singh et al . although , pintado et al . indicated that the overall incidence of nocardiosis among hiv - infected patients is between 0.1 and 0.4% , and is associated with high morbidity and mortality rates ( 18 ) . concurrent pulmonary aspergillosis and nocardiosis was reported in an immunocompromised patient following long - term steroid therapy ( 22 ) . in this study nocardia was not distinguished in sputum specimens using conventional methods , however , positive samples were determined using the pcr assay . our study showed that the pcr technique was more sensitive than conventional methods in detection of nocardia . accordance of molecular techniques with conventional methods has been reported as 70 to 90% by several studies ( 22 , 23 ) .   in iran , several studies investigated pulmonary nocardiosis or tuberculosis in patients with various clinical symptoms . recently , aminzade et al . reported concomitant pulmonary nocardiosis and tuberculosis in a patient with rheumatoid arthritis ( 24 ) . in a study by eshraghi and amin , nocardia asteroides was isolated from only one patient suffering from cushing s syndrome with bronchogenic carcinoma amongst 142 patients with advanced symptomatic pulmonary disease in tehran , iran ( 25 ) . in another study from iran ( shojaei et al . ) clinical isolation of n. cyricigeorgica from patients with various clinical manifestations was performed ( 26 ) . to the best of our knowledge , this is the first study reporting co - infection of nocardiosis and tuberculosis in hiv - positive patients in iran .   concurrent pulmonary tuberculosis and nocardiosis is much more frequent in hiv - infected patients and can be fatal . although nocardiosis resembles tuberculosis , first line anti - tuberculous drugs are not efficient for its treatment . therefore , it is important to establish a potent diagnosis method with high sensitivity and specificity such as molecular methods to improve the speed of diagnosis of nocardiosis .'"
      ]
     },
     "execution_count": 63,
     "metadata": {},
     "output_type": "execute_result"
    }
   ],
   "source": [
    "scientific_papers['train'][200]['article'].replace('\\n', ' ')"
   ]
  },
  {
   "cell_type": "code",
   "execution_count": 88,
   "metadata": {},
   "outputs": [
    {
     "name": "stdout",
     "output_type": "stream",
     "text": [
      "2625\n",
      "4746\n"
     ]
    }
   ],
   "source": [
    "print(len(toobig))\n",
    "print(len(toosmall))"
   ]
  },
  {
   "cell_type": "markdown",
   "metadata": {},
   "source": [
    "# Visualizing Dataset"
   ]
  },
  {
   "cell_type": "code",
   "execution_count": 234,
   "metadata": {},
   "outputs": [
    {
     "name": "stdout",
     "output_type": "stream",
     "text": [
      "0\n",
      "822179\n",
      "17414.136077849304\n"
     ]
    }
   ],
   "source": [
    "import math \n",
    "mini = math.inf\n",
    "maxi = 0\n",
    "running = 0\n",
    "dist = []\n",
    "toobig = []\n",
    "toosmall = []\n",
    "for i, each in enumerate(scientific_papers['train']):\n",
    "    length = len(each['article'])\n",
    "    if mini > length:\n",
    "        mini = length\n",
    "    elif maxi < length:\n",
    "        maxi = length\n",
    "    running += length\n",
    "    if length > 200000:\n",
    "        toobig.append((i, length))\n",
    "    elif length < 2500:\n",
    "        toosmall.append((i, length))\n",
    "    dist.append(length)\n",
    "print(mini)\n",
    "print(maxi)\n",
    "print(running/len(scientific_papers['train']))"
   ]
  },
  {
   "cell_type": "code",
   "execution_count": 235,
   "metadata": {},
   "outputs": [
    {
     "name": "stdout",
     "output_type": "stream",
     "text": [
      "178\n",
      "4746\n"
     ]
    }
   ],
   "source": [
    "print(len(toobig))\n",
    "print(len(toosmall))"
   ]
  },
  {
   "cell_type": "markdown",
   "metadata": {},
   "source": [
    "lets first visualize the distirbution of the lengths of the documents in the dataset"
   ]
  },
  {
   "cell_type": "code",
   "execution_count": 199,
   "metadata": {},
   "outputs": [
    {
     "data": {
      "image/png": "[encoded data removed]",
      "text/plain": [
       "<Figure size 432x288 with 1 Axes>"
      ]
     },
     "metadata": {
      "needs_background": "light"
     },
     "output_type": "display_data"
    }
   ],
   "source": [
    "n_bins = 500\n",
    "#subdist = [each for each in dist if (each < 50000) and (each > 5000)]\n",
    "x = dist\n",
    "fig, ax = plt.subplots()\n",
    "ax.hist(x, bins=n_bins)\n",
    "plt.show()"
   ]
  },
  {
   "cell_type": "markdown",
   "metadata": {},
   "source": [
    "Let's get a sense of how many extremely long documents we have"
   ]
  },
  {
   "cell_type": "code",
   "execution_count": 202,
   "metadata": {},
   "outputs": [],
   "source": [
    "toobigdist = []\n",
    "for each in toobig:\n",
    "    if each[1] > 100000:\n",
    "        toobigdist.append(each[1])"
   ]
  },
  {
   "cell_type": "code",
   "execution_count": 201,
   "metadata": {},
   "outputs": [
    {
     "data": {
      "image/png": "[encoded data removed]",
      "text/plain": [
       "<Figure size 432x288 with 1 Axes>"
      ]
     },
     "metadata": {
      "needs_background": "light"
     },
     "output_type": "display_data"
    }
   ],
   "source": [
    "n_bins = 1000\n",
    "x = toobigdist\n",
    "fig, ax = plt.subplots()\n",
    "ax.hist(x, bins=n_bins)\n",
    "plt.show()"
   ]
  },
  {
   "cell_type": "markdown",
   "metadata": {},
   "source": [
    "Now let's get a sense of how many extermely short documents we have (< 2000 characters or roughly 400 words)"
   ]
  },
  {
   "cell_type": "code",
   "execution_count": 194,
   "metadata": {},
   "outputs": [],
   "source": [
    "toosmalldist = []\n",
    "for each in toosmall:\n",
    "    if (each[1] < 2500):\n",
    "        toosmalldist.append(each[1])"
   ]
  },
  {
   "cell_type": "code",
   "execution_count": 195,
   "metadata": {},
   "outputs": [
    {
     "data": {
      "text/plain": [
       "4746"
      ]
     },
     "execution_count": 195,
     "metadata": {},
     "output_type": "execute_result"
    }
   ],
   "source": [
    "len(toosmalldist)"
   ]
  },
  {
   "cell_type": "code",
   "execution_count": 196,
   "metadata": {},
   "outputs": [
    {
     "data": {
      "image/png": "[encoded data removed]",
      "text/plain": [
       "<Figure size 432x288 with 1 Axes>"
      ]
     },
     "metadata": {
      "needs_background": "light"
     },
     "output_type": "display_data"
    }
   ],
   "source": [
    "n_bins = 100\n",
    "x = toosmalldist\n",
    "fig, ax = plt.subplots()\n",
    "ax.hist(x, bins=n_bins)\n",
    "plt.show()"
   ]
  },
  {
   "cell_type": "code",
   "execution_count": 203,
   "metadata": {},
   "outputs": [],
   "source": [
    "toosmalldist = []\n",
    "for each in toosmall:\n",
    "    if (each[1] < 2500) and (each[1] > 0):\n",
    "        toosmalldist.append(each[1])"
   ]
  },
  {
   "cell_type": "code",
   "execution_count": 205,
   "metadata": {},
   "outputs": [
    {
     "data": {
      "image/png": "[encoded data removed]",
      "text/plain": [
       "<Figure size 432x288 with 1 Axes>"
      ]
     },
     "metadata": {
      "needs_background": "light"
     },
     "output_type": "display_data"
    }
   ],
   "source": [
    "n_bins = 100\n",
    "x = toosmalldist\n",
    "fig, ax = plt.subplots()\n",
    "ax.hist(x, bins=n_bins)\n",
    "plt.show()"
   ]
  },
  {
   "cell_type": "markdown",
   "metadata": {},
   "source": [
    "There are a lot of documents with no actual article (length 0), we'll remove them.\n",
    "Also, anything shorter than 2500 characters, which is likely around 500 words, probably will not contribute to helping the model learn meaningful summaries from longer form texts. So we'll remove 178+4746=4924 examples from the training set. This is roughly 5% of it. This is just a heuristic.\n",
    "<br><br>\n",
    "We also should check how many examples we have left do not have abstracts (in which case we won't have a ground truth)\n"
   ]
  },
  {
   "cell_type": "code",
   "execution_count": 209,
   "metadata": {},
   "outputs": [],
   "source": [
    "noabs= []\n",
    "for i, each in enumerate(scientific_papers['train']):\n",
    "    length = len(each['article'])\n",
    "    if (length <= 100000) and (length >=2500):\n",
    "        abstractlen = len(each['abstract'])\n",
    "        if abstractlen == 0:\n",
    "            noabs.append(i)\n"
   ]
  },
  {
   "cell_type": "code",
   "execution_count": 211,
   "metadata": {},
   "outputs": [
    {
     "data": {
      "text/plain": [
       "0"
      ]
     },
     "execution_count": 211,
     "metadata": {},
     "output_type": "execute_result"
    }
   ],
   "source": [
    "len(noabs)"
   ]
  },
  {
   "cell_type": "markdown",
   "metadata": {},
   "source": [
    "Nice, there are none.<br><br>\n",
    "Now we can consolidate all the indices of examples we want to eliminate"
   ]
  },
  {
   "cell_type": "code",
   "execution_count": 225,
   "metadata": {},
   "outputs": [],
   "source": [
    "toobigidx = [each[0] for each in toobig]\n",
    "toosmallidx = [each[0] for each in toosmall]\n",
    "omit = toobigidx + toosmallidx\n",
    "\n",
    "#pickle.dump(omit, open(\"omit.p\", 'wb'))\n",
    "#pickle.load(open(\"omit.p\", 'rb'))"
   ]
  },
  {
   "cell_type": "markdown",
   "metadata": {},
   "source": [
    "# Process Dataset"
   ]
  },
  {
   "cell_type": "code",
   "execution_count": 75,
   "metadata": {
    "collapsed": true
   },
   "outputs": [
    {
     "ename": "IndexError",
     "evalue": "list index out of range",
     "output_type": "error",
     "traceback": [
      "\u001b[1;31m---------------------------------------------------------------------------\u001b[0m",
      "\u001b[1;31mIndexError\u001b[0m                                Traceback (most recent call last)",
      "\u001b[1;32m<ipython-input-75-9b706ddcbca1>\u001b[0m in \u001b[0;36m<module>\u001b[1;34m\u001b[0m\n\u001b[0;32m      1\u001b[0m \u001b[0marticle\u001b[0m \u001b[1;33m=\u001b[0m \u001b[0mlist\u001b[0m\u001b[1;33m(\u001b[0m\u001b[0mdict\u001b[0m\u001b[1;33m.\u001b[0m\u001b[0mfromkeys\u001b[0m\u001b[1;33m(\u001b[0m\u001b[0mnltk\u001b[0m\u001b[1;33m.\u001b[0m\u001b[0msent_tokenize\u001b[0m\u001b[1;33m(\u001b[0m\u001b[0mscientific_papers\u001b[0m\u001b[1;33m[\u001b[0m\u001b[1;34m'train'\u001b[0m\u001b[1;33m]\u001b[0m\u001b[1;33m[\u001b[0m\u001b[1;36m11\u001b[0m\u001b[1;33m]\u001b[0m\u001b[1;33m[\u001b[0m\u001b[1;34m'article'\u001b[0m\u001b[1;33m]\u001b[0m\u001b[1;33m.\u001b[0m\u001b[0mreplace\u001b[0m\u001b[1;33m(\u001b[0m\u001b[1;34m'\\n'\u001b[0m\u001b[1;33m,\u001b[0m \u001b[1;34m' '\u001b[0m\u001b[1;33m)\u001b[0m\u001b[1;33m)\u001b[0m\u001b[1;33m)\u001b[0m\u001b[1;33m)\u001b[0m\u001b[1;33m\u001b[0m\u001b[1;33m\u001b[0m\u001b[0m\n\u001b[0;32m      2\u001b[0m \u001b[0mabstract\u001b[0m \u001b[1;33m=\u001b[0m \u001b[0mnltk\u001b[0m\u001b[1;33m.\u001b[0m\u001b[0msent_tokenize\u001b[0m\u001b[1;33m(\u001b[0m\u001b[0mscientific_papers\u001b[0m\u001b[1;33m[\u001b[0m\u001b[1;34m'train'\u001b[0m\u001b[1;33m]\u001b[0m\u001b[1;33m[\u001b[0m\u001b[1;36m11\u001b[0m\u001b[1;33m]\u001b[0m\u001b[1;33m[\u001b[0m\u001b[1;34m'abstract'\u001b[0m\u001b[1;33m]\u001b[0m\u001b[1;33m.\u001b[0m\u001b[0mreplace\u001b[0m\u001b[1;33m(\u001b[0m\u001b[1;34m'\\n'\u001b[0m\u001b[1;33m,\u001b[0m \u001b[1;34m' '\u001b[0m\u001b[1;33m)\u001b[0m\u001b[1;33m)\u001b[0m\u001b[1;33m\u001b[0m\u001b[1;33m\u001b[0m\u001b[0m\n\u001b[1;32m----> 3\u001b[1;33m \u001b[0mres\u001b[0m \u001b[1;33m=\u001b[0m \u001b[0mnallapati_method\u001b[0m\u001b[1;33m(\u001b[0m\u001b[0marticle\u001b[0m\u001b[1;33m,\u001b[0m \u001b[0mabstract\u001b[0m\u001b[1;33m)\u001b[0m\u001b[1;33m\u001b[0m\u001b[1;33m\u001b[0m\u001b[0m\n\u001b[0m",
      "\u001b[1;32m<ipython-input-73-f4a9b226a033>\u001b[0m in \u001b[0;36mnallapati_method\u001b[1;34m(article_sents, abstract_sents)\u001b[0m\n\u001b[0;32m     22\u001b[0m         \u001b[0mprev_score\u001b[0m \u001b[1;33m=\u001b[0m \u001b[0mcur_score\u001b[0m\u001b[1;33m\u001b[0m\u001b[1;33m\u001b[0m\u001b[0m\n\u001b[0;32m     23\u001b[0m         \u001b[0mselected_summary\u001b[0m \u001b[1;33m=\u001b[0m \u001b[0mcandidate_summary\u001b[0m\u001b[1;33m\u001b[0m\u001b[1;33m\u001b[0m\u001b[0m\n\u001b[1;32m---> 24\u001b[1;33m         \u001b[0mcandidate_summary\u001b[0m \u001b[1;33m=\u001b[0m \u001b[0mselected_summary\u001b[0m \u001b[1;33m+\u001b[0m \u001b[1;33m[\u001b[0m\u001b[0mtoprougesentences\u001b[0m\u001b[1;33m[\u001b[0m\u001b[0mtopn\u001b[0m\u001b[1;33m-\u001b[0m\u001b[1;36m1\u001b[0m\u001b[1;33m]\u001b[0m\u001b[1;33m]\u001b[0m\u001b[1;33m\u001b[0m\u001b[1;33m\u001b[0m\u001b[0m\n\u001b[0m\u001b[0;32m     25\u001b[0m         \u001b[0mcur_score\u001b[0m\u001b[1;33m,\u001b[0m \u001b[0mcandidate_summary\u001b[0m \u001b[1;33m=\u001b[0m \u001b[0mcal_rouge\u001b[0m\u001b[1;33m(\u001b[0m\u001b[0mcandidate_summary\u001b[0m\u001b[1;33m,\u001b[0m \u001b[0marticle_sents\u001b[0m\u001b[1;33m,\u001b[0m \u001b[0mabstract_sents\u001b[0m\u001b[1;33m)\u001b[0m\u001b[1;33m\u001b[0m\u001b[1;33m\u001b[0m\u001b[0m\n\u001b[0;32m     26\u001b[0m         \u001b[0mtopn\u001b[0m \u001b[1;33m+=\u001b[0m \u001b[1;36m1\u001b[0m\u001b[1;33m\u001b[0m\u001b[1;33m\u001b[0m\u001b[0m\n",
      "\u001b[1;31mIndexError\u001b[0m: list index out of range"
     ]
    }
   ],
   "source": [
    "article = list(dict.fromkeys(nltk.sent_tokenize(scientific_papers['train'][11]['article'].replace('\\n', ' '))))\n",
    "abstract = nltk.sent_tokenize(scientific_papers['train'][11]['abstract'].replace('\\n', ' '))\n",
    "res = nallapati_method(article, abstract)"
   ]
  },
  {
   "cell_type": "code",
   "execution_count": 64,
   "metadata": {},
   "outputs": [],
   "source": [
    "seqlabel = [1 if i+1 in res[1] else 0 for i, each in enumerate(article)]"
   ]
  },
  {
   "cell_type": "code",
   "execution_count": 69,
   "metadata": {},
   "outputs": [
    {
     "data": {
      "text/plain": [
       "array([0, 0, 0, 0, 0, 0, 0, 0, 0, 0, 0, 0, 0, 0, 0, 0, 0, 0, 0, 0, 0, 0,\n",
       "       0, 0, 0, 0, 0, 0, 0, 0, 0, 0, 0, 0, 0, 0, 0, 0, 1, 1, 0, 0, 0, 0,\n",
       "       1, 0, 0, 0, 0])"
      ]
     },
     "execution_count": 69,
     "metadata": {},
     "output_type": "execute_result"
    }
   ],
   "source": [
    "np.array(seqlabel)"
   ]
  },
  {
   "cell_type": "code",
   "execution_count": 65,
   "metadata": {
    "collapsed": true
   },
   "outputs": [
    {
     "data": {
      "text/plain": [
       "[0,\n",
       " 0,\n",
       " 0,\n",
       " 0,\n",
       " 0,\n",
       " 0,\n",
       " 0,\n",
       " 0,\n",
       " 0,\n",
       " 0,\n",
       " 0,\n",
       " 0,\n",
       " 0,\n",
       " 0,\n",
       " 0,\n",
       " 0,\n",
       " 0,\n",
       " 0,\n",
       " 0,\n",
       " 0,\n",
       " 0,\n",
       " 0,\n",
       " 0,\n",
       " 0,\n",
       " 0,\n",
       " 0,\n",
       " 0,\n",
       " 0,\n",
       " 0,\n",
       " 0,\n",
       " 0,\n",
       " 0,\n",
       " 0,\n",
       " 0,\n",
       " 0,\n",
       " 0,\n",
       " 0,\n",
       " 0,\n",
       " 1,\n",
       " 1,\n",
       " 0,\n",
       " 0,\n",
       " 0,\n",
       " 0,\n",
       " 1,\n",
       " 0,\n",
       " 0,\n",
       " 0,\n",
       " 0]"
      ]
     },
     "execution_count": 65,
     "metadata": {},
     "output_type": "execute_result"
    }
   ],
   "source": [
    "seqlabel"
   ]
  },
  {
   "cell_type": "code",
   "execution_count": 73,
   "metadata": {},
   "outputs": [],
   "source": [
    "def nallapati_method(article_sents:list, abstract_sents:list):\n",
    "    \"\"\"implementation of gen_sentence_labels using the method from Nallapati et al. 2016 \n",
    "    After calculating the toprougesentences, greedily append starting from the top and\n",
    "    evaluate rouge against the current summary of sentences until rouge does not improve.\n",
    "    \"\"\"\n",
    "    \n",
    "    sentids_lst = [[sentid] for sentid in range(len(article_sents))]\n",
    "    rougescore_sentwise = []\n",
    "    for sentids in sentids_lst:\n",
    "        rougescore_sentwise.append(cal_rouge(sentids, article_sents, abstract_sents))\n",
    "\n",
    "    rougescore_sentwise.sort(reverse=True)\n",
    "    \n",
    "    toprougesentences = [item[1][0] for item in rougescore_sentwise]\n",
    "    \n",
    "    selected_summary = []\n",
    "    candidate_summary = []\n",
    "    prev_score = -1\n",
    "    cur_score = 0 #placeholder\n",
    "    topn = 0\n",
    "    while prev_score < cur_score:\n",
    "        prev_score = cur_score\n",
    "        selected_summary = candidate_summary\n",
    "        candidate_summary = selected_summary + [toprougesentences[topn]]\n",
    "        cur_score, candidate_summary = cal_rouge(candidate_summary, article_sents, abstract_sents)\n",
    "        topn += 1\n",
    "    return (cur_score, selected_summary)\n"
   ]
  },
  {
   "cell_type": "code",
   "execution_count": 104,
   "metadata": {},
   "outputs": [
    {
     "name": "stdout",
     "output_type": "stream",
     "text": [
      "[11, 22, 50, 71, 94, 128, 151, 155, 175, 291, 320, 342, 350, 373, 390, 399, 401, 407, 422, 427, 443, 456, 479, 480, 534, 540, 560, 612, 686, 715, 716, 743, 769, 806, 826, 906, 952, 989, 992, 997, 1026, 1044, 1092, 1103, 1106, 1141, 1150, 1151, 1202, 1273, 1303, 1304, 1312, 1326, 1342, 1359, 1387, 1408, 1441, 1444, 1463, 1466, 1475, 1502, 1518, 1550, 1576, 1587, 1590, 1595, 1598, 1626, 1669, 1672, 1789, 1802, 1805, 1845, 1887, 1911, 1937, 2023, 2031, 2040, 2062, 2071, 2084, 2111, 2134, 2145, 2193, 2259, 2267, 2298, 2317, 2321, 2355, 2361, 2379, 2399, 2424, 2436, 2448, 2453, 2494, 2497, 2505, 2578, 2646, 2652, 2660, 2790, 2827, 2841, 2896, 2903, 2907, 2909, 2917, 2922, 2924, 2944, 2971, 3053, 3071, 3106, 3167, 3171, 3221, 3239, 3247, 3249, 3269, 3285, 3315, 3341, 3354, 3360, 3379, 3382, 3395, 3428, 3441, 3448, 3456, 3469, 3511, 3535, 3541, 3560, 3573, 3577, 3582, 3617, 3624, 3646, 3653, 3666, 3676, 3678, 3683, 3690, 3703, 3711, 3722, 3724, 3725, 3732, 3770, 3806, 3809, 3837, 3839, 3858, 3865, 3874, 3886, 3890, 3907, 3910, 3941, 3960, 3978, 3998, 4004, 4021, 4029, 4036, 4051, 4069, 4071, 4082, 4085, 4106, 4108, 4152, 4153, 4155, 4165, 4208, 4240, 4244, 4246, 4321, 4330, 4378, 4380, 4423, 4439, 4441, 4448, 4457, 4521, 4528, 4560, 4566, 4568, 4590, 4609, 4612, 4643, 4653, 4659, 4678, 4688, 4719, 4777, 4801, 4808, 4832, 4854, 4858, 4871, 4910, 4953, 4954, 4982, 4993, 5001, 5003, 5017, 5039, 5057, 5073, 5091, 5100, 5109, 5193, 5202, 5225, 5315, 5316, 5353, 5396, 5433, 5458, 5469, 5471, 5489, 5496, 5537, 5559, 5578, 5589, 5607, 5612, 5616, 5647, 5653, 5664, 5670, 5682, 5721, 5735, 5758, 5772, 5797, 5820, 5844, 5909, 5980, 6010, 6038, 6057, 6076, 6081, 6084, 6146, 6171, 6211, 6265, 6281, 6283, 6314, 6334, 6350, 6462, 6469, 6521, 6543, 6548, 6579, 6585, 6594, 6607, 6615, 6633, 6727, 6772, 6778, 6789, 6877, 6890, 6922, 6986, 6998, 7020, 7049, 7055, 7063, 7066, 7079, 7093, 7110, 7136, 7146, 7184, 7231, 7240, 7241, 7267, 7306, 7334, 7378, 7380, 7400, 7431, 7441, 7467, 7498, 7521, 7574, 7600, 7601, 7618, 7673, 7675, 7676, 7678, 7709, 7715, 7788, 7826, 7838, 7842, 7855, 7883, 7890, 7919, 7922, 7943, 7953, 7960, 7962, 8017, 8062, 8086, 8094, 8096, 8181, 8200, 8215, 8216, 8229, 8230, 8281, 8282, 8286, 8289, 8304, 8361, 8377, 8399, 8411, 8424, 8436, 8634, 8636, 8667, 8703, 8783, 8803, 8824, 8832, 8850, 8875, 8876, 8920, 8921, 8975, 8983, 9000, 9018, 9029, 9070, 9101, 9111, 9148, 9178, 9187, 9196, 9229, 9243, 9272, 9300, 9355, 9357, 9363, 9365, 9377, 9420, 9448, 9469, 9484, 9520, 9537, 9575, 9578, 9583, 9590, 9598, 9644, 9678, 9680, 9689, 9696, 9704, 9719, 9732, 9776, 9794, 9817, 9823, 9848, 9868, 9905, 9906, 9925, 9940, 9994, 9996, 10013, 10031, 10032, 10054, 10106, 10188, 10254, 10288, 10346, 10412, 10419, 10434, 10495, 10550, 10567, 10596, 10622, 10643, 10685, 10690, 10745, 10789, 10838, 10841, 10847, 10876, 10885, 10886, 10899, 10936, 10965, 10978, 11048, 11068, 11079, 11098, 11130, 11151, 11243, 11288, 11294, 11298, 11323, 11346, 11404, 11428, 11453, 11541, 11542, 11555, 11566, 11581, 11603, 11607, 11609, 11648, 11666, 11688, 11714, 11766, 11853, 11872, 11907, 11979, 12029, 12033, 12039, 12046, 12056, 12089, 12100, 12156, 12220, 12285, 12291, 12309, 12340, 12369, 12377, 12391, 12428, 12433, 12438, 12509, 12546, 12556, 12571, 12584, 12595, 12602, 12608, 12611, 12633, 12667, 12705, 12774, 12780, 12871, 12922, 12923, 12928, 12953, 13003, 13009, 13040, 13087, 13100, 13101, 13102, 13132, 13158, 13165, 13255, 13274, 13326, 13363, 13411, 13429, 13430, 13446, 13448, 13472, 13477, 13590, 13607, 13638, 13666, 13669, 13685, 13703, 13750, 13774, 13801, 13809, 13832, 13882, 13901, 13931, 13934, 13999, 14027, 14042, 14045, 14054, 14089, 14112, 14139, 14142, 14143, 14161, 14163, 14206, 14270, 14275, 14278, 14358, 14383, 14398, 14424, 14448, 14478, 14525, 14611, 14630, 14639, 14656, 14705, 14718, 14745, 14773, 14784, 14820, 14838, 14946, 14958, 15034, 15200, 15205, 15230, 15240, 15277, 15278, 15280, 15293, 15315, 15338, 15367, 15384, 15405, 15423, 15427, 15444, 15475, 15518, 15538, 15547, 15592, 15635, 15658, 15696, 15719, 15731, 15754, 15759, 15818, 15853, 15860, 15933, 15955, 15965, 15994, 15998, 16034, 16062, 16070, 16072, 16112, 16145, 16181, 16222, 16230, 16233, 16277, 16330, 16383, 16410, 16414, 16415, 16441, 16444, 16452, 16468, 16507, 16559, 16609, 16613, 16649, 16652, 16744, 16777, 16787, 16875, 16895, 16901, 16903, 16928, 16937, 16947, 16952, 16968, 16991, 17031, 17064, 17065, 17084, 17088, 17155, 17161, 17163, 17169, 17203, 17225, 17246, 17265, 17278, 17300, 17312, 17317, 17344, 17360, 17421, 17426, 17456, 17466, 17469, 17503, 17528, 17538, 17554, 17555, 17570, 17600, 17614, 17621, 17655, 17718, 17766, 17772, 17798, 17804, 17831, 17869, 17874, 17911, 17988, 17990, 18004, 18131, 18197, 18244, 18276, 18340, 18342, 18390, 18495, 18513, 18536, 18552, 18578, 18605, 18685, 18691, 18699, 18725, 18738, 18745, 18779, 18799, 18839, 18923, 18936, 18955, 18958, 18968, 18982, 19025, 19055, 19067, 19100, 19111, 19141, 19151, 19152, 19172, 19176, 19207, 19231, 19245, 19280, 19291, 19298, 19310, 19332, 19348, 19351, 19389, 19486, 19496, 19549, 19551, 19576, 19623, 19650, 19657, 19664, 19667, 19680, 19697, 19701, 19706, 19754, 19785, 19819, 19821, 19874, 19878, 20009, 20083, 20101, 20205, 20253, 20286, 20288, 20299, 20310, 20327, 20338, 20397, 20403, 20557, 20563, 20577, 20579, 20598, 20605, 20675, 20678, 20683, 20685, 20689, 20718, 20764, 20791, 20814, 20857, 20858, 20864, 20865, 20869, 20891, 20900, 20929, 20954, 20989, 21020, 21082, 21106, 21107, 21110, 21144, 21172, 21177, 21209, 21228, 21260, 21277, 21297, 21355, 21398, 21436, 21443, 21464, 21481, 21486, 21503, 21504, 21533, 21536, 21565, 21653, 21655, 21666, 21699, 21718, 21754, 21756, 21796, 21873, 21897, 21912, 21924, 21967, 21973, 21975, 21976, 21977, 21986, 21990, 21991, 22054, 22056, 22077, 22082, 22111, 22141, 22162, 22168, 22177, 22251, 22268, 22276, 22300, 22413, 22428, 22431, 22442, 22464, 22485, 22512, 22537, 22564, 22625, 22633, 22695, 22706, 22763, 22765, 22819, 22824, 22825, 22831, 22834, 22855, 22864, 22876, 22950, 22959, 22980, 23022, 23032, 23042, 23066, 23083, 23103, 23126, 23144, 23164, 23169, 23179, 23211, 23225, 23262, 23271, 23278, 23345, 23424, 23441, 23466, 23505, 23535, 23553, 23560, 23621, 23623, 23629, 23637, 23670, 23673, 23696, 23723, 23736, 23747, 23805, 23842, 23870, 23887, 23927, 23939, 23940, 23942, 24015, 24063, 24090, 24111, 24134, 24141, 24147, 24188, 24214, 24243, 24298, 24316, 24384, 24406, 24420, 24437, 24439, 24444, 24449, 24457, 24495, 24517, 24524, 24535, 24537, 24582, 24602, 24617, 24618, 24620, 24630, 24645, 24652, 24654, 24677, 24683, 24690, 24694, 24710, 24732, 24793, 24816, 24838, 24841, 24843, 24856, 24908, 24924, 24962, 24967, 24980, 25020, 25039, 25041, 25086, 25092, 25096, 25232, 25266, 25272, 25319, 25325, 25395, 25416, 25417, 25441, 25451, 25456, 25457, 25459, 25462, 25477, 25478, 25489, 25504, 25543, 25544, 25555, 25606, 25658, 25694, 25719, 25731, 25736, 25745, 25811, 25889, 25893, 25913, 25930, 25931, 25949, 25950, 25971, 26019, 26073, 26074, 26097, 26122, 26139, 26245, 26246, 26289, 26311, 26328, 26356, 26370, 26380, 26412, 26442, 26444, 26450, 26460, 26467, 26475, 26481, 26506, 26525, 26526, 26527, 26532, 26547, 26568, 26607, 26620, 26763, 26783, 26786, 26800, 26823, 26840, 26857, 26899, 26940, 26975, 26995, 27034, 27045, 27080, 27087, 27090, 27167, 27176, 27184, 27189, 27206, 27211, 27244, 27245, 27271, 27332, 27342, 27365, 27417, 27463, 27467, 27473, 27498, 27524, 27575, 27615, 27647, 27658, 27688, 27757, 27787, 27799, 27817, 27832, 27840, 27873, 27911, 27927, 27929, 27943, 27972, 27977, 27988, 28008, 28009, 28010, 28011, 28033, 28152, 28169, 28177, 28178, 28179, 28181, 28226, 28244, 28281, 28292, 28339, 28361, 28406, 28426, 28445, 28485, 28492, 28547, 28659, 28682, 28710, 28711, 28747, 28795, 28828, 28875, 28888, 28902, 28910, 28938, 28960, 28963, 29001, 29004, 29016, 29043, 29081, 29159, 29173, 29181, 29205, 29217, 29238, 29296, 29328, 29332, 29384, 29467, 29497, 29504, 29533, 29552, 29554, 29622, 29624, 29628, 29635, 29653, 29670, 29693, 29744, 29771, 29798, 29808, 29826, 29858, 29884, 29919, 29932, 29984, 30002, 30006, 30024, 30035, 30059, 30077, 30109, 30112, 30144, 30162, 30197, 30202, 30235, 30263, 30279, 30301, 30308, 30314, 30338, 30344, 30389, 30390, 30403, 30454, 30500, 30545, 30577, 30599, 30612, 30653, 30658, 30662, 30680, 30684, 30763, 30767, 30774, 30780, 30801, 30858, 30864, 30895, 30902, 30935, 30992, 31034, 31049, 31066, 31073, 31100, 31105, 31121, 31129, 31144, 31201, 31213, 31228, 31246, 31257, 31275, 31290, 31294, 31305, 31339, 31378, 31380, 31382, 31424, 31430, 31447, 31531, 31538, 31558, 31578, 31595, 31622, 31623, 31637, 31641, 31650, 31672, 31678, 31682, 31705, 31713, 31714, 31761, 31769, 31797, 31800, 31806, 31829, 31833, 31866, 31875, 31877, 31886, 31890, 31901, 31916, 31918, 31929, 31966, 31967, 31975, 31979, 31981, 32004, 32008, 32013, 32023, 32032, 32033, 32038, 32039, 32124, 32143, 32146, 32197, 32198, 32200, 32259, 32298, 32305, 32368, 32378, 32397, 32458, 32540, 32571, 32572, 32574, 32577, 32609, 32615, 32656, 32667, 32741, 32765, 32772, 32845, 32853, 32893, 32901, 32916, 32918, 32924, 32943, 32958, 32963, 33017, 33038, 33061, 33105, 33144, 33189, 33203, 33250, 33271, 33302, 33336, 33359, 33368, 33396, 33447, 33459, 33465, 33495, 33526, 33532, 33560, 33581, 33582, 33630, 33655, 33661, 33675, 33686, 33692, 33702, 33721, 33775, 33810, 33838, 33841, 33849, 33861, 33874, 33882, 33920, 33939, 33953, 33999, 34089, 34111, 34152, 34153, 34172, 34221, 34233, 34309, 34340, 34344, 34363, 34387, 34405, 34410, 34417, 34464, 34473, 34504, 34510, 34530, 34554, 34570, 34580, 34590, 34659, 34666, 34691, 34711, 34745, 34753, 34834, 34843, 34855, 34919, 34948, 34960, 34971, 34995, 35005, 35082, 35086, 35098, 35099, 35207, 35210, 35218, 35223, 35250, 35278, 35286, 35294, 35297, 35335, 35364, 35365, 35378, 35441, 35449, 35450, 35471, 35480, 35520, 35526, 35596, 35634, 35656, 35657, 35688, 35708, 35716, 35745, 35746, 35765, 35817, 35831, 35848, 35886, 35909, 35916, 35924, 35941, 35954, 35967, 35987, 35989, 35993, 36029, 36047, 36051, 36076, 36105, 36128, 36156, 36165, 36188, 36196, 36197, 36240, 36263, 36268, 36274, 36281, 36294, 36307, 36312, 36366, 36393, 36407, 36445, 36473, 36526, 36539, 36551, 36557, 36566, 36587, 36609, 36620, 36637, 36736, 36739, 36784, 36786, 36813, 36863, 36892, 36944, 36976, 36992, 37047, 37083, 37113, 37131, 37148, 37162, 37206, 37226, 37229, 37232, 37249, 37278, 37285, 37290, 37310, 37321, 37323, 37346, 37352, 37366, 37466, 37477, 37507, 37541, 37548, 37568, 37576, 37621, 37624, 37639, 37661, 37665, 37717, 37799, 37802, 37877, 37888, 37955, 37958, 37963, 37979, 37980, 37984, 38017, 38026, 38065, 38083, 38104, 38162, 38178, 38195, 38219, 38221, 38268, 38271, 38273, 38284, 38293, 38299, 38306, 38387, 38432, 38444, 38445, 38493, 38505, 38507, 38523, 38569, 38587, 38595, 38640, 38654, 38713, 38725, 38727, 38732, 38806, 38812, 38821, 38826, 38831, 38839, 38855, 38964, 38995, 38999, 39036, 39130, 39141, 39152, 39206, 39276, 39278, 39314, 39328, 39434, 39443, 39457, 39473, 39482, 39486, 39496, 39516, 39536, 39582, 39585, 39684, 39713, 39794, 39861, 39877, 39881, 39959, 39961, 39962, 39968, 39991, 40005, 40016, 40022, 40030, 40039, 40043, 40077, 40089, 40108, 40109, 40121, 40140, 40142, 40153, 40155, 40193, 40197, 40207, 40264, 40265, 40287, 40292, 40323, 40340, 40356, 40379, 40423, 40436, 40440, 40460, 40505, 40519, 40550, 40614, 40670, 40675, 40677, 40771, 40822, 40825, 40833, 40864, 40869, 40971, 40982, 41035, 41068, 41098, 41108, 41131, 41144, 41164, 41187, 41192, 41213, 41294, 41375, 41431, 41436, 41439, 41450, 41483, 41598, 41611, 41640, 41688, 41700, 41704, 41760, 41761, 41795, 41796, 41797, 41831, 41868, 41871, 41876, 41914, 41936, 41957, 41959, 41983, 42002, 42003, 42019, 42023, 42052, 42123, 42184, 42198, 42247, 42266, 42282, 42331, 42334, 42340, 42369, 42388, 42421, 42423, 42441, 42463, 42475, 42479, 42512, 42534, 42570, 42598, 42621, 42650, 42652, 42668, 42715, 42741, 42765, 42771, 42851, 42892, 42946, 42950, 42957, 42958, 42999, 43003, 43021, 43030, 43082, 43101, 43160, 43187, 43190, 43255, 43271, 43319, 43348, 43393, 43401, 43435, 43454, 43489, 43545, 43559, 43561, 43592, 43633, 43642, 43659, 43722, 43743, 43749, 43751, 43786, 43801, 43852, 43885, 43952, 44015, 44048, 44059, 44208, 44251, 44253, 44280, 44289, 44320, 44329, 44338, 44343, 44349, 44351, 44353, 44373, 44389, 44400, 44427, 44439, 44448, 44504, 44506, 44543, 44559, 44563, 44690, 44743, 44744, 44756, 44796, 44846, 44854, 44881, 44895, 44931, 44981, 45000, 45052, 45069, 45084, 45086, 45097, 45098, 45118, 45142, 45189, 45210, 45224, 45231, 45278, 45287, 45288, 45303, 45312, 45393, 45395, 45409, 45412, 45438, 45443, 45449, 45452, 45521, 45556, 45561, 45578, 45611, 45656, 45689, 45705, 45707, 45719, 45749, 45758, 45771, 45775, 45823, 45842, 45846, 45863, 45905, 45936, 45973, 45978, 46046, 46056, 46127, 46142, 46165, 46202, 46262, 46276, 46551, 46572, 46573, 46594, 46599, 46676, 46693, 46789, 46799, 46843, 46858, 46865, 46869, 46879, 46897, 46962, 46973, 46991, 47000, 47042, 47050, 47065, 47112, 47120, 47153, 47162, 47188, 47215, 47229, 47241, 47262, 47273, 47290, 47300, 47371, 47375, 47379, 47386, 47403, 47407, 47409, 47423, 47479, 47482, 47492, 47500, 47544, 47599, 47607, 47616, 47643, 47651, 47704, 47724, 47731, 47733, 47748, 47805, 47821, 47831, 47839, 47848, 47850, 47865, 47882, 47884, 47915, 47926, 48020, 48023, 48072, 48107, 48122, 48139, 48161, 48174, 48194, 48208, 48214, 48238, 48249, 48255, 48266, 48272, 48282, 48303, 48332, 48333, 48350, 48383, 48389, 48402, 48458, 48554, 48588, 48716, 48730, 48731, 48740, 48748, 48749, 48764, 48782, 48794, 48848, 48886, 48888, 48896, 48917, 48939, 48946, 49033, 49046, 49099, 49174, 49186, 49229, 49234, 49276, 49304, 49315, 49316, 49349, 49378, 49395, 49406, 49410, 49490, 49534, 49543, 49578, 49586, 49601, 49611, 49655, 49656, 49666, 49674, 49679, 49716, 49720, 49748, 49792, 49821, 49840, 49856, 49877, 49929, 49998, 50025, 50037, 50045, 50046, 50131, 50225, 50244, 50255, 50287, 50302, 50303, 50322, 50366, 50391, 50406, 50412, 50413, 50444, 50489, 50525, 50538, 50539, 50548, 50550, 50561, 50571, 50603, 50613, 50621, 50632, 50636, 50666, 50677, 50707, 50708, 50714, 50803, 50843, 50871, 50898, 50922, 50923, 50933, 51006, 51039, 51068, 51094, 51097, 51131, 51200, 51208, 51247, 51279, 51321, 51367, 51375, 51376, 51387, 51404, 51425, 51465, 51490, 51520, 51549, 51552, 51637, 51647, 51661, 51679, 51757, 51768, 51863, 51930, 51963, 51967, 51989, 51998, 52021, 52046, 52076, 52102, 52106, 52138, 52154, 52160, 52167, 52169, 52172, 52189, 52206, 52218, 52233, 52301, 52335, 52352, 52363, 52371, 52373, 52410, 52421, 52425, 52475, 52479, 52512, 52591, 52624, 52634, 52645, 52652, 52671, 52706, 52729, 52741, 52756, 52817, 52837, 52851, 52904, 52925, 52933, 52981, 52998, 53005, 53010, 53013, 53026, 53177, 53182, 53229, 53258, 53283, 53338, 53352, 53360, 53372, 53402, 53404, 53406, 53408, 53417, 53447, 53461, 53493, 53510, 53532, 53571, 53572, 53615, 53628, 53643, 53717, 53726, 53777, 53786, 53859, 53894, 53904, 53984, 54041, 54045, 54078, 54093, 54155, 54174, 54189, 54234, 54237, 54255, 54258, 54279, 54305, 54313, 54314, 54322, 54325, 54382, 54407, 54465, 54477, 54495, 54528, 54534, 54571, 54659, 54690, 54765, 54777, 54780, 54795, 54808, 54845, 54853, 54886, 54910, 54924, 54941, 54992, 55000, 55002, 55009, 55055, 55056, 55061, 55065, 55099, 55171, 55198, 55223, 55253, 55308, 55350, 55353, 55417, 55456, 55474, 55525, 55526, 55546, 55547, 55556, 55579, 55586, 55596, 55629, 55660, 55707, 55731, 55765, 55766, 55771, 55801, 55802, 55823, 55876, 55898, 55907, 55918, 55920, 56016, 56017, 56060, 56085, 56106, 56114, 56194, 56200, 56232, 56242, 56281, 56304, 56322, 56327, 56386, 56444, 56445, 56499, 56523, 56525, 56568, 56598, 56603, 56606, 56607, 56608, 56670, 56698, 56708, 56721, 56802, 56804, 56807, 56875, 56878, 56892, 56905, 56916, 56935, 56950, 56951, 56995, 57042, 57061, 57106, 57110, 57135, 57150, 57160, 57203, 57235, 57272, 57276, 57300, 57302, 57321, 57348, 57366, 57367, 57413, 57439, 57444, 57449, 57466, 57474, 57501, 57504, 57520, 57539, 57597, 57603, 57640, 57662, 57663, 57681, 57706, 57718, 57738, 57766, 57780, 57862, 57877, 57904, 57915, 57928, 57930, 57968, 57971, 58002, 58006, 58023, 58071, 58079, 58102, 58107, 58126, 58130, 58134, 58139, 58149, 58157, 58165, 58182, 58263, 58354, 58364, 58383, 58386, 58391, 58394, 58416, 58431, 58434, 58458, 58462, 58504, 58505, 58515, 58530, 58535, 58538, 58573, 58599, 58651, 58681, 58693, 58759, 58794, 58812, 58817, 58838, 58847, 58868, 58872, 58877, 58895, 58924, 58940, 58973, 58981, 58988, 59010, 59017, 59082, 59084, 59088, 59096, 59156, 59162, 59170, 59199, 59204, 59263, 59272, 59295, 59298, 59363, 59491, 59508, 59534, 59551, 59585, 59599, 59637, 59738, 59774, 59778, 59795, 59819, 59822, 59840, 59902, 60000, 60072, 60100, 60110, 60142, 60189, 60222, 60223, 60274, 60279, 60318, 60326, 60327, 60342, 60346, 60363, 60364, 60395, 60403, 60420, 60443, 60444, 60504, 60509, 60525, 60533, 60580, 60666, 60667, 60707, 60711, 60752, 60757, 60808, 60815, 60819, 60843, 60893, 60894, 60922, 60930, 60948, 60950, 60993, 61005, 61044, 61066, 61078, 61111, 61200, 61226, 61244, 61267, 61313, 61328, 61345, 61359, 61379, 61422, 61434, 61470, 61474, 61478, 61486, 61523, 61529, 61542, 61544, 61557, 61577, 61586, 61640, 61654, 61684, 61717, 61786, 61826, 61840, 61852, 61865, 61882, 61893, 61935, 61974, 62003, 62024, 62036, 62053, 62075, 62085, 62086, 62101, 62124, 62151, 62159, 62174, 62238, 62244, 62251, 62259, 62279, 62343, 62353, 62389, 62423, 62425, 62430, 62438, 62519, 62552, 62555, 62557, 62558, 62611, 62621, 62653, 62655, 62663, 62686, 62709, 62715, 62726, 62731, 62738, 62786, 62806, 62814, 62826, 62844, 62852, 62853, 62890, 62909, 62913, 63034, 63082, 63099, 63100, 63121, 63135, 63150, 63168, 63169, 63183, 63191, 63194, 63204, 63210, 63250, 63281, 63283, 63286, 63288, 63375, 63385, 63387, 63400, 63405, 63431, 63449, 63464, 63476, 63479, 63494, 63533, 63562, 63570, 63578, 63616, 63687, 63706, 63708, 63768, 63786, 63845, 63869, 63876, 63915, 63927, 63930, 63938, 63954, 63988, 64001, 64003, 64038, 64051, 64085, 64096, 64134, 64206, 64233, 64241, 64258, 64331, 64367, 64374, 64391, 64425, 64428, 64512, 64530, 64556, 64560, 64561, 64591, 64599, 64616, 64653, 64667, 64679, 64682, 64794, 64810, 64812, 64827, 64844, 64847, 64896, 64917, 64967, 64969, 64997, 65021, 65045, 65118, 65120, 65132, 65188, 65197, 65252, 65256, 65263, 65308, 65342, 65367, 65388, 65391, 65445, 65450, 65458, 65467, 65516, 65521, 65525, 65533, 65535, 65593, 65610, 65619, 65643, 65652, 65691, 65693, 65720, 65728, 65736, 65829, 65842, 65883, 65892, 65909, 65927, 65972, 65974, 65999, 66000, 66012, 66015, 66017, 66030, 66046, 66066, 66126, 66138, 66145, 66160, 66161, 66171, 66176, 66320, 66327, 66369, 66403, 66412, 66420, 66429, 66445, 66462, 66476, 66480, 66490, 66548, 66550, 66559, 66617, 66629, 66637, 66639, 66686, 66691, 66718, 66727, 66744, 66746, 66779, 66802, 66814, 66843, 66858, 66897, 66912, 66937, 66941, 66951, 66957, 66970, 66979, 66993, 67020, 67157, 67193, 67222, 67243, 67274, 67289, 67374, 67379, 67400, 67410, 67434, 67445, 67472, 67473, 67494, 67498, 67533, 67554, 67570, 67602, 67623, 67642, 67675, 67705, 67740, 67765, 67803, 67812, 67815, 67820, 67834, 67896, 67910, 67937, 67957, 67958, 68079, 68143, 68162, 68205, 68213, 68232, 68252, 68254, 68262, 68272, 68325, 68374, 68478, 68487, 68492, 68502, 68520, 68586, 68602, 68611, 68623, 68661, 68745, 68748, 68786, 68851, 68856, 68858, 68896, 68910, 68916, 68941, 68945, 68951, 68983, 68987, 69052, 69089, 69103, 69130, 69141, 69142, 69242, 69246, 69247, 69284, 69293, 69300, 69307, 69314, 69327, 69330, 69354, 69369, 69391, 69461, 69505, 69538, 69567, 69578, 69587, 69600, 69601, 69611, 69651, 69654, 69664, 69711, 69723, 69733, 69787, 69803, 69833, 69840, 69857, 69886, 69891, 69895, 69901, 69911, 69960, 69991, 70027, 70032, 70054, 70077, 70079, 70102, 70103, 70126, 70154, 70163, 70169, 70194, 70202, 70209, 70255, 70260, 70306, 70324, 70348, 70400, 70414, 70467, 70474, 70483, 70554, 70608, 70609, 70676, 70736, 70766, 70879, 70880, 70940, 70978, 71000, 71020, 71046, 71145, 71146, 71149, 71166, 71173, 71180, 71191, 71192, 71200, 71224, 71291, 71297, 71311, 71326, 71345, 71376, 71391, 71437, 71443, 71449, 71468, 71480, 71491, 71522, 71535, 71543, 71563, 71565, 71597, 71620, 71631, 71682, 71718, 71748, 71758, 71788, 71792, 71806, 71820, 71843, 71875, 71924, 71954, 71958, 71996, 72006, 72011, 72020, 72038, 72048, 72049, 72072, 72094, 72100, 72138, 72168, 72170, 72188, 72207, 72213, 72230, 72296, 72325, 72363, 72425, 72427, 72457, 72519, 72635, 72685, 72770, 72790, 72796, 72798, 72799, 72801, 72827, 72914, 72959, 73018, 73025, 73062, 73169, 73171, 73194, 73201, 73207, 73220, 73223, 73238, 73248, 73261, 73269, 73310, 73427, 73488, 73496, 73549, 73552, 73563, 73579, 73604, 73640, 73653, 73659, 73707, 73723, 73752, 73768, 73771, 73784, 73793, 73820, 73826, 73836, 73854, 73856, 73858, 73860, 73869, 73895, 73933, 73939, 73950, 73963, 73971, 73997, 74006, 74010, 74060, 74166, 74175, 74207, 74209, 74291, 74306, 74327, 74355, 74390, 74441, 74488, 74491, 74601, 74630, 74680, 74814, 74859, 74864, 74879, 74896, 74907, 74922, 74927, 74953, 74966, 74992, 75048, 75056, 75070, 75095, 75114, 75148, 75153, 75262, 75263, 75296, 75297, 75321, 75325, 75360, 75449, 75455, 75484, 75490, 75516, 75529, 75535, 75546, 75547, 75554, 75569, 75614, 75629, 75635, 75677, 75690, 75727, 75790, 75819, 75825, 75826, 75861, 75881, 75915, 76011, 76071, 76101, 76155, 76179, 76180, 76190, 76204, 76209, 76212, 76260, 76365, 76431, 76434, 76448, 76470, 76482, 76518, 76526, 76532, 76536, 76566, 76713, 76768, 76775, 76820, 76834, 76855, 76970, 77007, 77009, 77014, 77015, 77080, 77112, 77125, 77166, 77179, 77180, 77290, 77305, 77308, 77327, 77341, 77343, 77375, 77395, 77402, 77405, 77422, 77435, 77463, 77471, 77531, 77537, 77543, 77557, 77571, 77578, 77592, 77626, 77644, 77695, 77705, 77721, 77745, 77747, 77798, 77851, 77864, 77868, 77947, 77966, 77989, 78091, 78175, 78199, 78235, 78237, 78280, 78287, 78289, 78339, 78391, 78405, 78424, 78431, 78437, 78447, 78453, 78495, 78530, 78538, 78558, 78577, 78579, 78604, 78605, 78653, 78664, 78737, 78881, 78905, 78952, 78969, 79012, 79014, 79042, 79059, 79061, 79110, 79113, 79117, 79138, 79176, 79181, 79207, 79248, 79249, 79253, 79295, 79301, 79322, 79420, 79421, 79481, 79485, 79552, 79564, 79566, 79615, 79627, 79656, 79662, 79700, 79726, 79752, 79765, 79844, 79865, 79878, 79912, 79915, 79945, 79999, 80002, 80025, 80052, 80054, 80082, 80151, 80215, 80317, 80339, 80399, 80417, 80422, 80456, 80516, 80542, 80546, 80548, 80561, 80564, 80565, 80566, 80588, 80615, 80618, 80648, 80655, 80663, 80664, 80671, 80690, 80733, 80740, 80751, 80773, 80774, 80781, 80800, 80848, 80908, 80921, 80952, 80958, 80967, 80970, 80976, 81010, 81013, 81023, 81069, 81073, 81076, 81096, 81127, 81156, 81208, 81252, 81255, 81269, 81274, 81333, 81381, 81386, 81430, 81498, 81521, 81541, 81542, 81561, 81563, 81580, 81586, 81710, 81726, 81730, 81738, 81742, 81778, 81807, 81822, 81837, 81861, 81880, 81887, 81913, 81914, 81935, 81940, 81959, 82010, 82014, 82051, 82089, 82098, 82115, 82211, 82221, 82260, 82283, 82309, 82310, 82315, 82324, 82348, 82389, 82402, 82423, 82430, 82450, 82456, 82459, 82466, 82478, 82493, 82517, 82529, 82602, 82613, 82676, 82718, 82751, 82773, 82779, 82811, 82821, 82824, 82843, 82871, 82873, 82905, 82990, 83025, 83028, 83036, 83090, 83097, 83132, 83133, 83201, 83271, 83282, 83353, 83369, 83403, 83426, 83433, 83438, 83450, 83492, 83504, 83535, 83540, 83551, 83621, 83633, 83688, 83783, 83821, 83837, 83847, 83861, 83887, 83911, 83923, 83959, 83982, 83990, 84054, 84103, 84151, 84212, 84282, 84291, 84299, 84326, 84333, 84343, 84349, 84398, 84399, 84417, 84433, 84438, 84461, 84507, 84511, 84524, 84583, 84590, 84632, 84634, 84636, 84645, 84797, 84823, 84829, 84831, 84843, 84845, 84866, 84884, 84937, 85012, 85052, 85106, 85110, 85116, 85119, 85138, 85139, 85173, 85236, 85238, 85249, 85333, 85342, 85347, 85460, 85483, 85516, 85541, 85542, 85551, 85583, 85634, 85644, 85648, 85670, 85678, 85719, 85726, 85742, 85758, 85850, 85871, 85887, 85900, 85902, 85943, 85950, 85967, 86025, 86073, 86141, 86278, 86299, 86322, 86348, 86378, 86461, 86468, 86493, 86502, 86512, 86722, 86784, 86805, 86817, 86835, 86838, 86879, 86881, 86929, 87035, 87116, 87151, 87164, 87213, 87223, 87232, 87235, 87257, 87274, 87306, 87322, 87333, 87341, 87355, 87389, 87399, 87414, 87416, 87476, 87517, 87530, 87553, 87614, 87669, 87781, 87787, 87799, 87901, 87903, 87911, 87936, 87949, 87973, 88030, 88032, 88119, 88139, 88176, 88209, 88251, 88273, 88356, 88399, 88401, 88406, 88413, 88446, 88449, 88481, 88491, 88501, 88534, 88566, 88586, 88590, 88591, 88598, 88604, 88612, 88624, 88653, 88657, 88667, 88683, 88727, 88771, 88772, 88784, 88807, 88834, 88847, 88851, 88893, 88899, 88911, 88926, 88935, 88942, 88946, 88953, 88980, 89022, 89035, 89055, 89069, 89098, 89105, 89110, 89117, 89129, 89176, 89177, 89199, 89214, 89215, 89265, 89300, 89325, 89329, 89336, 89344, 89357, 89467, 89469, 89476, 89544, 89560, 89561, 89592, 89595, 89601, 89618, 89622, 89647, 89677, 89699, 89709, 89720, 89745, 89767, 89787, 89793, 89815, 89853, 89854, 89902, 89921, 89965, 89990, 90015, 90027, 90033, 90038, 90039, 90050, 90071, 90114, 90126, 90161, 90163, 90164, 90175, 90198, 90265, 90360, 90369, 90385, 90473, 90526, 90548, 90577, 90650, 90656, 90675, 90699, 90734, 90745, 90749, 90874, 90907, 90933, 90971, 90980, 91008, 91011, 91012, 91030, 91063, 91081, 91117, 91125, 91137, 91156, 91172, 91198, 91205, 91228, 91234, 91242, 91246, 91261, 91308, 91326, 91348, 91395, 91514, 91578, 91597, 91607, 91629, 91694, 91697, 91722, 91728, 91738, 91857, 91885, 91887, 91911, 91917, 91928, 91944, 91973, 91976, 91983, 91996, 92003, 92013, 92025, 92037, 92044, 92112, 92140, 92154, 92159, 92165, 92171, 92180, 92189, 92196, 92202, 92203, 92222, 92239, 92272, 92274, 92276, 92283, 92309, 92311, 92326, 92336, 92397, 92419, 92420, 92459, 92470, 92505, 92575, 92581, 92589, 92605, 92631, 92670, 92674, 92726, 92754, 92775, 92819, 92834, 92858, 92891, 92895, 92923, 92933, 92969, 92972, 93013, 93053, 93070, 93129, 93172, 93245, 93335, 93348, 93367, 93369, 93421, 93460, 93505, 93511, 93513, 93529, 93537, 93541, 93545, 93568, 93606, 93607, 93630, 93641, 93670, 93683, 93693, 93709, 93865, 93874, 93911, 93934, 93953, 93973, 94028, 94066, 94076, 94083, 94087, 94090, 94141, 94169, 94186, 94206, 94208, 94209, 94210, 94212, 94214, 94216, 94245, 94255, 94282, 94311, 94371, 94394, 94396, 94401, 94417, 94420, 94426, 94433, 94494, 94527, 94529, 94551, 94553, 94574, 94578, 94579, 94589, 94640, 94645, 94730, 94735, 94751, 94763, 94800, 94874, 94942, 95011, 95022, 95069, 95073, 95085, 95109, 95120, 95165, 95196, 95219, 95236, 95260, 95271, 95280, 95330, 95334, 95343, 95368, 95393, 95455, 95511, 95517, 95540, 95584, 95591, 95594, 95685, 95738, 95744, 95858, 95880, 95887, 95890, 95902, 95918, 95957, 95966, 95989, 96014, 96024, 96038, 96099, 96106, 96152, 96173, 96194, 96293, 96295, 96331, 96395, 96401, 96406, 96411, 96420, 96438, 96465, 96498, 96506, 96513, 96580, 96596, 96629, 96637, 96653, 96698, 96758, 96773, 96775, 96786, 96788, 96795, 96813, 96834, 96878, 96894, 96933, 96947, 96982, 97038, 97050, 97075, 97117, 97131, 97142, 97150, 97156, 97160, 97171, 97226, 97264, 97273, 97367, 97410, 97476, 97484, 97527, 97530, 97606, 97610, 97623, 97653, 97685, 97694, 97717, 97728, 97729, 97763, 97789, 97805, 97827, 97840, 97851, 97852, 97856, 97892, 97895, 97901, 97909, 97930, 97966, 97971, 97986, 97990, 98007, 98067, 98073, 98079, 98097, 98121, 98144, 98147, 98169, 98191, 98213, 98233, 98247, 98286, 98291, 98326, 98331, 98407, 98452, 98456, 98512, 98550, 98614, 98636, 98639, 98651, 98699, 98731, 98760, 98774, 98802, 98823, 98828, 98841, 98858, 98868, 98886, 98897, 98900, 98939, 98955, 98979, 99057, 99065, 99074, 99094, 99117, 99126, 99137, 99151, 99166, 99176, 99185, 99190, 99200, 99205, 99216, 99297, 99309, 99356, 99396, 99408, 99410, 99446, 99465, 99486, 99571, 99574, 99593, 99608, 99609, 99624, 99661, 99662, 99711, 99728, 99751, 99758, 99768, 99784, 99794, 99807, 99852, 99859, 99867, 99906, 99907, 99938, 99970, 99991, 99994, 100007, 100015, 100029, 100057, 100061, 100063, 100099, 100130, 100144, 100183, 100205, 100232, 100251, 100256, 100260, 100454, 100455, 100510, 100525, 100569, 100573, 100579, 100615, 100657, 100794, 100928, 100973, 101002, 101072, 101102, 101121, 101135, 101176, 101198, 101216, 101221, 101236, 101241, 101318, 101319, 101348, 101363, 101373, 101394, 101418, 101448, 101493, 101567, 101576, 101591, 101635, 101641, 101673, 101755, 101789, 101793, 101796, 101835, 101841, 101870, 101926, 101929, 101938, 101966, 101994, 101999, 102004, 102066, 102086, 102108, 102163, 102176, 102186, 102192, 102230, 102235, 102258, 102263, 102306, 102326, 102402, 102410, 102432, 102450, 102468, 102485, 102508, 102531, 102572, 102602, 102640, 102727, 102743, 102767, 102845, 102855, 102891, 102956, 102957, 102961, 102972, 102978, 102987, 102988, 103021, 103059, 103086, 103118, 103126, 103287, 103408, 103415, 103432, 103443, 103447, 103448, 103459, 103462, 103497, 103510, 103520, 103538, 103554, 103555, 103591, 103599, 103602, 103610, 103621, 103669, 103690, 103711, 103731, 103762, 103779, 103783, 103796, 103821, 103904, 103906, 104045, 104125, 104131, 104132, 104182, 104229, 104298, 104305, 104320, 104324, 104340, 104352, 104373, 104375, 104435, 104503, 104534, 104555, 104607, 104641, 104659, 104681, 104682, 104691, 104719, 104730, 104737, 104763, 104792, 104807, 104829, 104947, 104955, 104959, 104968, 105011, 105012, 105116, 105123, 105155, 105156, 105158, 105160, 105165, 105211, 105215, 105234, 105266, 105373, 105436, 105489, 105494, 105528, 105529, 105549, 105558, 105571, 105588, 105593, 105613, 105646, 105714, 105735, 105742, 105772, 105785, 105788, 105850, 105874, 105881, 105888, 105900, 105903, 105908, 105938, 105960, 105962, 105965, 105968, 105985, 106023, 106025, 106041, 106077, 106085, 106090, 106093, 106126, 106129, 106145, 106165, 106208, 106210, 106224, 106305, 106386, 106413, 106416, 106436, 106454, 106463, 106468, 106481, 106489, 106536, 106558, 106664, 106675, 106697, 106704, 106710, 106726, 106736, 106737, 106749, 106769, 106779, 106803, 106860, 106874, 106880, 106885, 106894, 106896, 106975, 106984, 107010, 107041, 107043, 107050, 107108, 107112, 107161, 107173, 107176, 107194, 107211, 107231, 107238, 107294, 107301, 107305, 107326, 107352, 107383, 107392, 107407, 107415, 107422, 107450, 107464, 107504, 107520, 107573, 107578, 107588, 107617, 107637, 107699, 107706, 107747, 107774, 107794, 107836, 107874, 107875, 107881, 107885, 107900, 107914, 107966, 107967, 107969, 107971, 107994, 107997, 108061, 108149, 108170, 108183, 108203, 108225, 108228, 108279, 108284, 108329, 108351, 108402, 108404, 108419, 108424, 108441, 108445, 108463, 108491, 108501, 108526, 108532, 108536, 108554, 108563, 108587, 108631, 108632, 108727, 108763, 108776, 108795, 108799, 108806, 108837, 108845, 108848, 108868, 108878, 108951, 108979, 108987, 108992, 109028, 109044, 109047, 109069, 109083, 109197, 109210, 109215, 109270, 109273, 109307, 109316, 109317, 109346, 109358, 109361, 109377, 109388, 109445, 109490, 109521, 109525, 109593, 109600, 109611, 109670, 109687, 109695, 109729, 109767, 109772, 109811, 109862, 109870, 109881, 109887, 109892, 109957, 110041, 110047, 110053, 110061, 110102, 110125, 110139, 110150, 110151, 110199, 110203, 110216, 110219, 110255, 110276, 110283, 110299, 110323, 110326, 110421, 110444, 110455, 110471, 110491, 110677, 110712, 110758, 110785, 110794, 110806, 110809, 110928, 110944, 111028, 111029, 111071, 111074, 111133, 111146, 111160, 111172, 111175, 111177, 111187, 111226, 111240, 111277, 111303, 111320, 111361, 111383, 111395, 111435, 111440, 111449, 111459, 111496, 111508, 111516, 111519, 111534, 111537, 111606, 111638, 111650, 111651, 111674, 111675, 111678, 111718, 111730, 111732, 111773, 111775, 111800, 111806, 111807, 111831, 111848, 111869, 111873, 111888, 111903, 111914, 111972, 112051, 112065, 112080, 112103, 112109, 112116, 112125, 112134, 112172, 112182, 112255, 112262, 112269, 112309, 112324, 112341, 112383, 112386, 112390, 112398, 112425, 112438, 112479, 112513, 112526, 112557, 112570, 112572, 112598, 112605, 112606, 112648, 112666, 112696, 112713, 112727, 112762, 112844, 112863, 112879, 112880, 112909, 112916, 112923, 112939, 112969, 112977, 113058, 113142, 113165, 113186, 113190, 113205, 113226, 113272, 113279, 113322, 113329, 113350, 113382, 113417, 113420, 113429, 113502, 113513, 113528, 113551, 113640, 113699, 113714, 113716, 113736, 113758, 113764, 113767, 113822, 113848, 113924, 113935, 113937, 113944, 113965, 114030, 114149, 114162, 114203, 114251, 114259, 114263, 114265, 114295, 114313, 114358, 114386, 114387, 114418, 114466, 114478, 114482, 114483, 114495, 114508, 114511, 114545, 114554, 114555, 114590, 114604, 114620, 114625, 114695, 114704, 114727, 114735, 114763, 114780, 114827, 114872, 114889, 114895, 114922, 114957, 114975, 114981, 114986, 114991, 114998, 115038, 115065, 115066, 115068, 115153, 115194, 115294, 115296, 115368, 115380, 115417, 115436, 115475, 115476, 115478, 115493, 115500, 115523, 115546, 115577, 115586, 115593, 115694, 115747, 115748, 115757, 115813, 115828, 115831, 115834, 115868, 115874, 115920, 115961, 115976, 115979, 115991, 115992, 116018, 116023, 116025, 116030, 116059, 116175, 116189, 116249, 116273, 116275, 116323, 116381, 116408, 116465, 116486, 116532, 116595, 116611, 116612, 116660, 116752, 116795, 116804, 116811, 116814, 116847, 116860, 116882, 116896, 116903, 116928, 116939, 116957, 116960, 117004, 117021, 117044, 117048, 117055, 117064, 117072, 117077, 117099, 117118, 117132, 117152, 117167, 117175, 117186, 117260, 117277, 117284, 117311, 117326, 117380, 117395, 117444, 117446, 117450, 117505, 117522, 117565, 117651, 117653, 117662, 117666, 117709, 117769, 117777, 117788, 117803, 117811, 117835, 117872, 117906, 117912, 117915, 117982, 117990, 118011, 118050, 118057, 118058, 118110, 118144, 118156, 118173, 118262, 118266, 118326, 118335, 118370, 118386, 118405, 118416, 118442, 118443, 118452, 118454, 118458, 118482, 118501, 118524, 118564, 118566, 118582, 118590, 118605, 118611, 118618, 118620, 118652, 118665, 118675, 118721, 118752, 118770, 118772, 118776, 118845, 118893, 118902, 118944, 118958, 118982, 118991, 118995, 119035, 119060, 119067, 119085, 119133, 119172, 119232, 119269, 119285, 119318, 119345, 119350, 119355, 119361, 119365, 119399, 119412, 119438, 119537, 119555, 119565, 119567, 119595, 119619, 119629, 119674, 119684, 119708, 119719, 119731, 119741, 119745, 119750, 119821, 119841, 119847, 119863, 119875, 119886, 119906]\n"
     ]
    }
   ],
   "source": [
    "omit =sorted(pickle.load(open(\"omit.p\", 'rb')))\n",
    "print(omit)"
   ]
  },
  {
   "cell_type": "code",
   "execution_count": 99,
   "metadata": {},
   "outputs": [
    {
     "data": {
      "application/vnd.jupyter.widget-view+json": {
       "model_id": "de8ee061262b413f8007e8a8f63986ea",
       "version_major": 2,
       "version_minor": 0
      },
      "text/plain": [
       "HBox(children=(FloatProgress(value=0.0, max=119924.0), HTML(value='')))"
      ]
     },
     "metadata": {},
     "output_type": "display_data"
    },
    {
     "name": "stdout",
     "output_type": "stream",
     "text": [
      "\n"
     ]
    },
    {
     "ename": "KeyError",
     "evalue": "'article_sents'",
     "output_type": "error",
     "traceback": [
      "\u001b[1;31m---------------------------------------------------------------------------\u001b[0m",
      "\u001b[1;31mKeyboardInterrupt\u001b[0m                         Traceback (most recent call last)",
      "\u001b[1;32m~\\Anaconda3\\envs\\transformers\\lib\\site-packages\\datasets\\arrow_dataset.py\u001b[0m in \u001b[0;36m_map_single\u001b[1;34m(self, function, with_indices, input_columns, batched, batch_size, drop_last_batch, remove_columns, keep_in_memory, load_from_cache_file, cache_file_name, writer_batch_size, features, disable_nullable, fn_kwargs, new_fingerprint, rank, offset, update_data)\u001b[0m\n\u001b[0;32m   1507\u001b[0m                 \u001b[1;32mfor\u001b[0m \u001b[0mi\u001b[0m\u001b[1;33m,\u001b[0m \u001b[0mexample\u001b[0m \u001b[1;32min\u001b[0m \u001b[0menumerate\u001b[0m\u001b[1;33m(\u001b[0m\u001b[0mpbar\u001b[0m\u001b[1;33m)\u001b[0m\u001b[1;33m:\u001b[0m\u001b[1;33m\u001b[0m\u001b[1;33m\u001b[0m\u001b[0m\n\u001b[1;32m-> 1508\u001b[1;33m                     \u001b[0mexample\u001b[0m \u001b[1;33m=\u001b[0m \u001b[0mapply_function_on_filtered_inputs\u001b[0m\u001b[1;33m(\u001b[0m\u001b[0mexample\u001b[0m\u001b[1;33m,\u001b[0m \u001b[0mi\u001b[0m\u001b[1;33m,\u001b[0m \u001b[0moffset\u001b[0m\u001b[1;33m=\u001b[0m\u001b[0moffset\u001b[0m\u001b[1;33m)\u001b[0m\u001b[1;33m\u001b[0m\u001b[1;33m\u001b[0m\u001b[0m\n\u001b[0m\u001b[0;32m   1509\u001b[0m                     \u001b[1;32mif\u001b[0m \u001b[0mupdate_data\u001b[0m\u001b[1;33m:\u001b[0m\u001b[1;33m\u001b[0m\u001b[1;33m\u001b[0m\u001b[0m\n",
      "\u001b[1;32m~\\Anaconda3\\envs\\transformers\\lib\\site-packages\\datasets\\arrow_dataset.py\u001b[0m in \u001b[0;36mapply_function_on_filtered_inputs\u001b[1;34m(inputs, indices, check_same_num_examples, offset)\u001b[0m\n\u001b[0;32m   1437\u001b[0m             processed_inputs = (\n\u001b[1;32m-> 1438\u001b[1;33m                 \u001b[0mfunction\u001b[0m\u001b[1;33m(\u001b[0m\u001b[1;33m*\u001b[0m\u001b[0mfn_args\u001b[0m\u001b[1;33m,\u001b[0m \u001b[0meffective_indices\u001b[0m\u001b[1;33m,\u001b[0m \u001b[1;33m**\u001b[0m\u001b[0mfn_kwargs\u001b[0m\u001b[1;33m)\u001b[0m \u001b[1;32mif\u001b[0m \u001b[0mwith_indices\u001b[0m \u001b[1;32melse\u001b[0m \u001b[0mfunction\u001b[0m\u001b[1;33m(\u001b[0m\u001b[1;33m*\u001b[0m\u001b[0mfn_args\u001b[0m\u001b[1;33m,\u001b[0m \u001b[1;33m**\u001b[0m\u001b[0mfn_kwargs\u001b[0m\u001b[1;33m)\u001b[0m\u001b[1;33m\u001b[0m\u001b[1;33m\u001b[0m\u001b[0m\n\u001b[0m\u001b[0;32m   1439\u001b[0m             )\n",
      "\u001b[1;32m<ipython-input-99-6d5712e4fb2d>\u001b[0m in \u001b[0;36mbuild_new_data\u001b[1;34m(example, idx)\u001b[0m\n\u001b[0;32m      9\u001b[0m     \u001b[0mabstract\u001b[0m \u001b[1;33m=\u001b[0m \u001b[0mnltk\u001b[0m\u001b[1;33m.\u001b[0m\u001b[0msent_tokenize\u001b[0m\u001b[1;33m(\u001b[0m\u001b[0mexample\u001b[0m\u001b[1;33m[\u001b[0m\u001b[1;34m'abstract'\u001b[0m\u001b[1;33m]\u001b[0m\u001b[1;33m.\u001b[0m\u001b[0mreplace\u001b[0m\u001b[1;33m(\u001b[0m\u001b[1;34m'\\n'\u001b[0m\u001b[1;33m,\u001b[0m \u001b[1;34m' '\u001b[0m\u001b[1;33m)\u001b[0m\u001b[1;33m)\u001b[0m\u001b[1;33m\u001b[0m\u001b[1;33m\u001b[0m\u001b[0m\n\u001b[1;32m---> 10\u001b[1;33m     \u001b[0mres\u001b[0m \u001b[1;33m=\u001b[0m \u001b[0mnallapati_method\u001b[0m\u001b[1;33m(\u001b[0m\u001b[0marticle\u001b[0m\u001b[1;33m,\u001b[0m \u001b[0mabstract\u001b[0m\u001b[1;33m)\u001b[0m\u001b[1;33m\u001b[0m\u001b[1;33m\u001b[0m\u001b[0m\n\u001b[0m\u001b[0;32m     11\u001b[0m     \u001b[0mexample\u001b[0m\u001b[1;33m[\u001b[0m\u001b[1;34m'labels'\u001b[0m\u001b[1;33m]\u001b[0m \u001b[1;33m=\u001b[0m \u001b[0mnp\u001b[0m\u001b[1;33m.\u001b[0m\u001b[0marray\u001b[0m\u001b[1;33m(\u001b[0m\u001b[1;33m[\u001b[0m\u001b[1;36m1\u001b[0m \u001b[1;32mif\u001b[0m \u001b[0mi\u001b[0m\u001b[1;33m+\u001b[0m\u001b[1;36m1\u001b[0m \u001b[1;32min\u001b[0m \u001b[0mres\u001b[0m\u001b[1;33m[\u001b[0m\u001b[1;36m1\u001b[0m\u001b[1;33m]\u001b[0m \u001b[1;32melse\u001b[0m \u001b[1;36m0\u001b[0m \u001b[1;32mfor\u001b[0m \u001b[0mi\u001b[0m\u001b[1;33m,\u001b[0m \u001b[0meach\u001b[0m \u001b[1;32min\u001b[0m \u001b[0menumerate\u001b[0m\u001b[1;33m(\u001b[0m\u001b[0marticle\u001b[0m\u001b[1;33m)\u001b[0m\u001b[1;33m]\u001b[0m\u001b[1;33m)\u001b[0m\u001b[1;33m\u001b[0m\u001b[1;33m\u001b[0m\u001b[0m\n",
      "\u001b[1;32m<ipython-input-73-f4a9b226a033>\u001b[0m in \u001b[0;36mnallapati_method\u001b[1;34m(article_sents, abstract_sents)\u001b[0m\n\u001b[0;32m     24\u001b[0m         \u001b[0mcandidate_summary\u001b[0m \u001b[1;33m=\u001b[0m \u001b[0mselected_summary\u001b[0m \u001b[1;33m+\u001b[0m \u001b[1;33m[\u001b[0m\u001b[0mtoprougesentences\u001b[0m\u001b[1;33m[\u001b[0m\u001b[0mtopn\u001b[0m\u001b[1;33m-\u001b[0m\u001b[1;36m1\u001b[0m\u001b[1;33m]\u001b[0m\u001b[1;33m]\u001b[0m\u001b[1;33m\u001b[0m\u001b[1;33m\u001b[0m\u001b[0m\n\u001b[1;32m---> 25\u001b[1;33m         \u001b[0mcur_score\u001b[0m\u001b[1;33m,\u001b[0m \u001b[0mcandidate_summary\u001b[0m \u001b[1;33m=\u001b[0m \u001b[0mcal_rouge\u001b[0m\u001b[1;33m(\u001b[0m\u001b[0mcandidate_summary\u001b[0m\u001b[1;33m,\u001b[0m \u001b[0marticle_sents\u001b[0m\u001b[1;33m,\u001b[0m \u001b[0mabstract_sents\u001b[0m\u001b[1;33m)\u001b[0m\u001b[1;33m\u001b[0m\u001b[1;33m\u001b[0m\u001b[0m\n\u001b[0m\u001b[0;32m     26\u001b[0m         \u001b[0mtopn\u001b[0m \u001b[1;33m+=\u001b[0m \u001b[1;36m1\u001b[0m\u001b[1;33m\u001b[0m\u001b[1;33m\u001b[0m\u001b[0m\n",
      "\u001b[1;32m~\\Desktop\\transformers\\seproj\\oracle_generator.py\u001b[0m in \u001b[0;36mcal_rouge\u001b[1;34m(fullset, sentdata, golddata)\u001b[0m\n\u001b[0;32m     16\u001b[0m     \u001b[0mrouge_2\u001b[0m \u001b[1;33m=\u001b[0m \u001b[0mrouge\u001b[0m\u001b[1;33m.\u001b[0m\u001b[0mrouge_n\u001b[0m\u001b[1;33m(\u001b[0m\u001b[0mmodel_highlights\u001b[0m\u001b[1;33m,\u001b[0m \u001b[0mgolddata\u001b[0m\u001b[1;33m,\u001b[0m \u001b[1;36m2\u001b[0m\u001b[1;33m)\u001b[0m\u001b[1;33m[\u001b[0m\u001b[1;34m'f'\u001b[0m\u001b[1;33m]\u001b[0m\u001b[1;33m\u001b[0m\u001b[1;33m\u001b[0m\u001b[0m\n\u001b[1;32m---> 17\u001b[1;33m     \u001b[0mrouge_l\u001b[0m \u001b[1;33m=\u001b[0m \u001b[0mrouge\u001b[0m\u001b[1;33m.\u001b[0m\u001b[0mrouge_l_summary_level\u001b[0m\u001b[1;33m(\u001b[0m\u001b[0mmodel_highlights\u001b[0m\u001b[1;33m,\u001b[0m \u001b[0mgolddata\u001b[0m\u001b[1;33m)\u001b[0m\u001b[1;33m[\u001b[0m\u001b[1;34m'f'\u001b[0m\u001b[1;33m]\u001b[0m\u001b[1;33m\u001b[0m\u001b[1;33m\u001b[0m\u001b[0m\n\u001b[0m\u001b[0;32m     18\u001b[0m     \u001b[0mrouge_score\u001b[0m \u001b[1;33m=\u001b[0m \u001b[1;33m(\u001b[0m\u001b[0mrouge_1\u001b[0m \u001b[1;33m+\u001b[0m \u001b[0mrouge_2\u001b[0m \u001b[1;33m+\u001b[0m \u001b[0mrouge_l\u001b[0m\u001b[1;33m)\u001b[0m\u001b[1;33m/\u001b[0m\u001b[1;36m3.0\u001b[0m\u001b[1;33m\u001b[0m\u001b[1;33m\u001b[0m\u001b[0m\n",
      "\u001b[1;32m~\\Desktop\\transformers\\seproj\\rouge.py\u001b[0m in \u001b[0;36mrouge_l_summary_level\u001b[1;34m(evaluated_sentences, reference_sentences)\u001b[0m\n\u001b[0;32m    268\u001b[0m     \u001b[1;32mfor\u001b[0m \u001b[0mref_s\u001b[0m \u001b[1;32min\u001b[0m \u001b[0mreference_sentences\u001b[0m\u001b[1;33m:\u001b[0m\u001b[1;33m\u001b[0m\u001b[1;33m\u001b[0m\u001b[0m\n\u001b[1;32m--> 269\u001b[1;33m         lcs_count, union = _union_lcs(evaluated_sentences,\n\u001b[0m\u001b[0;32m    270\u001b[0m                                       \u001b[0mref_s\u001b[0m\u001b[1;33m,\u001b[0m\u001b[1;33m\u001b[0m\u001b[1;33m\u001b[0m\u001b[0m\n",
      "\u001b[1;32m~\\Desktop\\transformers\\seproj\\rouge.py\u001b[0m in \u001b[0;36m_union_lcs\u001b[1;34m(evaluated_sentences, reference_sentence, prev_union)\u001b[0m\n\u001b[0;32m    218\u001b[0m         \u001b[0mevaluated_words\u001b[0m \u001b[1;33m=\u001b[0m \u001b[0m_split_into_words\u001b[0m\u001b[1;33m(\u001b[0m\u001b[1;33m[\u001b[0m\u001b[0meval_s\u001b[0m\u001b[1;33m]\u001b[0m\u001b[1;33m)\u001b[0m\u001b[1;33m\u001b[0m\u001b[1;33m\u001b[0m\u001b[0m\n\u001b[1;32m--> 219\u001b[1;33m         \u001b[0mlcs\u001b[0m \u001b[1;33m=\u001b[0m \u001b[0mset\u001b[0m\u001b[1;33m(\u001b[0m\u001b[0m_recon_lcs\u001b[0m\u001b[1;33m(\u001b[0m\u001b[0mreference_words\u001b[0m\u001b[1;33m,\u001b[0m \u001b[0mevaluated_words\u001b[0m\u001b[1;33m)\u001b[0m\u001b[1;33m)\u001b[0m\u001b[1;33m\u001b[0m\u001b[1;33m\u001b[0m\u001b[0m\n\u001b[0m\u001b[0;32m    220\u001b[0m         \u001b[0mcombined_lcs_length\u001b[0m \u001b[1;33m+=\u001b[0m \u001b[0mlen\u001b[0m\u001b[1;33m(\u001b[0m\u001b[0mlcs\u001b[0m\u001b[1;33m)\u001b[0m\u001b[1;33m\u001b[0m\u001b[1;33m\u001b[0m\u001b[0m\n",
      "\u001b[1;32m~\\Desktop\\transformers\\seproj\\rouge.py\u001b[0m in \u001b[0;36m_recon_lcs\u001b[1;34m(x, y)\u001b[0m\n\u001b[0;32m    120\u001b[0m     \u001b[0mi\u001b[0m\u001b[1;33m,\u001b[0m \u001b[0mj\u001b[0m \u001b[1;33m=\u001b[0m \u001b[0mlen\u001b[0m\u001b[1;33m(\u001b[0m\u001b[0mx\u001b[0m\u001b[1;33m)\u001b[0m\u001b[1;33m,\u001b[0m \u001b[0mlen\u001b[0m\u001b[1;33m(\u001b[0m\u001b[0my\u001b[0m\u001b[1;33m)\u001b[0m\u001b[1;33m\u001b[0m\u001b[1;33m\u001b[0m\u001b[0m\n\u001b[1;32m--> 121\u001b[1;33m     \u001b[0mtable\u001b[0m \u001b[1;33m=\u001b[0m \u001b[0m_lcs\u001b[0m\u001b[1;33m(\u001b[0m\u001b[0mx\u001b[0m\u001b[1;33m,\u001b[0m \u001b[0my\u001b[0m\u001b[1;33m)\u001b[0m\u001b[1;33m\u001b[0m\u001b[1;33m\u001b[0m\u001b[0m\n\u001b[0m\u001b[0;32m    122\u001b[0m \u001b[1;33m\u001b[0m\u001b[0m\n",
      "\u001b[1;32m~\\Desktop\\transformers\\seproj\\rouge.py\u001b[0m in \u001b[0;36m_lcs\u001b[1;34m(x, y)\u001b[0m\n\u001b[0;32m    103\u001b[0m             \u001b[1;32melif\u001b[0m \u001b[0mx\u001b[0m\u001b[1;33m[\u001b[0m\u001b[0mi\u001b[0m \u001b[1;33m-\u001b[0m \u001b[1;36m1\u001b[0m\u001b[1;33m]\u001b[0m \u001b[1;33m==\u001b[0m \u001b[0my\u001b[0m\u001b[1;33m[\u001b[0m\u001b[0mj\u001b[0m \u001b[1;33m-\u001b[0m \u001b[1;36m1\u001b[0m\u001b[1;33m]\u001b[0m\u001b[1;33m:\u001b[0m\u001b[1;33m\u001b[0m\u001b[1;33m\u001b[0m\u001b[0m\n\u001b[1;32m--> 104\u001b[1;33m                 \u001b[0mtable\u001b[0m\u001b[1;33m[\u001b[0m\u001b[0mi\u001b[0m\u001b[1;33m,\u001b[0m \u001b[0mj\u001b[0m\u001b[1;33m]\u001b[0m \u001b[1;33m=\u001b[0m \u001b[0mtable\u001b[0m\u001b[1;33m[\u001b[0m\u001b[0mi\u001b[0m \u001b[1;33m-\u001b[0m \u001b[1;36m1\u001b[0m\u001b[1;33m,\u001b[0m \u001b[0mj\u001b[0m \u001b[1;33m-\u001b[0m \u001b[1;36m1\u001b[0m\u001b[1;33m]\u001b[0m \u001b[1;33m+\u001b[0m \u001b[1;36m1\u001b[0m\u001b[1;33m\u001b[0m\u001b[1;33m\u001b[0m\u001b[0m\n\u001b[0m\u001b[0;32m    105\u001b[0m             \u001b[1;32melse\u001b[0m\u001b[1;33m:\u001b[0m\u001b[1;33m\u001b[0m\u001b[1;33m\u001b[0m\u001b[0m\n",
      "\u001b[1;31mKeyboardInterrupt\u001b[0m: ",
      "\nDuring handling of the above exception, another exception occurred:\n",
      "\u001b[1;31mKeyError\u001b[0m                                  Traceback (most recent call last)",
      "\u001b[1;32m<ipython-input-99-6d5712e4fb2d>\u001b[0m in \u001b[0;36m<module>\u001b[1;34m\u001b[0m\n\u001b[0;32m     14\u001b[0m     \u001b[1;32mreturn\u001b[0m \u001b[0mexample\u001b[0m\u001b[1;33m\u001b[0m\u001b[1;33m\u001b[0m\u001b[0m\n\u001b[0;32m     15\u001b[0m \u001b[1;33m\u001b[0m\u001b[0m\n\u001b[1;32m---> 16\u001b[1;33m \u001b[0mupdated_dataset\u001b[0m \u001b[1;33m=\u001b[0m \u001b[0mscientific_papers\u001b[0m\u001b[1;33m.\u001b[0m\u001b[0mmap\u001b[0m\u001b[1;33m(\u001b[0m\u001b[0mbuild_new_data\u001b[0m\u001b[1;33m,\u001b[0m \u001b[0mwith_indices\u001b[0m\u001b[1;33m=\u001b[0m\u001b[1;32mTrue\u001b[0m\u001b[1;33m)\u001b[0m\u001b[1;33m\u001b[0m\u001b[1;33m\u001b[0m\u001b[0m\n\u001b[0m",
      "\u001b[1;32m~\\Anaconda3\\envs\\transformers\\lib\\site-packages\\datasets\\dataset_dict.py\u001b[0m in \u001b[0;36mmap\u001b[1;34m(self, function, with_indices, input_columns, batched, batch_size, remove_columns, keep_in_memory, load_from_cache_file, cache_file_names, writer_batch_size, features, disable_nullable, fn_kwargs, num_proc)\u001b[0m\n\u001b[0;32m    284\u001b[0m             \u001b[0mcache_file_names\u001b[0m \u001b[1;33m=\u001b[0m \u001b[1;33m{\u001b[0m\u001b[0mk\u001b[0m\u001b[1;33m:\u001b[0m \u001b[1;32mNone\u001b[0m \u001b[1;32mfor\u001b[0m \u001b[0mk\u001b[0m \u001b[1;32min\u001b[0m \u001b[0mself\u001b[0m\u001b[1;33m}\u001b[0m\u001b[1;33m\u001b[0m\u001b[1;33m\u001b[0m\u001b[0m\n\u001b[0;32m    285\u001b[0m         return DatasetDict(\n\u001b[1;32m--> 286\u001b[1;33m             {\n\u001b[0m\u001b[0;32m    287\u001b[0m                 k: dataset.map(\n\u001b[0;32m    288\u001b[0m                     \u001b[0mfunction\u001b[0m\u001b[1;33m=\u001b[0m\u001b[0mfunction\u001b[0m\u001b[1;33m,\u001b[0m\u001b[1;33m\u001b[0m\u001b[1;33m\u001b[0m\u001b[0m\n",
      "\u001b[1;32m~\\Anaconda3\\envs\\transformers\\lib\\site-packages\\datasets\\dataset_dict.py\u001b[0m in \u001b[0;36m<dictcomp>\u001b[1;34m(.0)\u001b[0m\n\u001b[0;32m    285\u001b[0m         return DatasetDict(\n\u001b[0;32m    286\u001b[0m             {\n\u001b[1;32m--> 287\u001b[1;33m                 k: dataset.map(\n\u001b[0m\u001b[0;32m    288\u001b[0m                     \u001b[0mfunction\u001b[0m\u001b[1;33m=\u001b[0m\u001b[0mfunction\u001b[0m\u001b[1;33m,\u001b[0m\u001b[1;33m\u001b[0m\u001b[1;33m\u001b[0m\u001b[0m\n\u001b[0;32m    289\u001b[0m                     \u001b[0mwith_indices\u001b[0m\u001b[1;33m=\u001b[0m\u001b[0mwith_indices\u001b[0m\u001b[1;33m,\u001b[0m\u001b[1;33m\u001b[0m\u001b[1;33m\u001b[0m\u001b[0m\n",
      "\u001b[1;32m~\\Anaconda3\\envs\\transformers\\lib\\site-packages\\datasets\\arrow_dataset.py\u001b[0m in \u001b[0;36mmap\u001b[1;34m(self, function, with_indices, input_columns, batched, batch_size, drop_last_batch, remove_columns, keep_in_memory, load_from_cache_file, cache_file_name, writer_batch_size, features, disable_nullable, fn_kwargs, num_proc, suffix_template, new_fingerprint)\u001b[0m\n\u001b[0;32m   1241\u001b[0m \u001b[1;33m\u001b[0m\u001b[0m\n\u001b[0;32m   1242\u001b[0m         \u001b[1;32mif\u001b[0m \u001b[0mnum_proc\u001b[0m \u001b[1;32mis\u001b[0m \u001b[1;32mNone\u001b[0m \u001b[1;32mor\u001b[0m \u001b[0mnum_proc\u001b[0m \u001b[1;33m==\u001b[0m \u001b[1;36m1\u001b[0m\u001b[1;33m:\u001b[0m\u001b[1;33m\u001b[0m\u001b[1;33m\u001b[0m\u001b[0m\n\u001b[1;32m-> 1243\u001b[1;33m             return self._map_single(\n\u001b[0m\u001b[0;32m   1244\u001b[0m                 \u001b[0mfunction\u001b[0m\u001b[1;33m=\u001b[0m\u001b[0mfunction\u001b[0m\u001b[1;33m,\u001b[0m\u001b[1;33m\u001b[0m\u001b[1;33m\u001b[0m\u001b[0m\n\u001b[0;32m   1245\u001b[0m                 \u001b[0mwith_indices\u001b[0m\u001b[1;33m=\u001b[0m\u001b[0mwith_indices\u001b[0m\u001b[1;33m,\u001b[0m\u001b[1;33m\u001b[0m\u001b[1;33m\u001b[0m\u001b[0m\n",
      "\u001b[1;32m~\\Anaconda3\\envs\\transformers\\lib\\site-packages\\datasets\\arrow_dataset.py\u001b[0m in \u001b[0;36mwrapper\u001b[1;34m(*args, **kwargs)\u001b[0m\n\u001b[0;32m    155\u001b[0m         }\n\u001b[0;32m    156\u001b[0m         \u001b[1;31m# apply actual function\u001b[0m\u001b[1;33m\u001b[0m\u001b[1;33m\u001b[0m\u001b[1;33m\u001b[0m\u001b[0m\n\u001b[1;32m--> 157\u001b[1;33m         \u001b[0mout\u001b[0m\u001b[1;33m:\u001b[0m \u001b[0mUnion\u001b[0m\u001b[1;33m[\u001b[0m\u001b[1;34m\"Dataset\"\u001b[0m\u001b[1;33m,\u001b[0m \u001b[1;34m\"DatasetDict\"\u001b[0m\u001b[1;33m]\u001b[0m \u001b[1;33m=\u001b[0m \u001b[0mfunc\u001b[0m\u001b[1;33m(\u001b[0m\u001b[0mself\u001b[0m\u001b[1;33m,\u001b[0m \u001b[1;33m*\u001b[0m\u001b[0margs\u001b[0m\u001b[1;33m,\u001b[0m \u001b[1;33m**\u001b[0m\u001b[0mkwargs\u001b[0m\u001b[1;33m)\u001b[0m\u001b[1;33m\u001b[0m\u001b[1;33m\u001b[0m\u001b[0m\n\u001b[0m\u001b[0;32m    158\u001b[0m         \u001b[0mdatasets\u001b[0m\u001b[1;33m:\u001b[0m \u001b[0mList\u001b[0m\u001b[1;33m[\u001b[0m\u001b[1;34m\"Dataset\"\u001b[0m\u001b[1;33m]\u001b[0m \u001b[1;33m=\u001b[0m \u001b[0mlist\u001b[0m\u001b[1;33m(\u001b[0m\u001b[0mout\u001b[0m\u001b[1;33m.\u001b[0m\u001b[0mvalues\u001b[0m\u001b[1;33m(\u001b[0m\u001b[1;33m)\u001b[0m\u001b[1;33m)\u001b[0m \u001b[1;32mif\u001b[0m \u001b[0misinstance\u001b[0m\u001b[1;33m(\u001b[0m\u001b[0mout\u001b[0m\u001b[1;33m,\u001b[0m \u001b[0mdict\u001b[0m\u001b[1;33m)\u001b[0m \u001b[1;32melse\u001b[0m \u001b[1;33m[\u001b[0m\u001b[0mout\u001b[0m\u001b[1;33m]\u001b[0m\u001b[1;33m\u001b[0m\u001b[1;33m\u001b[0m\u001b[0m\n\u001b[0;32m    159\u001b[0m         \u001b[1;31m# re-apply format to the output\u001b[0m\u001b[1;33m\u001b[0m\u001b[1;33m\u001b[0m\u001b[1;33m\u001b[0m\u001b[0m\n",
      "\u001b[1;32m~\\Anaconda3\\envs\\transformers\\lib\\site-packages\\datasets\\fingerprint.py\u001b[0m in \u001b[0;36mwrapper\u001b[1;34m(*args, **kwargs)\u001b[0m\n\u001b[0;32m    161\u001b[0m             \u001b[1;31m# Call actual function\u001b[0m\u001b[1;33m\u001b[0m\u001b[1;33m\u001b[0m\u001b[1;33m\u001b[0m\u001b[0m\n\u001b[0;32m    162\u001b[0m \u001b[1;33m\u001b[0m\u001b[0m\n\u001b[1;32m--> 163\u001b[1;33m             \u001b[0mout\u001b[0m \u001b[1;33m=\u001b[0m \u001b[0mfunc\u001b[0m\u001b[1;33m(\u001b[0m\u001b[0mself\u001b[0m\u001b[1;33m,\u001b[0m \u001b[1;33m*\u001b[0m\u001b[0margs\u001b[0m\u001b[1;33m,\u001b[0m \u001b[1;33m**\u001b[0m\u001b[0mkwargs\u001b[0m\u001b[1;33m)\u001b[0m\u001b[1;33m\u001b[0m\u001b[1;33m\u001b[0m\u001b[0m\n\u001b[0m\u001b[0;32m    164\u001b[0m \u001b[1;33m\u001b[0m\u001b[0m\n\u001b[0;32m    165\u001b[0m             \u001b[1;31m# Update fingerprint of in-place transforms + update in-place history of transforms\u001b[0m\u001b[1;33m\u001b[0m\u001b[1;33m\u001b[0m\u001b[1;33m\u001b[0m\u001b[0m\n",
      "\u001b[1;32m~\\Anaconda3\\envs\\transformers\\lib\\site-packages\\datasets\\arrow_dataset.py\u001b[0m in \u001b[0;36m_map_single\u001b[1;34m(self, function, with_indices, input_columns, batched, batch_size, drop_last_batch, remove_columns, keep_in_memory, load_from_cache_file, cache_file_name, writer_batch_size, features, disable_nullable, fn_kwargs, new_fingerprint, rank, offset, update_data)\u001b[0m\n\u001b[0;32m   1531\u001b[0m         \u001b[1;32mexcept\u001b[0m \u001b[1;33m(\u001b[0m\u001b[0mException\u001b[0m\u001b[1;33m,\u001b[0m \u001b[0mKeyboardInterrupt\u001b[0m\u001b[1;33m)\u001b[0m\u001b[1;33m:\u001b[0m\u001b[1;33m\u001b[0m\u001b[1;33m\u001b[0m\u001b[0m\n\u001b[0;32m   1532\u001b[0m             \u001b[1;32mif\u001b[0m \u001b[0mupdate_data\u001b[0m\u001b[1;33m:\u001b[0m\u001b[1;33m\u001b[0m\u001b[1;33m\u001b[0m\u001b[0m\n\u001b[1;32m-> 1533\u001b[1;33m                 \u001b[0mwriter\u001b[0m\u001b[1;33m.\u001b[0m\u001b[0mfinalize\u001b[0m\u001b[1;33m(\u001b[0m\u001b[1;33m)\u001b[0m\u001b[1;33m\u001b[0m\u001b[1;33m\u001b[0m\u001b[0m\n\u001b[0m\u001b[0;32m   1534\u001b[0m             \u001b[1;32mif\u001b[0m \u001b[0mupdate_data\u001b[0m \u001b[1;32mand\u001b[0m \u001b[0mtmp_file\u001b[0m \u001b[1;32mis\u001b[0m \u001b[1;32mnot\u001b[0m \u001b[1;32mNone\u001b[0m\u001b[1;33m:\u001b[0m\u001b[1;33m\u001b[0m\u001b[1;33m\u001b[0m\u001b[0m\n\u001b[0;32m   1535\u001b[0m                 \u001b[0mtmp_file\u001b[0m\u001b[1;33m.\u001b[0m\u001b[0mclose\u001b[0m\u001b[1;33m(\u001b[0m\u001b[1;33m)\u001b[0m\u001b[1;33m\u001b[0m\u001b[1;33m\u001b[0m\u001b[0m\n",
      "\u001b[1;32m~\\Anaconda3\\envs\\transformers\\lib\\site-packages\\datasets\\arrow_writer.py\u001b[0m in \u001b[0;36mfinalize\u001b[1;34m(self, close_stream)\u001b[0m\n\u001b[0;32m    297\u001b[0m \u001b[1;33m\u001b[0m\u001b[0m\n\u001b[0;32m    298\u001b[0m     \u001b[1;32mdef\u001b[0m \u001b[0mfinalize\u001b[0m\u001b[1;33m(\u001b[0m\u001b[0mself\u001b[0m\u001b[1;33m,\u001b[0m \u001b[0mclose_stream\u001b[0m\u001b[1;33m=\u001b[0m\u001b[1;32mTrue\u001b[0m\u001b[1;33m)\u001b[0m\u001b[1;33m:\u001b[0m\u001b[1;33m\u001b[0m\u001b[1;33m\u001b[0m\u001b[0m\n\u001b[1;32m--> 299\u001b[1;33m         \u001b[0mself\u001b[0m\u001b[1;33m.\u001b[0m\u001b[0mwrite_on_file\u001b[0m\u001b[1;33m(\u001b[0m\u001b[1;33m)\u001b[0m\u001b[1;33m\u001b[0m\u001b[1;33m\u001b[0m\u001b[0m\n\u001b[0m\u001b[0;32m    300\u001b[0m         \u001b[1;32mif\u001b[0m \u001b[0mself\u001b[0m\u001b[1;33m.\u001b[0m\u001b[0mpa_writer\u001b[0m \u001b[1;32mis\u001b[0m \u001b[1;32mNone\u001b[0m\u001b[1;33m:\u001b[0m\u001b[1;33m\u001b[0m\u001b[1;33m\u001b[0m\u001b[0m\n\u001b[0;32m    301\u001b[0m             \u001b[1;32mif\u001b[0m \u001b[0mself\u001b[0m\u001b[1;33m.\u001b[0m\u001b[0m_schema\u001b[0m \u001b[1;32mis\u001b[0m \u001b[1;32mnot\u001b[0m \u001b[1;32mNone\u001b[0m\u001b[1;33m:\u001b[0m\u001b[1;33m\u001b[0m\u001b[1;33m\u001b[0m\u001b[0m\n",
      "\u001b[1;32m~\\Anaconda3\\envs\\transformers\\lib\\site-packages\\datasets\\arrow_writer.py\u001b[0m in \u001b[0;36mwrite_on_file\u001b[1;34m(self)\u001b[0m\n\u001b[0;32m    228\u001b[0m             \u001b[0mcol_try_type\u001b[0m \u001b[1;33m=\u001b[0m \u001b[0mtry_schema\u001b[0m\u001b[1;33m.\u001b[0m\u001b[0mfield\u001b[0m\u001b[1;33m(\u001b[0m\u001b[0mcol\u001b[0m\u001b[1;33m)\u001b[0m\u001b[1;33m.\u001b[0m\u001b[0mtype\u001b[0m \u001b[1;32mif\u001b[0m \u001b[0mtry_schema\u001b[0m \u001b[1;32mis\u001b[0m \u001b[1;32mnot\u001b[0m \u001b[1;32mNone\u001b[0m \u001b[1;32mand\u001b[0m \u001b[0mcol\u001b[0m \u001b[1;32min\u001b[0m \u001b[0mtry_schema\u001b[0m\u001b[1;33m.\u001b[0m\u001b[0mnames\u001b[0m \u001b[1;32melse\u001b[0m \u001b[1;32mNone\u001b[0m\u001b[1;33m\u001b[0m\u001b[1;33m\u001b[0m\u001b[0m\n\u001b[0;32m    229\u001b[0m             typed_sequence = TypedSequence(\n\u001b[1;32m--> 230\u001b[1;33m                 \u001b[1;33m[\u001b[0m\u001b[0mrow\u001b[0m\u001b[1;33m[\u001b[0m\u001b[0mcol\u001b[0m\u001b[1;33m]\u001b[0m \u001b[1;32mfor\u001b[0m \u001b[0mrow\u001b[0m \u001b[1;32min\u001b[0m \u001b[0mself\u001b[0m\u001b[1;33m.\u001b[0m\u001b[0mcurrent_rows\u001b[0m\u001b[1;33m]\u001b[0m\u001b[1;33m,\u001b[0m \u001b[0mtype\u001b[0m\u001b[1;33m=\u001b[0m\u001b[0mcol_type\u001b[0m\u001b[1;33m,\u001b[0m \u001b[0mtry_type\u001b[0m\u001b[1;33m=\u001b[0m\u001b[0mcol_try_type\u001b[0m\u001b[1;33m\u001b[0m\u001b[1;33m\u001b[0m\u001b[0m\n\u001b[0m\u001b[0;32m    231\u001b[0m             )\n\u001b[0;32m    232\u001b[0m             \u001b[0mpa_array\u001b[0m \u001b[1;33m=\u001b[0m \u001b[0mpa\u001b[0m\u001b[1;33m.\u001b[0m\u001b[0marray\u001b[0m\u001b[1;33m(\u001b[0m\u001b[0mtyped_sequence\u001b[0m\u001b[1;33m)\u001b[0m\u001b[1;33m\u001b[0m\u001b[1;33m\u001b[0m\u001b[0m\n",
      "\u001b[1;32m~\\Anaconda3\\envs\\transformers\\lib\\site-packages\\datasets\\arrow_writer.py\u001b[0m in \u001b[0;36m<listcomp>\u001b[1;34m(.0)\u001b[0m\n\u001b[0;32m    228\u001b[0m             \u001b[0mcol_try_type\u001b[0m \u001b[1;33m=\u001b[0m \u001b[0mtry_schema\u001b[0m\u001b[1;33m.\u001b[0m\u001b[0mfield\u001b[0m\u001b[1;33m(\u001b[0m\u001b[0mcol\u001b[0m\u001b[1;33m)\u001b[0m\u001b[1;33m.\u001b[0m\u001b[0mtype\u001b[0m \u001b[1;32mif\u001b[0m \u001b[0mtry_schema\u001b[0m \u001b[1;32mis\u001b[0m \u001b[1;32mnot\u001b[0m \u001b[1;32mNone\u001b[0m \u001b[1;32mand\u001b[0m \u001b[0mcol\u001b[0m \u001b[1;32min\u001b[0m \u001b[0mtry_schema\u001b[0m\u001b[1;33m.\u001b[0m\u001b[0mnames\u001b[0m \u001b[1;32melse\u001b[0m \u001b[1;32mNone\u001b[0m\u001b[1;33m\u001b[0m\u001b[1;33m\u001b[0m\u001b[0m\n\u001b[0;32m    229\u001b[0m             typed_sequence = TypedSequence(\n\u001b[1;32m--> 230\u001b[1;33m                 \u001b[1;33m[\u001b[0m\u001b[0mrow\u001b[0m\u001b[1;33m[\u001b[0m\u001b[0mcol\u001b[0m\u001b[1;33m]\u001b[0m \u001b[1;32mfor\u001b[0m \u001b[0mrow\u001b[0m \u001b[1;32min\u001b[0m \u001b[0mself\u001b[0m\u001b[1;33m.\u001b[0m\u001b[0mcurrent_rows\u001b[0m\u001b[1;33m]\u001b[0m\u001b[1;33m,\u001b[0m \u001b[0mtype\u001b[0m\u001b[1;33m=\u001b[0m\u001b[0mcol_type\u001b[0m\u001b[1;33m,\u001b[0m \u001b[0mtry_type\u001b[0m\u001b[1;33m=\u001b[0m\u001b[0mcol_try_type\u001b[0m\u001b[1;33m\u001b[0m\u001b[1;33m\u001b[0m\u001b[0m\n\u001b[0m\u001b[0;32m    231\u001b[0m             )\n\u001b[0;32m    232\u001b[0m             \u001b[0mpa_array\u001b[0m \u001b[1;33m=\u001b[0m \u001b[0mpa\u001b[0m\u001b[1;33m.\u001b[0m\u001b[0marray\u001b[0m\u001b[1;33m(\u001b[0m\u001b[0mtyped_sequence\u001b[0m\u001b[1;33m)\u001b[0m\u001b[1;33m\u001b[0m\u001b[1;33m\u001b[0m\u001b[0m\n",
      "\u001b[1;31mKeyError\u001b[0m: 'article_sents'"
     ]
    }
   ],
   "source": [
    "omit =sorted(pickle.load(open(\"omit.p\", 'rb')))\n",
    "model = SentenceTransformer('paraphrase-distilroberta-base-v1')\n",
    "def build_new_data(example, idx):\n",
    "    global omit\n",
    "    if idx == omit[0]:\n",
    "        omit = omit[1:]\n",
    "        return {}\n",
    "    article = list(dict.fromkeys(nltk.sent_tokenize(example['article'].replace('\\n', ' '))))\n",
    "    abstract = nltk.sent_tokenize(example['abstract'].replace('\\n', ' '))\n",
    "    res = nallapati_method(article, abstract)\n",
    "    example['labels'] = np.array([1 if i+1 in res[1] else 0 for i, each in enumerate(article)])\n",
    "    example['embeddings'] = model.encode(article, convert_to_tensor=True)\n",
    "    example['article_sents'] = article\n",
    "    return example\n",
    "\n",
    "updated_dataset = scientific_papers.map(build_new_data, with_indices=True)\n"
   ]
  },
  {
   "cell_type": "code",
   "execution_count": 52,
   "metadata": {
    "scrolled": true
   },
   "outputs": [
    {
     "name": "stdout",
     "output_type": "stream",
     "text": [
      "[' conversion disorders are more prevalent in childhood and adolescence , especially in females .', 'they are usually associated with stressors and symptoms usually reflect a means to avoid the stressor , or also with a primary and secondary gain .', 'this case report involves a similar situation where a young girl was treated successfully with diazepam , therapeutic nerve conduction study , and behavioral psychotherapy .']\n"
     ]
    }
   ],
   "source": [
    "print(abstract)"
   ]
  },
  {
   "cell_type": "code",
   "execution_count": 54,
   "metadata": {},
   "outputs": [
    {
     "data": {
      "text/plain": [
       "1352.8"
      ]
     },
     "execution_count": 54,
     "metadata": {},
     "output_type": "execute_result"
    }
   ],
   "source": [
    "len(scientific_papers['train'][202]['article'].replace('\\n', ' '))/5"
   ]
  }
 ],
 "metadata": {
  "kernelspec": {
   "display_name": "Python 3",
   "language": "python",
   "name": "python3"
  },
  "language_info": {
   "codemirror_mode": {
    "name": "ipython",
    "version": 3
   },
   "file_extension": ".py",
   "mimetype": "text/x-python",
   "name": "python",
   "nbconvert_exporter": "python",
   "pygments_lexer": "ipython3",
   "version": "3.8.5"
  }
 },
 "nbformat": 4,
 "nbformat_minor": 4
}
